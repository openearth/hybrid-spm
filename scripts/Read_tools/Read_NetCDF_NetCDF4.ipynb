{
 "cells": [
  {
   "cell_type": "code",
   "execution_count": 59,
   "id": "8eff8972",
   "metadata": {},
   "outputs": [],
   "source": [
    "#Read files with NetCDF\n",
    "#https://towardsdatascience.com/read-netcdf-data-with-python-901f7ff61648\n",
    "#https://towardsdatascience.com/read-netcdf-data-with-python-901f7ff61648\n",
    "#https://opensourceoptions.com/blog/a-better-way-to-read-netcdf-with-python-rioxarray/\n",
    "#https://unidata.github.io/netcdf4-python/#attributes-in-a-netcdf-file"
   ]
  },
  {
   "cell_type": "code",
   "execution_count": 2,
   "id": "a020707c",
   "metadata": {},
   "outputs": [
    {
     "name": "stdout",
     "output_type": "stream",
     "text": [
      "Requirement already satisfied: netCDF4 in c:\\users\\fuentesm\\anaconda3\\envs\\eshape\\lib\\site-packages (1.5.6)\n",
      "Requirement already satisfied: numpy>=1.9 in c:\\users\\fuentesm\\anaconda3\\envs\\eshape\\lib\\site-packages (from netCDF4) (1.19.5)\n",
      "Requirement already satisfied: cftime in c:\\users\\fuentesm\\anaconda3\\envs\\eshape\\lib\\site-packages (from netCDF4) (1.6.0)\n"
     ]
    }
   ],
   "source": [
    "#!pip install netCDF4"
   ]
  },
  {
   "cell_type": "code",
   "execution_count": 4,
   "id": "a28526be",
   "metadata": {},
   "outputs": [],
   "source": [
    "import netCDF4 as nc\n",
    "import os"
   ]
  },
  {
   "cell_type": "code",
   "execution_count": 5,
   "id": "c4192fb1",
   "metadata": {},
   "outputs": [],
   "source": [
    "from sys import platform\n",
    "if platform == 'linux':\n",
    "    cms = nc.Dataset(\n",
    "        r\"/p/11206887-012-sito-is-2021-so-et-es/Data/CMEMS_Satellite_100mx100m/merged_2015-2020/2015_2020_P1D_HROC_L3-transp_NWS_31_32ULE_100m-v01.nc\")\n",
    "    dfm = nc.Dataset(\n",
    "        r\"/p/11206887-012-sito-is-2021-so-et-es/Data/DFM_DWSM-FM_100m/Postprocessing_maps/DWSM-FM_100m_0000_map_regular_500_400_allvars.nc\")\n",
    "    opath = r\"/p/11206887-012-sito-is-2021-so-et-es/Analysis/Plots/Compare_CMEMS100m_Model100m/spatial-comparison\"\n",
    "else:\n",
    "    cms = nc.Dataset(\n",
    "        r\"p:\\11206887-012-sito-is-2021-so-et-es\\Data\\CMEMS_Satellite_100mx100m\\merged_2015-2020\\2015_2020_P1D_HROC_L3-transp_NWS_31_32ULE_100m-v01.nc\")\n",
    "    dfm = nc.Dataset(\n",
    "        r\"P:\\11206887-012-sito-is-2021-so-et-es\\Data\\DFM_DWSM-FM_100m\\Postprocessing_maps\\DWSM-FM_100m_0000_map_regular_500_400_allvars.nc\")\n",
    "    opath = r\"P:\\11206887-012-sito-is-2021-so-et-es\\Analysis\\Plots\\Compare_CMEMS100m_Model100m\\spatial-comparison\"\n"
   ]
  },
  {
   "cell_type": "code",
   "execution_count": 9,
   "id": "521b0592",
   "metadata": {},
   "outputs": [
    {
     "name": "stdout",
     "output_type": "stream",
     "text": [
      "<class 'netCDF4._netCDF4.Dimension'>: name = 'lon', size = 1960\n",
      "<class 'netCDF4._netCDF4.Dimension'>: name = 'lat', size = 1353\n",
      "<class 'netCDF4._netCDF4.Dimension'>: name = 'time', size = 844\n"
     ]
    }
   ],
   "source": [
    "for dim in cms.dimensions.values():\n",
    "    print(dim)"
   ]
  },
  {
   "cell_type": "code",
   "execution_count": 10,
   "id": "422cb478",
   "metadata": {},
   "outputs": [],
   "source": [
    "time = cms.dimensions['time']"
   ]
  },
  {
   "cell_type": "code",
   "execution_count": 11,
   "id": "90e6bd47",
   "metadata": {},
   "outputs": [
    {
     "data": {
      "text/plain": [
       "<class 'netCDF4._netCDF4.Dimension'>: name = 'time', size = 844"
      ]
     },
     "execution_count": 11,
     "metadata": {},
     "output_type": "execute_result"
    }
   ],
   "source": [
    "time"
   ]
  },
  {
   "cell_type": "code",
   "execution_count": 16,
   "id": "d3de5b21",
   "metadata": {
    "scrolled": true
   },
   "outputs": [
    {
     "name": "stdout",
     "output_type": "stream",
     "text": [
      "<class 'netCDF4._netCDF4.Variable'>\n",
      "float64 lon(lon)\n",
      "    _FillValue: nan\n",
      "    units: degrees_east\n",
      "    long_name: longitude\n",
      "    standard_name: longitude\n",
      "    valid_min: 5.940775681341726\n",
      "    valid_max: 7.651118099231313\n",
      "unlimited dimensions: \n",
      "current shape = (1960,)\n",
      "filling on\n",
      "<class 'netCDF4._netCDF4.Variable'>\n",
      "float64 lat(lat)\n",
      "    _FillValue: nan\n",
      "    units: degrees_north\n",
      "    long_name: latitude\n",
      "    standard_name: latitude\n",
      "    valid_min: 53.12361111111111\n",
      "    valid_max: 54.140277777777776\n",
      "unlimited dimensions: \n",
      "current shape = (1353,)\n",
      "filling on\n",
      "<class 'netCDF4._netCDF4.Variable'>\n",
      "int64 time(time)\n",
      "    standard_name: time\n",
      "    axis: T\n",
      "    units: days since 2015-07-06\n",
      "    calendar: proleptic_gregorian\n",
      "unlimited dimensions: \n",
      "current shape = (844,)\n",
      "filling on, default _FillValue of -9223372036854775806 used\n",
      "<class 'netCDF4._netCDF4.Variable'>\n",
      "float32 SPM(time, lat, lon)\n",
      "    _FillValue: nan\n",
      "    long_name: Suspended Particulate Matter derived from MSI L2R using HR-OC L2W processor\n",
      "    standard_name: mass_concentration_of_suspended_matter_in_sea_water\n",
      "    units: g m-3\n",
      "    valid_min: 0.0\n",
      "unlimited dimensions: \n",
      "current shape = (844, 1353, 1960)\n",
      "filling on\n"
     ]
    }
   ],
   "source": [
    "for var in cms.variables.values():\n",
    "    print(var)"
   ]
  },
  {
   "cell_type": "code",
   "execution_count": 57,
   "id": "399eed75",
   "metadata": {},
   "outputs": [
    {
     "data": {
      "text/plain": [
       "<class 'netCDF4._netCDF4.Variable'>\n",
       "float32 SPM(time, lat, lon)\n",
       "    _FillValue: nan\n",
       "    long_name: Suspended Particulate Matter derived from MSI L2R using HR-OC L2W processor\n",
       "    standard_name: mass_concentration_of_suspended_matter_in_sea_water\n",
       "    units: g m-3\n",
       "    valid_min: 0.0\n",
       "unlimited dimensions: \n",
       "current shape = (844, 1353, 1960)\n",
       "filling on"
      ]
     },
     "execution_count": 57,
     "metadata": {},
     "output_type": "execute_result"
    }
   ],
   "source": [
    "cms['SPM']"
   ]
  },
  {
   "cell_type": "code",
   "execution_count": 52,
   "id": "f38a80f4",
   "metadata": {},
   "outputs": [
    {
     "data": {
      "text/plain": [
       "<class 'netCDF4._netCDF4.Variable'>\n",
       "int64 time(time)\n",
       "    standard_name: time\n",
       "    axis: T\n",
       "    units: days since 2015-07-06\n",
       "    calendar: proleptic_gregorian\n",
       "unlimited dimensions: \n",
       "current shape = (844,)\n",
       "filling on, default _FillValue of -9223372036854775806 used"
      ]
     },
     "execution_count": 52,
     "metadata": {},
     "output_type": "execute_result"
    }
   ],
   "source": [
    "cms['time']"
   ]
  },
  {
   "cell_type": "code",
   "execution_count": 47,
   "id": "73459d71",
   "metadata": {},
   "outputs": [],
   "source": [
    "SPM   = cms['SPM'][:2, 1000:1005, 1000:1005]"
   ]
  },
  {
   "cell_type": "code",
   "execution_count": 44,
   "id": "760d0849",
   "metadata": {},
   "outputs": [
    {
     "data": {
      "text/plain": [
       "masked_array(\n",
       "  data=[[[--, --, --, --, --],\n",
       "         [--, --, --, --, --],\n",
       "         [--, --, --, --, --],\n",
       "         [--, --, --, --, --],\n",
       "         [--, --, --, --, --]]],\n",
       "  mask=[[[ True,  True,  True,  True,  True],\n",
       "         [ True,  True,  True,  True,  True],\n",
       "         [ True,  True,  True,  True,  True],\n",
       "         [ True,  True,  True,  True,  True],\n",
       "         [ True,  True,  True,  True,  True]]],\n",
       "  fill_value=nan,\n",
       "  dtype=float32)"
      ]
     },
     "execution_count": 44,
     "metadata": {},
     "output_type": "execute_result"
    }
   ],
   "source": [
    "SPM "
   ]
  },
  {
   "cell_type": "code",
   "execution_count": 55,
   "id": "43a5634f",
   "metadata": {},
   "outputs": [],
   "source": [
    "Dates = cms['time'][0:20,]"
   ]
  },
  {
   "cell_type": "code",
   "execution_count": 56,
   "id": "caf98a4d",
   "metadata": {},
   "outputs": [
    {
     "data": {
      "text/plain": [
       "masked_array(data=[  0,  10,  20,  27,  30,  37,  40,  47,  50,  60,  67,\n",
       "                    70,  80,  87, 107, 130, 137, 147, 150, 170],\n",
       "             mask=False,\n",
       "       fill_value=999999,\n",
       "            dtype=int64)"
      ]
     },
     "execution_count": 56,
     "metadata": {},
     "output_type": "execute_result"
    }
   ],
   "source": [
    "Dates"
   ]
  },
  {
   "cell_type": "code",
   "execution_count": null,
   "id": "ee3dc396",
   "metadata": {},
   "outputs": [],
   "source": [
    "#LON   = cms['lon'][:]"
   ]
  },
  {
   "cell_type": "code",
   "execution_count": null,
   "id": "f15141e0",
   "metadata": {},
   "outputs": [],
   "source": [
    "#LON   = cms['lat'][:]"
   ]
  },
  {
   "cell_type": "code",
   "execution_count": 48,
   "id": "a2c2728d",
   "metadata": {},
   "outputs": [
    {
     "name": "stdout",
     "output_type": "stream",
     "text": [
      "<class 'netCDF4._netCDF4.Variable'>\n",
      "float32 lon(lon)\n",
      "    axis: X\n",
      "    reference: geographical coordinates, WGS84 projection\n",
      "    units: degrees_east\n",
      "    _CoordinateAxisType: Lon\n",
      "    long_name: longitude\n",
      "    valid_max: 180\n",
      "    valid_min: -180\n",
      "unlimited dimensions: \n",
      "current shape = (500,)\n",
      "filling on, default _FillValue of 9.969209968386869e+36 used\n",
      "<class 'netCDF4._netCDF4.Variable'>\n",
      "float32 lat(lat)\n",
      "    axis: Y\n",
      "    reference: geographical coordinates, WGS84 projection\n",
      "    units: degrees_north\n",
      "    _CoordinateAxisType: Lat\n",
      "    long_name: latitude\n",
      "    valid_max: 90\n",
      "    valid_min: -90\n",
      "unlimited dimensions: \n",
      "current shape = (400,)\n",
      "filling on, default _FillValue of 9.969209968386869e+36 used\n",
      "<class 'netCDF4._netCDF4.Variable'>\n",
      "float32 layer(layer)\n",
      "    axis: Z\n",
      "    reference: geographical coordinates, WGS84 projection\n",
      "    units: m\n",
      "    _CoordinateZisPositive: down\n",
      "    _CoordinateAxisType: Height\n",
      "    long_name: Depth\n",
      "unlimited dimensions: \n",
      "current shape = (1,)\n",
      "filling on, default _FillValue of 9.969209968386869e+36 used\n",
      "<class 'netCDF4._netCDF4.Variable'>\n",
      "float64 time(time)\n",
      "    units: seconds since 2011-12-22 00:00:00 +00:00\n",
      "    calendar: standard\n",
      "    long_name: time\n",
      "    _CoordinateAxisType: Time\n",
      "unlimited dimensions: time\n",
      "current shape = (366,)\n",
      "filling on, default _FillValue of 9.969209968386869e+36 used\n",
      "<class 'netCDF4._netCDF4.Variable'>\n",
      "float64 mesh2d_sa1(time, lat, lon, layer)\n",
      "    _FillValue: -999.0\n",
      "    mesh: mesh2d\n",
      "    location: face\n",
      "    coordinates: mesh2d_face_x mesh2d_face_y\n",
      "    cell_methods: mesh2d_nFaces: mean\n",
      "    standard_name: sea_water_salinity\n",
      "    long_name: Salinity in flow element\n",
      "    units: 1e-3\n",
      "    grid_mapping: wgs84\n",
      "unlimited dimensions: time\n",
      "current shape = (366, 400, 500, 1)\n",
      "filling on\n",
      "<class 'netCDF4._netCDF4.Variable'>\n",
      "float64 mesh2d_tem1(time, lat, lon, layer)\n",
      "    _FillValue: -999.0\n",
      "    mesh: mesh2d\n",
      "    location: face\n",
      "    coordinates: mesh2d_face_x mesh2d_face_y\n",
      "    cell_methods: mesh2d_nFaces: mean\n",
      "    standard_name: sea_water_temperature\n",
      "    long_name: Temperature in flow element\n",
      "    units: degC\n",
      "    grid_mapping: wgs84\n",
      "unlimited dimensions: time\n",
      "current shape = (366, 400, 500, 1)\n",
      "filling on\n",
      "<class 'netCDF4._netCDF4.Variable'>\n",
      "float64 mesh2d_water_quality_output_9(time, lat, lon, layer)\n",
      "    _FillValue: -999.0\n",
      "    mesh: mesh2d\n",
      "    location: face\n",
      "    coordinates: mesh2d_face_x mesh2d_face_y\n",
      "    cell_methods: mesh2d_nFaces: mean\n",
      "    long_name: TIM\n",
      "    units: (gDM/m3)\n",
      "    grid_mapping: wgs84\n",
      "    description: TIM - total inorganic matter (gDM/m3) in flow element\n",
      "unlimited dimensions: time\n",
      "current shape = (366, 400, 500, 1)\n",
      "filling on\n",
      "<class 'netCDF4._netCDF4.Variable'>\n",
      "float32 mesh2d_waterdepth(time, lat, lon)\n",
      "    _FillValue: -999.0\n",
      "    mesh: mesh2d\n",
      "    location: face\n",
      "    coordinates: mesh2d_face_x mesh2d_face_y\n",
      "    cell_methods: mesh2d_nFaces: mean\n",
      "    cell_measures: area: mesh2d_flowelem_ba\n",
      "    standard_name: sea_floor_depth_below_sea_surface\n",
      "    long_name: Water depth at pressure points\n",
      "    units: m\n",
      "    grid_mapping: wgs84\n",
      "unlimited dimensions: time\n",
      "current shape = (366, 400, 500)\n",
      "filling on\n",
      "<class 'netCDF4._netCDF4.Variable'>\n",
      "float32 mesh2d_ucmaga(time, lat, lon)\n",
      "    _FillValue: -999.0\n",
      "    mesh: mesh2d\n",
      "    location: face\n",
      "    coordinates: mesh2d_face_x mesh2d_face_y\n",
      "    cell_methods: mesh2d_nFaces: mean\n",
      "    cell_measures: area: mesh2d_flowelem_ba\n",
      "    standard_name: sea_water_speed\n",
      "    long_name: Flow element center depth-averaged velocity magnitude\n",
      "    units: m s-1\n",
      "    grid_mapping: wgs84\n",
      "unlimited dimensions: time\n",
      "current shape = (366, 400, 500)\n",
      "filling on\n",
      "<class 'netCDF4._netCDF4.Variable'>\n",
      "float32 mesh2d_Patm(time, lat, lon)\n",
      "    _FillValue: -999.0\n",
      "    mesh: mesh2d\n",
      "    location: face\n",
      "    coordinates: mesh2d_face_x mesh2d_face_y\n",
      "    cell_methods: mesh2d_nFaces: mean\n",
      "    cell_measures: area: mesh2d_flowelem_ba\n",
      "    standard_name: surface_air_pressure\n",
      "    long_name: Atmospheric pressure near surface\n",
      "    units: N m-2\n",
      "    grid_mapping: wgs84\n",
      "unlimited dimensions: time\n",
      "current shape = (366, 400, 500)\n",
      "filling on\n",
      "<class 'netCDF4._netCDF4.Variable'>\n",
      "float32 mesh2d_hwav(time, lat, lon)\n",
      "    _FillValue: -999.0\n",
      "    mesh: mesh2d\n",
      "    location: face\n",
      "    coordinates: mesh2d_face_x mesh2d_face_y\n",
      "    cell_methods: mesh2d_nFaces: mean\n",
      "    cell_measures: area: mesh2d_flowelem_ba\n",
      "    standard_name: sea_surface_wave_significant_wave_height\n",
      "    long_name: Significant wave height\n",
      "    units: m\n",
      "    grid_mapping: wgs84\n",
      "unlimited dimensions: time\n",
      "current shape = (366, 400, 500)\n",
      "filling on\n"
     ]
    }
   ],
   "source": [
    "for var in dfm.variables.values():\n",
    "    print(var)"
   ]
  },
  {
   "cell_type": "code",
   "execution_count": 58,
   "id": "8db5085f",
   "metadata": {},
   "outputs": [
    {
     "data": {
      "text/plain": [
       "<class 'netCDF4._netCDF4.Variable'>\n",
       "float64 mesh2d_water_quality_output_9(time, lat, lon, layer)\n",
       "    _FillValue: -999.0\n",
       "    mesh: mesh2d\n",
       "    location: face\n",
       "    coordinates: mesh2d_face_x mesh2d_face_y\n",
       "    cell_methods: mesh2d_nFaces: mean\n",
       "    long_name: TIM\n",
       "    units: (gDM/m3)\n",
       "    grid_mapping: wgs84\n",
       "    description: TIM - total inorganic matter (gDM/m3) in flow element\n",
       "unlimited dimensions: time\n",
       "current shape = (366, 400, 500, 1)\n",
       "filling on"
      ]
     },
     "execution_count": 58,
     "metadata": {},
     "output_type": "execute_result"
    }
   ],
   "source": [
    "dfm['mesh2d_water_quality_output_9']"
   ]
  },
  {
   "cell_type": "code",
   "execution_count": null,
   "id": "e2dd8f14",
   "metadata": {},
   "outputs": [],
   "source": [
    "dfm['time']"
   ]
  },
  {
   "cell_type": "code",
   "execution_count": 49,
   "id": "02c3f455",
   "metadata": {},
   "outputs": [],
   "source": [
    "Dates_II = dfm['time'][0:20,]"
   ]
  },
  {
   "cell_type": "code",
   "execution_count": 50,
   "id": "734f02eb",
   "metadata": {},
   "outputs": [
    {
     "data": {
      "text/plain": [
       "masked_array(data=[1.587168e+08, 1.588032e+08, 1.588896e+08, 1.589760e+08,\n",
       "                   1.590624e+08, 1.591488e+08, 1.592352e+08, 1.593216e+08,\n",
       "                   1.594080e+08, 1.594944e+08, 1.595808e+08, 1.596672e+08,\n",
       "                   1.597536e+08, 1.598400e+08, 1.599264e+08, 1.600128e+08,\n",
       "                   1.600992e+08, 1.601856e+08, 1.602720e+08, 1.603584e+08],\n",
       "             mask=False,\n",
       "       fill_value=1e+20)"
      ]
     },
     "execution_count": 50,
     "metadata": {},
     "output_type": "execute_result"
    }
   ],
   "source": [
    "Dates_II"
   ]
  },
  {
   "cell_type": "code",
   "execution_count": null,
   "id": "0c7a20f8",
   "metadata": {},
   "outputs": [],
   "source": []
  }
 ],
 "metadata": {
  "kernelspec": {
   "display_name": "Python 3",
   "language": "python",
   "name": "python3"
  },
  "language_info": {
   "codemirror_mode": {
    "name": "ipython",
    "version": 3
   },
   "file_extension": ".py",
   "mimetype": "text/x-python",
   "name": "python",
   "nbconvert_exporter": "python",
   "pygments_lexer": "ipython3",
   "version": "3.6.13"
  }
 },
 "nbformat": 4,
 "nbformat_minor": 5
}
