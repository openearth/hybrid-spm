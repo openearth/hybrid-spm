{
 "cells": [
  {
   "cell_type": "code",
   "execution_count": 1,
   "id": "41333d44",
   "metadata": {},
   "outputs": [],
   "source": [
    "#This analysis aims to find paterns in SPM data (Satellite and Modelling data)."
   ]
  },
  {
   "cell_type": "code",
   "execution_count": 2,
   "id": "c23dbf1e",
   "metadata": {},
   "outputs": [],
   "source": [
    "#!pip install xarray"
   ]
  },
  {
   "cell_type": "code",
   "execution_count": 3,
   "id": "343d3ab3",
   "metadata": {},
   "outputs": [],
   "source": [
    "# -*- coding: utf-8 -*-\n",
    "\"\"\"\n",
    "Created on Tue Sep 13 11:27:34 2022\n",
    "\n",
    "@author: gwee\n",
    "\n",
    "remarks: spatial comparison between DFM and cmems\n",
    "\"\"\"\n",
    "\n",
    "import xarray as xr\n",
    "import matplotlib.pyplot as plt\n",
    "%matplotlib inline\n",
    "import os\n",
    "plt.rcParams.update({'figure.max_open_warning': 0})                                      #Q1. What does it line do?"
   ]
  },
  {
   "cell_type": "code",
   "execution_count": 4,
   "id": "0d8a1537",
   "metadata": {},
   "outputs": [],
   "source": [
    "from sys import platform\n",
    "if platform == 'linux':\n",
    "    cms = xr.open_dataset(\n",
    "        r\"/p/11206887-012-sito-is-2021-so-et-es/Data/CMEMS_Satellite_100mx100m/merged_2015-2020/2015_2020_P1D_HROC_L3-transp_NWS_31_32ULE_100m-v01.nc\")\n",
    "    dfm = xr.open_dataset(\n",
    "        r\"/p/11206887-012-sito-is-2021-so-et-es/Data/DFM_DWSM-FM_100m/Postprocessing_maps/DWSM-FM_100m_0000_map_regular_500_400_allvars.nc\")\n",
    "    opath = r\"/p/11206887-012-sito-is-2021-so-et-es/Analysis/Plots/Compare_CMEMS100m_Model100m/spatial-comparison\"\n",
    "else:\n",
    "    cms = xr.open_dataset(\n",
    "        r\"p:\\11206887-012-sito-is-2021-so-et-es\\Data\\CMEMS_Satellite_100mx100m\\merged_2015-2020\\2015_2020_P1D_HROC_L3-transp_NWS_31_32ULE_100m-v01.nc\")\n",
    "    dfm = xr.open_dataset(\n",
    "        r\"P:\\11206887-012-sito-is-2021-so-et-es\\Data\\DFM_DWSM-FM_100m\\Postprocessing_maps\\DWSM-FM_100m_0000_map_regular_500_400_allvars.nc\")\n",
    "    opath = r\"P:\\11206887-012-sito-is-2021-so-et-es\\Analysis\\Plots\\Compare_CMEMS100m_Model100m\\spatial-comparison\"\n",
    "\n",
    "var = [i for i in list(dfm.variables) if 'mesh' in i]\n",
    "units = [dfm[i].units for i in var]\n",
    "naming = ['salinity', 'temperature', 'SPM',\n",
    "          'depth', 'velocity', 'pressure', 'significant-wave-height']\n",
    "\n",
    "#cut dfm to boundaries of cmems\n",
    "dfm_cut = dfm.where(((dfm.lat <= cms.lat.max()) & (dfm.lat >= cms.lat.min()) \\\n",
    "                         & (dfm.lon <= cms.lon.max()) & (dfm.lon >= cms.lon.min())),drop=True)\n",
    "#cut cmems to temporal boundaries of dfm\n",
    "cms_cut = cms.sel(time=cms.time.dt.year == 2017)"
   ]
  },
  {
   "cell_type": "code",
   "execution_count": 5,
   "id": "853106a0",
   "metadata": {},
   "outputs": [
    {
     "name": "stdout",
     "output_type": "stream",
     "text": [
      "figure generated for month 1 and mesh2d_sa1\n",
      "figure generated for month 1 and mesh2d_tem1\n",
      "figure generated for month 1 and mesh2d_water_quality_output_9\n",
      "figure generated for month 1 and mesh2d_waterdepth\n",
      "figure generated for month 1 and mesh2d_ucmaga\n",
      "figure generated for month 1 and mesh2d_Patm\n",
      "figure generated for month 1 and mesh2d_hwav\n",
      "figure generated for month 2 and mesh2d_sa1\n",
      "figure generated for month 2 and mesh2d_tem1\n",
      "figure generated for month 2 and mesh2d_water_quality_output_9\n",
      "figure generated for month 2 and mesh2d_waterdepth\n",
      "figure generated for month 2 and mesh2d_ucmaga\n",
      "figure generated for month 2 and mesh2d_Patm\n",
      "figure generated for month 2 and mesh2d_hwav\n",
      "figure generated for month 3 and mesh2d_sa1\n",
      "figure generated for month 3 and mesh2d_tem1\n",
      "figure generated for month 3 and mesh2d_water_quality_output_9\n",
      "figure generated for month 3 and mesh2d_waterdepth\n",
      "figure generated for month 3 and mesh2d_ucmaga\n",
      "figure generated for month 3 and mesh2d_Patm\n",
      "figure generated for month 3 and mesh2d_hwav\n",
      "figure generated for month 4 and mesh2d_sa1\n",
      "figure generated for month 4 and mesh2d_tem1\n",
      "figure generated for month 4 and mesh2d_water_quality_output_9\n",
      "figure generated for month 4 and mesh2d_waterdepth\n",
      "figure generated for month 4 and mesh2d_ucmaga\n",
      "figure generated for month 4 and mesh2d_Patm\n",
      "figure generated for month 4 and mesh2d_hwav\n",
      "figure generated for month 5 and mesh2d_sa1\n",
      "figure generated for month 5 and mesh2d_tem1\n",
      "figure generated for month 5 and mesh2d_water_quality_output_9\n",
      "figure generated for month 5 and mesh2d_waterdepth\n",
      "figure generated for month 5 and mesh2d_ucmaga\n",
      "figure generated for month 5 and mesh2d_Patm\n",
      "figure generated for month 5 and mesh2d_hwav\n",
      "figure generated for month 6 and mesh2d_sa1\n",
      "figure generated for month 6 and mesh2d_tem1\n",
      "figure generated for month 6 and mesh2d_water_quality_output_9\n",
      "figure generated for month 6 and mesh2d_waterdepth\n",
      "figure generated for month 6 and mesh2d_ucmaga\n",
      "figure generated for month 6 and mesh2d_Patm\n",
      "figure generated for month 6 and mesh2d_hwav\n",
      "figure generated for month 7 and mesh2d_sa1\n",
      "figure generated for month 7 and mesh2d_tem1\n",
      "figure generated for month 7 and mesh2d_water_quality_output_9\n",
      "figure generated for month 7 and mesh2d_waterdepth\n",
      "figure generated for month 7 and mesh2d_ucmaga\n",
      "figure generated for month 7 and mesh2d_Patm\n",
      "figure generated for month 7 and mesh2d_hwav\n",
      "figure generated for month 8 and mesh2d_sa1\n",
      "figure generated for month 8 and mesh2d_tem1\n",
      "figure generated for month 8 and mesh2d_water_quality_output_9\n",
      "figure generated for month 8 and mesh2d_waterdepth\n",
      "figure generated for month 8 and mesh2d_ucmaga\n",
      "figure generated for month 8 and mesh2d_Patm\n",
      "figure generated for month 8 and mesh2d_hwav\n",
      "figure generated for month 9 and mesh2d_sa1\n",
      "figure generated for month 9 and mesh2d_tem1\n",
      "figure generated for month 9 and mesh2d_water_quality_output_9\n",
      "figure generated for month 9 and mesh2d_waterdepth\n",
      "figure generated for month 9 and mesh2d_ucmaga\n",
      "figure generated for month 9 and mesh2d_Patm\n",
      "figure generated for month 9 and mesh2d_hwav\n",
      "figure generated for month 10 and mesh2d_sa1\n",
      "figure generated for month 10 and mesh2d_tem1\n",
      "figure generated for month 10 and mesh2d_water_quality_output_9\n",
      "figure generated for month 10 and mesh2d_waterdepth\n",
      "figure generated for month 10 and mesh2d_ucmaga\n",
      "figure generated for month 10 and mesh2d_Patm\n",
      "figure generated for month 10 and mesh2d_hwav\n",
      "figure generated for month 11 and mesh2d_sa1\n",
      "figure generated for month 11 and mesh2d_tem1\n",
      "figure generated for month 11 and mesh2d_water_quality_output_9\n",
      "figure generated for month 11 and mesh2d_waterdepth\n",
      "figure generated for month 11 and mesh2d_ucmaga\n",
      "figure generated for month 11 and mesh2d_Patm\n",
      "figure generated for month 11 and mesh2d_hwav\n",
      "figure generated for month 12 and mesh2d_sa1\n",
      "figure generated for month 12 and mesh2d_tem1\n",
      "figure generated for month 12 and mesh2d_water_quality_output_9\n",
      "figure generated for month 12 and mesh2d_waterdepth\n",
      "figure generated for month 12 and mesh2d_ucmaga\n",
      "figure generated for month 12 and mesh2d_Patm\n",
      "figure generated for month 12 and mesh2d_hwav\n"
     ]
    },
    {
     "data": {
      "text/plain": [
       "<Figure size 640x480 with 0 Axes>"
      ]
     },
     "metadata": {},
     "output_type": "display_data"
    },
    {
     "data": {
      "text/plain": [
       "<Figure size 640x480 with 0 Axes>"
      ]
     },
     "metadata": {},
     "output_type": "display_data"
    },
    {
     "data": {
      "text/plain": [
       "<Figure size 640x480 with 0 Axes>"
      ]
     },
     "metadata": {},
     "output_type": "display_data"
    },
    {
     "data": {
      "text/plain": [
       "<Figure size 640x480 with 0 Axes>"
      ]
     },
     "metadata": {},
     "output_type": "display_data"
    },
    {
     "data": {
      "text/plain": [
       "<Figure size 640x480 with 0 Axes>"
      ]
     },
     "metadata": {},
     "output_type": "display_data"
    },
    {
     "data": {
      "text/plain": [
       "<Figure size 640x480 with 0 Axes>"
      ]
     },
     "metadata": {},
     "output_type": "display_data"
    },
    {
     "data": {
      "text/plain": [
       "<Figure size 640x480 with 0 Axes>"
      ]
     },
     "metadata": {},
     "output_type": "display_data"
    },
    {
     "data": {
      "text/plain": [
       "<Figure size 640x480 with 0 Axes>"
      ]
     },
     "metadata": {},
     "output_type": "display_data"
    },
    {
     "data": {
      "text/plain": [
       "<Figure size 640x480 with 0 Axes>"
      ]
     },
     "metadata": {},
     "output_type": "display_data"
    },
    {
     "data": {
      "text/plain": [
       "<Figure size 640x480 with 0 Axes>"
      ]
     },
     "metadata": {},
     "output_type": "display_data"
    },
    {
     "data": {
      "text/plain": [
       "<Figure size 640x480 with 0 Axes>"
      ]
     },
     "metadata": {},
     "output_type": "display_data"
    },
    {
     "data": {
      "text/plain": [
       "<Figure size 640x480 with 0 Axes>"
      ]
     },
     "metadata": {},
     "output_type": "display_data"
    },
    {
     "data": {
      "text/plain": [
       "<Figure size 640x480 with 0 Axes>"
      ]
     },
     "metadata": {},
     "output_type": "display_data"
    },
    {
     "data": {
      "text/plain": [
       "<Figure size 640x480 with 0 Axes>"
      ]
     },
     "metadata": {},
     "output_type": "display_data"
    },
    {
     "data": {
      "text/plain": [
       "<Figure size 640x480 with 0 Axes>"
      ]
     },
     "metadata": {},
     "output_type": "display_data"
    },
    {
     "data": {
      "text/plain": [
       "<Figure size 640x480 with 0 Axes>"
      ]
     },
     "metadata": {},
     "output_type": "display_data"
    },
    {
     "data": {
      "text/plain": [
       "<Figure size 640x480 with 0 Axes>"
      ]
     },
     "metadata": {},
     "output_type": "display_data"
    },
    {
     "data": {
      "text/plain": [
       "<Figure size 640x480 with 0 Axes>"
      ]
     },
     "metadata": {},
     "output_type": "display_data"
    },
    {
     "data": {
      "text/plain": [
       "<Figure size 640x480 with 0 Axes>"
      ]
     },
     "metadata": {},
     "output_type": "display_data"
    },
    {
     "data": {
      "text/plain": [
       "<Figure size 640x480 with 0 Axes>"
      ]
     },
     "metadata": {},
     "output_type": "display_data"
    },
    {
     "data": {
      "text/plain": [
       "<Figure size 640x480 with 0 Axes>"
      ]
     },
     "metadata": {},
     "output_type": "display_data"
    },
    {
     "data": {
      "text/plain": [
       "<Figure size 640x480 with 0 Axes>"
      ]
     },
     "metadata": {},
     "output_type": "display_data"
    },
    {
     "data": {
      "text/plain": [
       "<Figure size 640x480 with 0 Axes>"
      ]
     },
     "metadata": {},
     "output_type": "display_data"
    },
    {
     "data": {
      "text/plain": [
       "<Figure size 640x480 with 0 Axes>"
      ]
     },
     "metadata": {},
     "output_type": "display_data"
    },
    {
     "data": {
      "text/plain": [
       "<Figure size 640x480 with 0 Axes>"
      ]
     },
     "metadata": {},
     "output_type": "display_data"
    },
    {
     "data": {
      "text/plain": [
       "<Figure size 640x480 with 0 Axes>"
      ]
     },
     "metadata": {},
     "output_type": "display_data"
    },
    {
     "data": {
      "text/plain": [
       "<Figure size 640x480 with 0 Axes>"
      ]
     },
     "metadata": {},
     "output_type": "display_data"
    },
    {
     "data": {
      "text/plain": [
       "<Figure size 640x480 with 0 Axes>"
      ]
     },
     "metadata": {},
     "output_type": "display_data"
    },
    {
     "data": {
      "text/plain": [
       "<Figure size 640x480 with 0 Axes>"
      ]
     },
     "metadata": {},
     "output_type": "display_data"
    },
    {
     "data": {
      "text/plain": [
       "<Figure size 640x480 with 0 Axes>"
      ]
     },
     "metadata": {},
     "output_type": "display_data"
    },
    {
     "data": {
      "text/plain": [
       "<Figure size 640x480 with 0 Axes>"
      ]
     },
     "metadata": {},
     "output_type": "display_data"
    },
    {
     "data": {
      "text/plain": [
       "<Figure size 640x480 with 0 Axes>"
      ]
     },
     "metadata": {},
     "output_type": "display_data"
    },
    {
     "data": {
      "text/plain": [
       "<Figure size 640x480 with 0 Axes>"
      ]
     },
     "metadata": {},
     "output_type": "display_data"
    },
    {
     "data": {
      "text/plain": [
       "<Figure size 640x480 with 0 Axes>"
      ]
     },
     "metadata": {},
     "output_type": "display_data"
    },
    {
     "data": {
      "text/plain": [
       "<Figure size 640x480 with 0 Axes>"
      ]
     },
     "metadata": {},
     "output_type": "display_data"
    },
    {
     "data": {
      "text/plain": [
       "<Figure size 640x480 with 0 Axes>"
      ]
     },
     "metadata": {},
     "output_type": "display_data"
    },
    {
     "data": {
      "text/plain": [
       "<Figure size 640x480 with 0 Axes>"
      ]
     },
     "metadata": {},
     "output_type": "display_data"
    },
    {
     "data": {
      "text/plain": [
       "<Figure size 640x480 with 0 Axes>"
      ]
     },
     "metadata": {},
     "output_type": "display_data"
    },
    {
     "data": {
      "text/plain": [
       "<Figure size 640x480 with 0 Axes>"
      ]
     },
     "metadata": {},
     "output_type": "display_data"
    },
    {
     "data": {
      "text/plain": [
       "<Figure size 640x480 with 0 Axes>"
      ]
     },
     "metadata": {},
     "output_type": "display_data"
    },
    {
     "data": {
      "text/plain": [
       "<Figure size 640x480 with 0 Axes>"
      ]
     },
     "metadata": {},
     "output_type": "display_data"
    },
    {
     "data": {
      "text/plain": [
       "<Figure size 640x480 with 0 Axes>"
      ]
     },
     "metadata": {},
     "output_type": "display_data"
    },
    {
     "data": {
      "text/plain": [
       "<Figure size 640x480 with 0 Axes>"
      ]
     },
     "metadata": {},
     "output_type": "display_data"
    },
    {
     "data": {
      "text/plain": [
       "<Figure size 640x480 with 0 Axes>"
      ]
     },
     "metadata": {},
     "output_type": "display_data"
    },
    {
     "data": {
      "text/plain": [
       "<Figure size 640x480 with 0 Axes>"
      ]
     },
     "metadata": {},
     "output_type": "display_data"
    },
    {
     "data": {
      "text/plain": [
       "<Figure size 640x480 with 0 Axes>"
      ]
     },
     "metadata": {},
     "output_type": "display_data"
    },
    {
     "data": {
      "text/plain": [
       "<Figure size 640x480 with 0 Axes>"
      ]
     },
     "metadata": {},
     "output_type": "display_data"
    },
    {
     "data": {
      "text/plain": [
       "<Figure size 640x480 with 0 Axes>"
      ]
     },
     "metadata": {},
     "output_type": "display_data"
    },
    {
     "data": {
      "text/plain": [
       "<Figure size 640x480 with 0 Axes>"
      ]
     },
     "metadata": {},
     "output_type": "display_data"
    },
    {
     "data": {
      "text/plain": [
       "<Figure size 640x480 with 0 Axes>"
      ]
     },
     "metadata": {},
     "output_type": "display_data"
    },
    {
     "data": {
      "text/plain": [
       "<Figure size 640x480 with 0 Axes>"
      ]
     },
     "metadata": {},
     "output_type": "display_data"
    },
    {
     "data": {
      "text/plain": [
       "<Figure size 640x480 with 0 Axes>"
      ]
     },
     "metadata": {},
     "output_type": "display_data"
    },
    {
     "data": {
      "text/plain": [
       "<Figure size 640x480 with 0 Axes>"
      ]
     },
     "metadata": {},
     "output_type": "display_data"
    },
    {
     "data": {
      "text/plain": [
       "<Figure size 640x480 with 0 Axes>"
      ]
     },
     "metadata": {},
     "output_type": "display_data"
    },
    {
     "data": {
      "text/plain": [
       "<Figure size 640x480 with 0 Axes>"
      ]
     },
     "metadata": {},
     "output_type": "display_data"
    },
    {
     "data": {
      "text/plain": [
       "<Figure size 640x480 with 0 Axes>"
      ]
     },
     "metadata": {},
     "output_type": "display_data"
    },
    {
     "data": {
      "text/plain": [
       "<Figure size 640x480 with 0 Axes>"
      ]
     },
     "metadata": {},
     "output_type": "display_data"
    },
    {
     "data": {
      "text/plain": [
       "<Figure size 640x480 with 0 Axes>"
      ]
     },
     "metadata": {},
     "output_type": "display_data"
    },
    {
     "data": {
      "text/plain": [
       "<Figure size 640x480 with 0 Axes>"
      ]
     },
     "metadata": {},
     "output_type": "display_data"
    },
    {
     "data": {
      "text/plain": [
       "<Figure size 640x480 with 0 Axes>"
      ]
     },
     "metadata": {},
     "output_type": "display_data"
    },
    {
     "data": {
      "text/plain": [
       "<Figure size 640x480 with 0 Axes>"
      ]
     },
     "metadata": {},
     "output_type": "display_data"
    },
    {
     "data": {
      "text/plain": [
       "<Figure size 640x480 with 0 Axes>"
      ]
     },
     "metadata": {},
     "output_type": "display_data"
    },
    {
     "data": {
      "text/plain": [
       "<Figure size 640x480 with 0 Axes>"
      ]
     },
     "metadata": {},
     "output_type": "display_data"
    },
    {
     "data": {
      "text/plain": [
       "<Figure size 640x480 with 0 Axes>"
      ]
     },
     "metadata": {},
     "output_type": "display_data"
    },
    {
     "data": {
      "text/plain": [
       "<Figure size 640x480 with 0 Axes>"
      ]
     },
     "metadata": {},
     "output_type": "display_data"
    },
    {
     "data": {
      "text/plain": [
       "<Figure size 640x480 with 0 Axes>"
      ]
     },
     "metadata": {},
     "output_type": "display_data"
    },
    {
     "data": {
      "text/plain": [
       "<Figure size 640x480 with 0 Axes>"
      ]
     },
     "metadata": {},
     "output_type": "display_data"
    },
    {
     "data": {
      "text/plain": [
       "<Figure size 640x480 with 0 Axes>"
      ]
     },
     "metadata": {},
     "output_type": "display_data"
    },
    {
     "data": {
      "text/plain": [
       "<Figure size 640x480 with 0 Axes>"
      ]
     },
     "metadata": {},
     "output_type": "display_data"
    },
    {
     "data": {
      "text/plain": [
       "<Figure size 640x480 with 0 Axes>"
      ]
     },
     "metadata": {},
     "output_type": "display_data"
    },
    {
     "data": {
      "text/plain": [
       "<Figure size 640x480 with 0 Axes>"
      ]
     },
     "metadata": {},
     "output_type": "display_data"
    },
    {
     "data": {
      "text/plain": [
       "<Figure size 640x480 with 0 Axes>"
      ]
     },
     "metadata": {},
     "output_type": "display_data"
    },
    {
     "data": {
      "text/plain": [
       "<Figure size 640x480 with 0 Axes>"
      ]
     },
     "metadata": {},
     "output_type": "display_data"
    },
    {
     "data": {
      "text/plain": [
       "<Figure size 640x480 with 0 Axes>"
      ]
     },
     "metadata": {},
     "output_type": "display_data"
    },
    {
     "data": {
      "text/plain": [
       "<Figure size 640x480 with 0 Axes>"
      ]
     },
     "metadata": {},
     "output_type": "display_data"
    },
    {
     "data": {
      "text/plain": [
       "<Figure size 640x480 with 0 Axes>"
      ]
     },
     "metadata": {},
     "output_type": "display_data"
    },
    {
     "data": {
      "text/plain": [
       "<Figure size 640x480 with 0 Axes>"
      ]
     },
     "metadata": {},
     "output_type": "display_data"
    },
    {
     "data": {
      "text/plain": [
       "<Figure size 640x480 with 0 Axes>"
      ]
     },
     "metadata": {},
     "output_type": "display_data"
    },
    {
     "data": {
      "text/plain": [
       "<Figure size 640x480 with 0 Axes>"
      ]
     },
     "metadata": {},
     "output_type": "display_data"
    },
    {
     "data": {
      "text/plain": [
       "<Figure size 640x480 with 0 Axes>"
      ]
     },
     "metadata": {},
     "output_type": "display_data"
    },
    {
     "data": {
      "text/plain": [
       "<Figure size 640x480 with 0 Axes>"
      ]
     },
     "metadata": {},
     "output_type": "display_data"
    },
    {
     "data": {
      "text/plain": [
       "<Figure size 640x480 with 0 Axes>"
      ]
     },
     "metadata": {},
     "output_type": "display_data"
    },
    {
     "data": {
      "text/plain": [
       "<Figure size 640x480 with 0 Axes>"
      ]
     },
     "metadata": {},
     "output_type": "display_data"
    },
    {
     "data": {
      "text/plain": [
       "<Figure size 640x480 with 0 Axes>"
      ]
     },
     "metadata": {},
     "output_type": "display_data"
    }
   ],
   "source": [
    "# # monthly\n",
    "for m in range(1,13):\n",
    "    cms_m = cms_cut.sel(time=cms_cut.time.dt.month == m).mean(dim='time')\n",
    "    dfm_m = dfm_cut.sel(time=dfm_cut.time.dt.month == m).mean(dim='time')\n",
    "    \n",
    "    for i, n in enumerate(var):\n",
    "        \n",
    "        #plot\n",
    "        fig, axes = plt.subplots(nrows=2)\n",
    "        if n == 'mesh2d_water_quality_output_9':\n",
    "            dfm_m[n].plot(ax=axes[0], vmin=0, vmax=100, cbar_kwargs={\"label\": f'{naming[i]} [{units[i]}]'})\n",
    "        else:\n",
    "            dfm_m[n].plot(ax=axes[0], cbar_kwargs={\"label\": f'{naming[i]} [{units[i]}]'})\n",
    "        \n",
    "        cms_m.SPM.plot(ax=axes[1], vmax=100)\n",
    "        \n",
    "        plt.savefig(os.path.join(opath, 'monthly', f'cmems-dfm-spatial-comparison-month{m}-{naming[i]}.png'))\n",
    "        print(f'figure generated for month {m} and {n}')\n",
    "        plt.clf()"
   ]
  },
  {
   "cell_type": "code",
   "execution_count": 6,
   "id": "9b0a639a",
   "metadata": {},
   "outputs": [
    {
     "name": "stdout",
     "output_type": "stream",
     "text": [
      "figure generated for 2017 mesh2d_sa1\n",
      "figure generated for 2017 mesh2d_tem1\n",
      "figure generated for 2017 mesh2d_water_quality_output_9\n",
      "figure generated for 2017 mesh2d_waterdepth\n",
      "figure generated for 2017 mesh2d_ucmaga\n",
      "figure generated for 2017 mesh2d_Patm\n",
      "figure generated for 2017 mesh2d_hwav\n"
     ]
    },
    {
     "data": {
      "text/plain": [
       "<Figure size 640x480 with 0 Axes>"
      ]
     },
     "metadata": {},
     "output_type": "display_data"
    },
    {
     "data": {
      "text/plain": [
       "<Figure size 640x480 with 0 Axes>"
      ]
     },
     "metadata": {},
     "output_type": "display_data"
    },
    {
     "data": {
      "text/plain": [
       "<Figure size 640x480 with 0 Axes>"
      ]
     },
     "metadata": {},
     "output_type": "display_data"
    },
    {
     "data": {
      "text/plain": [
       "<Figure size 640x480 with 0 Axes>"
      ]
     },
     "metadata": {},
     "output_type": "display_data"
    },
    {
     "data": {
      "text/plain": [
       "<Figure size 640x480 with 0 Axes>"
      ]
     },
     "metadata": {},
     "output_type": "display_data"
    },
    {
     "data": {
      "text/plain": [
       "<Figure size 640x480 with 0 Axes>"
      ]
     },
     "metadata": {},
     "output_type": "display_data"
    },
    {
     "data": {
      "text/plain": [
       "<Figure size 640x480 with 0 Axes>"
      ]
     },
     "metadata": {},
     "output_type": "display_data"
    }
   ],
   "source": [
    "#year\n",
    "y = 2017\n",
    "\n",
    "cms_y = cms_cut.mean(dim='time')\n",
    "dfm_y = dfm_cut.sel(time=dfm_cut.time.dt.year == y).mean(dim='time')\n",
    "\n",
    "for i, n in enumerate(var):\n",
    "    \n",
    "    #plot\n",
    "    fig, axes = plt.subplots(nrows=2)\n",
    "    if n == 'mesh2d_water_quality_output_9':\n",
    "        dfm_y[n].plot(ax=axes[0], vmin=0, vmax=100, cbar_kwargs={\"label\": f'{naming[i]} [{units[i]}]'})\n",
    "    else:\n",
    "        dfm_y[n].plot(ax=axes[0], cbar_kwargs={\"label\": f'{naming[i]} [{units[i]}]'})\n",
    "    \n",
    "    cms_y.SPM.plot(ax=axes[1], vmax=100)\n",
    "    \n",
    "    fig.subplots_adjust(hspace=0.4)\n",
    "    plt.savefig(os.path.join(opath, 'yearly', f'cmems-dfm-spatial-comparison-year{y}-{naming[i]}.png'))\n",
    "    print(f'figure generated for {y} {n}')\n",
    "    plt.clf()       "
   ]
  },
  {
   "cell_type": "code",
   "execution_count": 7,
   "id": "90d3922f",
   "metadata": {},
   "outputs": [
    {
     "name": "stdout",
     "output_type": "stream",
     "text": [
      "figure printed for 2017-01-03 mesh2d_sa1\n",
      "figure printed for 2017-01-03 mesh2d_tem1\n",
      "figure printed for 2017-01-03 mesh2d_water_quality_output_9\n",
      "figure printed for 2017-01-03 mesh2d_waterdepth\n",
      "figure printed for 2017-01-03 mesh2d_ucmaga\n",
      "figure printed for 2017-01-03 mesh2d_Patm\n",
      "figure printed for 2017-01-03 mesh2d_hwav\n",
      "figure printed for 2017-01-13 mesh2d_sa1\n",
      "figure printed for 2017-01-13 mesh2d_tem1\n",
      "figure printed for 2017-01-13 mesh2d_water_quality_output_9\n",
      "figure printed for 2017-01-13 mesh2d_waterdepth\n",
      "figure printed for 2017-01-13 mesh2d_ucmaga\n",
      "figure printed for 2017-01-13 mesh2d_Patm\n",
      "figure printed for 2017-01-13 mesh2d_hwav\n",
      "figure printed for 2017-01-16 mesh2d_sa1\n",
      "figure printed for 2017-01-16 mesh2d_tem1\n",
      "figure printed for 2017-01-16 mesh2d_water_quality_output_9\n",
      "figure printed for 2017-01-16 mesh2d_waterdepth\n",
      "figure printed for 2017-01-16 mesh2d_ucmaga\n",
      "figure printed for 2017-01-16 mesh2d_Patm\n",
      "figure printed for 2017-01-16 mesh2d_hwav\n",
      "figure printed for 2017-02-02 mesh2d_sa1\n",
      "figure printed for 2017-02-02 mesh2d_tem1\n",
      "figure printed for 2017-02-02 mesh2d_water_quality_output_9\n",
      "figure printed for 2017-02-02 mesh2d_waterdepth\n",
      "figure printed for 2017-02-02 mesh2d_ucmaga\n",
      "figure printed for 2017-02-02 mesh2d_Patm\n",
      "figure printed for 2017-02-02 mesh2d_hwav\n",
      "figure printed for 2017-02-05 mesh2d_sa1\n",
      "figure printed for 2017-02-05 mesh2d_tem1\n",
      "figure printed for 2017-02-05 mesh2d_water_quality_output_9\n",
      "figure printed for 2017-02-05 mesh2d_waterdepth\n",
      "figure printed for 2017-02-05 mesh2d_ucmaga\n",
      "figure printed for 2017-02-05 mesh2d_Patm\n",
      "figure printed for 2017-02-05 mesh2d_hwav\n",
      "figure printed for 2017-02-12 mesh2d_sa1\n",
      "figure printed for 2017-02-12 mesh2d_tem1\n",
      "figure printed for 2017-02-12 mesh2d_water_quality_output_9\n",
      "figure printed for 2017-02-12 mesh2d_waterdepth\n",
      "figure printed for 2017-02-12 mesh2d_ucmaga\n",
      "figure printed for 2017-02-12 mesh2d_Patm\n",
      "figure printed for 2017-02-12 mesh2d_hwav\n",
      "figure printed for 2017-02-15 mesh2d_sa1\n",
      "figure printed for 2017-02-15 mesh2d_tem1\n",
      "figure printed for 2017-02-15 mesh2d_water_quality_output_9\n",
      "figure printed for 2017-02-15 mesh2d_waterdepth\n",
      "figure printed for 2017-02-15 mesh2d_ucmaga\n",
      "figure printed for 2017-02-15 mesh2d_Patm\n",
      "figure printed for 2017-02-15 mesh2d_hwav\n",
      "figure printed for 2017-02-22 mesh2d_sa1\n",
      "figure printed for 2017-02-22 mesh2d_tem1\n",
      "figure printed for 2017-02-22 mesh2d_water_quality_output_9\n",
      "figure printed for 2017-02-22 mesh2d_waterdepth\n",
      "figure printed for 2017-02-22 mesh2d_ucmaga\n",
      "figure printed for 2017-02-22 mesh2d_Patm\n",
      "figure printed for 2017-02-22 mesh2d_hwav\n",
      "figure printed for 2017-02-25 mesh2d_sa1\n",
      "figure printed for 2017-02-25 mesh2d_tem1\n",
      "figure printed for 2017-02-25 mesh2d_water_quality_output_9\n",
      "figure printed for 2017-02-25 mesh2d_waterdepth\n",
      "figure printed for 2017-02-25 mesh2d_ucmaga\n",
      "figure printed for 2017-02-25 mesh2d_Patm\n",
      "figure printed for 2017-02-25 mesh2d_hwav\n",
      "figure printed for 2017-03-04 mesh2d_sa1\n",
      "figure printed for 2017-03-04 mesh2d_tem1\n",
      "figure printed for 2017-03-04 mesh2d_water_quality_output_9\n",
      "figure printed for 2017-03-04 mesh2d_waterdepth\n",
      "figure printed for 2017-03-04 mesh2d_ucmaga\n",
      "figure printed for 2017-03-04 mesh2d_Patm\n",
      "figure printed for 2017-03-04 mesh2d_hwav\n",
      "figure printed for 2017-03-07 mesh2d_sa1\n",
      "figure printed for 2017-03-07 mesh2d_tem1\n",
      "figure printed for 2017-03-07 mesh2d_water_quality_output_9\n",
      "figure printed for 2017-03-07 mesh2d_waterdepth\n",
      "figure printed for 2017-03-07 mesh2d_ucmaga\n",
      "figure printed for 2017-03-07 mesh2d_Patm\n",
      "figure printed for 2017-03-07 mesh2d_hwav\n",
      "figure printed for 2017-03-14 mesh2d_sa1\n",
      "figure printed for 2017-03-14 mesh2d_tem1\n",
      "figure printed for 2017-03-14 mesh2d_water_quality_output_9\n",
      "figure printed for 2017-03-14 mesh2d_waterdepth\n",
      "figure printed for 2017-03-14 mesh2d_ucmaga\n",
      "figure printed for 2017-03-14 mesh2d_Patm\n",
      "figure printed for 2017-03-14 mesh2d_hwav\n",
      "figure printed for 2017-03-17 mesh2d_sa1\n",
      "figure printed for 2017-03-17 mesh2d_tem1\n",
      "figure printed for 2017-03-17 mesh2d_water_quality_output_9\n",
      "figure printed for 2017-03-17 mesh2d_waterdepth\n",
      "figure printed for 2017-03-17 mesh2d_ucmaga\n",
      "figure printed for 2017-03-17 mesh2d_Patm\n",
      "figure printed for 2017-03-17 mesh2d_hwav\n",
      "figure printed for 2017-03-24 mesh2d_sa1\n",
      "figure printed for 2017-03-24 mesh2d_tem1\n",
      "figure printed for 2017-03-24 mesh2d_water_quality_output_9\n",
      "figure printed for 2017-03-24 mesh2d_waterdepth\n",
      "figure printed for 2017-03-24 mesh2d_ucmaga\n",
      "figure printed for 2017-03-24 mesh2d_Patm\n",
      "figure printed for 2017-03-24 mesh2d_hwav\n",
      "figure printed for 2017-03-27 mesh2d_sa1\n",
      "figure printed for 2017-03-27 mesh2d_tem1\n",
      "figure printed for 2017-03-27 mesh2d_water_quality_output_9\n",
      "figure printed for 2017-03-27 mesh2d_waterdepth\n",
      "figure printed for 2017-03-27 mesh2d_ucmaga\n",
      "figure printed for 2017-03-27 mesh2d_Patm\n",
      "figure printed for 2017-03-27 mesh2d_hwav\n",
      "figure printed for 2017-04-03 mesh2d_sa1\n",
      "figure printed for 2017-04-03 mesh2d_tem1\n",
      "figure printed for 2017-04-03 mesh2d_water_quality_output_9\n",
      "figure printed for 2017-04-03 mesh2d_waterdepth\n",
      "figure printed for 2017-04-03 mesh2d_ucmaga\n",
      "figure printed for 2017-04-03 mesh2d_Patm\n",
      "figure printed for 2017-04-03 mesh2d_hwav\n",
      "figure printed for 2017-04-06 mesh2d_sa1\n",
      "figure printed for 2017-04-06 mesh2d_tem1\n",
      "figure printed for 2017-04-06 mesh2d_water_quality_output_9\n",
      "figure printed for 2017-04-06 mesh2d_waterdepth\n",
      "figure printed for 2017-04-06 mesh2d_ucmaga\n",
      "figure printed for 2017-04-06 mesh2d_Patm\n",
      "figure printed for 2017-04-06 mesh2d_hwav\n",
      "figure printed for 2017-04-13 mesh2d_sa1\n",
      "figure printed for 2017-04-13 mesh2d_tem1\n",
      "figure printed for 2017-04-13 mesh2d_water_quality_output_9\n",
      "figure printed for 2017-04-13 mesh2d_waterdepth\n",
      "figure printed for 2017-04-13 mesh2d_ucmaga\n",
      "figure printed for 2017-04-13 mesh2d_Patm\n",
      "figure printed for 2017-04-13 mesh2d_hwav\n",
      "figure printed for 2017-04-16 mesh2d_sa1\n",
      "figure printed for 2017-04-16 mesh2d_tem1\n",
      "figure printed for 2017-04-16 mesh2d_water_quality_output_9\n",
      "figure printed for 2017-04-16 mesh2d_waterdepth\n",
      "figure printed for 2017-04-16 mesh2d_ucmaga\n",
      "figure printed for 2017-04-16 mesh2d_Patm\n",
      "figure printed for 2017-04-16 mesh2d_hwav\n",
      "figure printed for 2017-04-23 mesh2d_sa1\n",
      "figure printed for 2017-04-23 mesh2d_tem1\n",
      "figure printed for 2017-04-23 mesh2d_water_quality_output_9\n",
      "figure printed for 2017-04-23 mesh2d_waterdepth\n",
      "figure printed for 2017-04-23 mesh2d_ucmaga\n",
      "figure printed for 2017-04-23 mesh2d_Patm\n",
      "figure printed for 2017-04-23 mesh2d_hwav\n",
      "figure printed for 2017-04-26 mesh2d_sa1\n",
      "figure printed for 2017-04-26 mesh2d_tem1\n",
      "figure printed for 2017-04-26 mesh2d_water_quality_output_9\n",
      "figure printed for 2017-04-26 mesh2d_waterdepth\n",
      "figure printed for 2017-04-26 mesh2d_ucmaga\n",
      "figure printed for 2017-04-26 mesh2d_Patm\n",
      "figure printed for 2017-04-26 mesh2d_hwav\n",
      "figure printed for 2017-05-03 mesh2d_sa1\n",
      "figure printed for 2017-05-03 mesh2d_tem1\n",
      "figure printed for 2017-05-03 mesh2d_water_quality_output_9\n",
      "figure printed for 2017-05-03 mesh2d_waterdepth\n",
      "figure printed for 2017-05-03 mesh2d_ucmaga\n",
      "figure printed for 2017-05-03 mesh2d_Patm\n",
      "figure printed for 2017-05-03 mesh2d_hwav\n",
      "figure printed for 2017-05-06 mesh2d_sa1\n",
      "figure printed for 2017-05-06 mesh2d_tem1\n",
      "figure printed for 2017-05-06 mesh2d_water_quality_output_9\n",
      "figure printed for 2017-05-06 mesh2d_waterdepth\n",
      "figure printed for 2017-05-06 mesh2d_ucmaga\n",
      "figure printed for 2017-05-06 mesh2d_Patm\n",
      "figure printed for 2017-05-06 mesh2d_hwav\n",
      "figure printed for 2017-05-13 mesh2d_sa1\n",
      "figure printed for 2017-05-13 mesh2d_tem1\n",
      "figure printed for 2017-05-13 mesh2d_water_quality_output_9\n",
      "figure printed for 2017-05-13 mesh2d_waterdepth\n",
      "figure printed for 2017-05-13 mesh2d_ucmaga\n",
      "figure printed for 2017-05-13 mesh2d_Patm\n",
      "figure printed for 2017-05-13 mesh2d_hwav\n",
      "figure printed for 2017-05-16 mesh2d_sa1\n",
      "figure printed for 2017-05-16 mesh2d_tem1\n",
      "figure printed for 2017-05-16 mesh2d_water_quality_output_9\n",
      "figure printed for 2017-05-16 mesh2d_waterdepth\n",
      "figure printed for 2017-05-16 mesh2d_ucmaga\n",
      "figure printed for 2017-05-16 mesh2d_Patm\n",
      "figure printed for 2017-05-16 mesh2d_hwav\n",
      "figure printed for 2017-05-23 mesh2d_sa1\n",
      "figure printed for 2017-05-23 mesh2d_tem1\n",
      "figure printed for 2017-05-23 mesh2d_water_quality_output_9\n",
      "figure printed for 2017-05-23 mesh2d_waterdepth\n",
      "figure printed for 2017-05-23 mesh2d_ucmaga\n"
     ]
    },
    {
     "name": "stdout",
     "output_type": "stream",
     "text": [
      "figure printed for 2017-05-23 mesh2d_Patm\n",
      "figure printed for 2017-05-23 mesh2d_hwav\n",
      "figure printed for 2017-05-26 mesh2d_sa1\n",
      "figure printed for 2017-05-26 mesh2d_tem1\n",
      "figure printed for 2017-05-26 mesh2d_water_quality_output_9\n",
      "figure printed for 2017-05-26 mesh2d_waterdepth\n",
      "figure printed for 2017-05-26 mesh2d_ucmaga\n",
      "figure printed for 2017-05-26 mesh2d_Patm\n",
      "figure printed for 2017-05-26 mesh2d_hwav\n",
      "figure printed for 2017-06-02 mesh2d_sa1\n",
      "figure printed for 2017-06-02 mesh2d_tem1\n",
      "figure printed for 2017-06-02 mesh2d_water_quality_output_9\n",
      "figure printed for 2017-06-02 mesh2d_waterdepth\n",
      "figure printed for 2017-06-02 mesh2d_ucmaga\n",
      "figure printed for 2017-06-02 mesh2d_Patm\n",
      "figure printed for 2017-06-02 mesh2d_hwav\n",
      "figure printed for 2017-06-05 mesh2d_sa1\n",
      "figure printed for 2017-06-05 mesh2d_tem1\n",
      "figure printed for 2017-06-05 mesh2d_water_quality_output_9\n",
      "figure printed for 2017-06-05 mesh2d_waterdepth\n",
      "figure printed for 2017-06-05 mesh2d_ucmaga\n",
      "figure printed for 2017-06-05 mesh2d_Patm\n",
      "figure printed for 2017-06-05 mesh2d_hwav\n",
      "figure printed for 2017-06-12 mesh2d_sa1\n",
      "figure printed for 2017-06-12 mesh2d_tem1\n",
      "figure printed for 2017-06-12 mesh2d_water_quality_output_9\n",
      "figure printed for 2017-06-12 mesh2d_waterdepth\n",
      "figure printed for 2017-06-12 mesh2d_ucmaga\n",
      "figure printed for 2017-06-12 mesh2d_Patm\n",
      "figure printed for 2017-06-12 mesh2d_hwav\n",
      "figure printed for 2017-06-15 mesh2d_sa1\n",
      "figure printed for 2017-06-15 mesh2d_tem1\n",
      "figure printed for 2017-06-15 mesh2d_water_quality_output_9\n",
      "figure printed for 2017-06-15 mesh2d_waterdepth\n",
      "figure printed for 2017-06-15 mesh2d_ucmaga\n",
      "figure printed for 2017-06-15 mesh2d_Patm\n",
      "figure printed for 2017-06-15 mesh2d_hwav\n",
      "figure printed for 2017-06-22 mesh2d_sa1\n",
      "figure printed for 2017-06-22 mesh2d_tem1\n",
      "figure printed for 2017-06-22 mesh2d_water_quality_output_9\n",
      "figure printed for 2017-06-22 mesh2d_waterdepth\n",
      "figure printed for 2017-06-22 mesh2d_ucmaga\n",
      "figure printed for 2017-06-22 mesh2d_Patm\n",
      "figure printed for 2017-06-22 mesh2d_hwav\n",
      "figure printed for 2017-06-25 mesh2d_sa1\n",
      "figure printed for 2017-06-25 mesh2d_tem1\n",
      "figure printed for 2017-06-25 mesh2d_water_quality_output_9\n",
      "figure printed for 2017-06-25 mesh2d_waterdepth\n",
      "figure printed for 2017-06-25 mesh2d_ucmaga\n",
      "figure printed for 2017-06-25 mesh2d_Patm\n",
      "figure printed for 2017-06-25 mesh2d_hwav\n",
      "figure printed for 2017-06-30 mesh2d_sa1\n",
      "figure printed for 2017-06-30 mesh2d_tem1\n",
      "figure printed for 2017-06-30 mesh2d_water_quality_output_9\n",
      "figure printed for 2017-06-30 mesh2d_waterdepth\n",
      "figure printed for 2017-06-30 mesh2d_ucmaga\n",
      "figure printed for 2017-06-30 mesh2d_Patm\n",
      "figure printed for 2017-06-30 mesh2d_hwav\n",
      "figure printed for 2017-07-02 mesh2d_sa1\n",
      "figure printed for 2017-07-02 mesh2d_tem1\n",
      "figure printed for 2017-07-02 mesh2d_water_quality_output_9\n",
      "figure printed for 2017-07-02 mesh2d_waterdepth\n",
      "figure printed for 2017-07-02 mesh2d_ucmaga\n",
      "figure printed for 2017-07-02 mesh2d_Patm\n",
      "figure printed for 2017-07-02 mesh2d_hwav\n",
      "figure printed for 2017-07-05 mesh2d_sa1\n",
      "figure printed for 2017-07-05 mesh2d_tem1\n",
      "figure printed for 2017-07-05 mesh2d_water_quality_output_9\n",
      "figure printed for 2017-07-05 mesh2d_waterdepth\n",
      "figure printed for 2017-07-05 mesh2d_ucmaga\n",
      "figure printed for 2017-07-05 mesh2d_Patm\n",
      "figure printed for 2017-07-05 mesh2d_hwav\n",
      "figure printed for 2017-07-07 mesh2d_sa1\n",
      "figure printed for 2017-07-07 mesh2d_tem1\n",
      "figure printed for 2017-07-07 mesh2d_water_quality_output_9\n",
      "figure printed for 2017-07-07 mesh2d_waterdepth\n",
      "figure printed for 2017-07-07 mesh2d_ucmaga\n",
      "figure printed for 2017-07-07 mesh2d_Patm\n",
      "figure printed for 2017-07-07 mesh2d_hwav\n",
      "figure printed for 2017-07-10 mesh2d_sa1\n",
      "figure printed for 2017-07-10 mesh2d_tem1\n",
      "figure printed for 2017-07-10 mesh2d_water_quality_output_9\n",
      "figure printed for 2017-07-10 mesh2d_waterdepth\n",
      "figure printed for 2017-07-10 mesh2d_ucmaga\n",
      "figure printed for 2017-07-10 mesh2d_Patm\n",
      "figure printed for 2017-07-10 mesh2d_hwav\n",
      "figure printed for 2017-07-12 mesh2d_sa1\n",
      "figure printed for 2017-07-12 mesh2d_tem1\n",
      "figure printed for 2017-07-12 mesh2d_water_quality_output_9\n",
      "figure printed for 2017-07-12 mesh2d_waterdepth\n",
      "figure printed for 2017-07-12 mesh2d_ucmaga\n",
      "figure printed for 2017-07-12 mesh2d_Patm\n",
      "figure printed for 2017-07-12 mesh2d_hwav\n",
      "figure printed for 2017-07-15 mesh2d_sa1\n",
      "figure printed for 2017-07-15 mesh2d_tem1\n",
      "figure printed for 2017-07-15 mesh2d_water_quality_output_9\n",
      "figure printed for 2017-07-15 mesh2d_waterdepth\n",
      "figure printed for 2017-07-15 mesh2d_ucmaga\n",
      "figure printed for 2017-07-15 mesh2d_Patm\n",
      "figure printed for 2017-07-15 mesh2d_hwav\n",
      "figure printed for 2017-07-17 mesh2d_sa1\n",
      "figure printed for 2017-07-17 mesh2d_tem1\n",
      "figure printed for 2017-07-17 mesh2d_water_quality_output_9\n",
      "figure printed for 2017-07-17 mesh2d_waterdepth\n",
      "figure printed for 2017-07-17 mesh2d_ucmaga\n",
      "figure printed for 2017-07-17 mesh2d_Patm\n",
      "figure printed for 2017-07-17 mesh2d_hwav\n",
      "figure printed for 2017-07-20 mesh2d_sa1\n",
      "figure printed for 2017-07-20 mesh2d_tem1\n",
      "figure printed for 2017-07-20 mesh2d_water_quality_output_9\n",
      "figure printed for 2017-07-20 mesh2d_waterdepth\n",
      "figure printed for 2017-07-20 mesh2d_ucmaga\n",
      "figure printed for 2017-07-20 mesh2d_Patm\n",
      "figure printed for 2017-07-20 mesh2d_hwav\n",
      "figure printed for 2017-07-22 mesh2d_sa1\n",
      "figure printed for 2017-07-22 mesh2d_tem1\n",
      "figure printed for 2017-07-22 mesh2d_water_quality_output_9\n",
      "figure printed for 2017-07-22 mesh2d_waterdepth\n",
      "figure printed for 2017-07-22 mesh2d_ucmaga\n",
      "figure printed for 2017-07-22 mesh2d_Patm\n",
      "figure printed for 2017-07-22 mesh2d_hwav\n",
      "figure printed for 2017-07-25 mesh2d_sa1\n",
      "figure printed for 2017-07-25 mesh2d_tem1\n",
      "figure printed for 2017-07-25 mesh2d_water_quality_output_9\n",
      "figure printed for 2017-07-25 mesh2d_waterdepth\n",
      "figure printed for 2017-07-25 mesh2d_ucmaga\n",
      "figure printed for 2017-07-25 mesh2d_Patm\n",
      "figure printed for 2017-07-25 mesh2d_hwav\n",
      "figure printed for 2017-07-27 mesh2d_sa1\n",
      "figure printed for 2017-07-27 mesh2d_tem1\n",
      "figure printed for 2017-07-27 mesh2d_water_quality_output_9\n",
      "figure printed for 2017-07-27 mesh2d_waterdepth\n",
      "figure printed for 2017-07-27 mesh2d_ucmaga\n",
      "figure printed for 2017-07-27 mesh2d_Patm\n",
      "figure printed for 2017-07-27 mesh2d_hwav\n",
      "figure printed for 2017-07-30 mesh2d_sa1\n",
      "figure printed for 2017-07-30 mesh2d_tem1\n",
      "figure printed for 2017-07-30 mesh2d_water_quality_output_9\n",
      "figure printed for 2017-07-30 mesh2d_waterdepth\n",
      "figure printed for 2017-07-30 mesh2d_ucmaga\n",
      "figure printed for 2017-07-30 mesh2d_Patm\n",
      "figure printed for 2017-07-30 mesh2d_hwav\n",
      "figure printed for 2017-08-01 mesh2d_sa1\n",
      "figure printed for 2017-08-01 mesh2d_tem1\n",
      "figure printed for 2017-08-01 mesh2d_water_quality_output_9\n",
      "figure printed for 2017-08-01 mesh2d_waterdepth\n",
      "figure printed for 2017-08-01 mesh2d_ucmaga\n",
      "figure printed for 2017-08-01 mesh2d_Patm\n",
      "figure printed for 2017-08-01 mesh2d_hwav\n",
      "figure printed for 2017-08-04 mesh2d_sa1\n",
      "figure printed for 2017-08-04 mesh2d_tem1\n",
      "figure printed for 2017-08-04 mesh2d_water_quality_output_9\n",
      "figure printed for 2017-08-04 mesh2d_waterdepth\n",
      "figure printed for 2017-08-04 mesh2d_ucmaga\n",
      "figure printed for 2017-08-04 mesh2d_Patm\n",
      "figure printed for 2017-08-04 mesh2d_hwav\n",
      "figure printed for 2017-08-06 mesh2d_sa1\n",
      "figure printed for 2017-08-06 mesh2d_tem1\n",
      "figure printed for 2017-08-06 mesh2d_water_quality_output_9\n",
      "figure printed for 2017-08-06 mesh2d_waterdepth\n",
      "figure printed for 2017-08-06 mesh2d_ucmaga\n",
      "figure printed for 2017-08-06 mesh2d_Patm\n",
      "figure printed for 2017-08-06 mesh2d_hwav\n",
      "figure printed for 2017-08-09 mesh2d_sa1\n",
      "figure printed for 2017-08-09 mesh2d_tem1\n",
      "figure printed for 2017-08-09 mesh2d_water_quality_output_9\n",
      "figure printed for 2017-08-09 mesh2d_waterdepth\n",
      "figure printed for 2017-08-09 mesh2d_ucmaga\n",
      "figure printed for 2017-08-09 mesh2d_Patm\n",
      "figure printed for 2017-08-09 mesh2d_hwav\n",
      "figure printed for 2017-08-11 mesh2d_sa1\n",
      "figure printed for 2017-08-11 mesh2d_tem1\n",
      "figure printed for 2017-08-11 mesh2d_water_quality_output_9\n",
      "figure printed for 2017-08-11 mesh2d_waterdepth\n",
      "figure printed for 2017-08-11 mesh2d_ucmaga\n",
      "figure printed for 2017-08-11 mesh2d_Patm\n",
      "figure printed for 2017-08-11 mesh2d_hwav\n",
      "figure printed for 2017-08-14 mesh2d_sa1\n",
      "figure printed for 2017-08-14 mesh2d_tem1\n",
      "figure printed for 2017-08-14 mesh2d_water_quality_output_9\n"
     ]
    },
    {
     "name": "stdout",
     "output_type": "stream",
     "text": [
      "figure printed for 2017-08-14 mesh2d_waterdepth\n",
      "figure printed for 2017-08-14 mesh2d_ucmaga\n",
      "figure printed for 2017-08-14 mesh2d_Patm\n",
      "figure printed for 2017-08-14 mesh2d_hwav\n",
      "figure printed for 2017-08-16 mesh2d_sa1\n",
      "figure printed for 2017-08-16 mesh2d_tem1\n",
      "figure printed for 2017-08-16 mesh2d_water_quality_output_9\n",
      "figure printed for 2017-08-16 mesh2d_waterdepth\n",
      "figure printed for 2017-08-16 mesh2d_ucmaga\n",
      "figure printed for 2017-08-16 mesh2d_Patm\n",
      "figure printed for 2017-08-16 mesh2d_hwav\n",
      "figure printed for 2017-08-19 mesh2d_sa1\n",
      "figure printed for 2017-08-19 mesh2d_tem1\n",
      "figure printed for 2017-08-19 mesh2d_water_quality_output_9\n",
      "figure printed for 2017-08-19 mesh2d_waterdepth\n",
      "figure printed for 2017-08-19 mesh2d_ucmaga\n",
      "figure printed for 2017-08-19 mesh2d_Patm\n",
      "figure printed for 2017-08-19 mesh2d_hwav\n",
      "figure printed for 2017-08-21 mesh2d_sa1\n",
      "figure printed for 2017-08-21 mesh2d_tem1\n",
      "figure printed for 2017-08-21 mesh2d_water_quality_output_9\n",
      "figure printed for 2017-08-21 mesh2d_waterdepth\n",
      "figure printed for 2017-08-21 mesh2d_ucmaga\n",
      "figure printed for 2017-08-21 mesh2d_Patm\n",
      "figure printed for 2017-08-21 mesh2d_hwav\n",
      "figure printed for 2017-08-24 mesh2d_sa1\n",
      "figure printed for 2017-08-24 mesh2d_tem1\n",
      "figure printed for 2017-08-24 mesh2d_water_quality_output_9\n",
      "figure printed for 2017-08-24 mesh2d_waterdepth\n",
      "figure printed for 2017-08-24 mesh2d_ucmaga\n",
      "figure printed for 2017-08-24 mesh2d_Patm\n",
      "figure printed for 2017-08-24 mesh2d_hwav\n",
      "figure printed for 2017-08-26 mesh2d_sa1\n",
      "figure printed for 2017-08-26 mesh2d_tem1\n",
      "figure printed for 2017-08-26 mesh2d_water_quality_output_9\n",
      "figure printed for 2017-08-26 mesh2d_waterdepth\n",
      "figure printed for 2017-08-26 mesh2d_ucmaga\n",
      "figure printed for 2017-08-26 mesh2d_Patm\n",
      "figure printed for 2017-08-26 mesh2d_hwav\n",
      "figure printed for 2017-08-29 mesh2d_sa1\n",
      "figure printed for 2017-08-29 mesh2d_tem1\n",
      "figure printed for 2017-08-29 mesh2d_water_quality_output_9\n",
      "figure printed for 2017-08-29 mesh2d_waterdepth\n",
      "figure printed for 2017-08-29 mesh2d_ucmaga\n",
      "figure printed for 2017-08-29 mesh2d_Patm\n",
      "figure printed for 2017-08-29 mesh2d_hwav\n",
      "figure printed for 2017-08-31 mesh2d_sa1\n",
      "figure printed for 2017-08-31 mesh2d_tem1\n",
      "figure printed for 2017-08-31 mesh2d_water_quality_output_9\n",
      "figure printed for 2017-08-31 mesh2d_waterdepth\n",
      "figure printed for 2017-08-31 mesh2d_ucmaga\n",
      "figure printed for 2017-08-31 mesh2d_Patm\n",
      "figure printed for 2017-08-31 mesh2d_hwav\n",
      "figure printed for 2017-09-03 mesh2d_sa1\n",
      "figure printed for 2017-09-03 mesh2d_tem1\n",
      "figure printed for 2017-09-03 mesh2d_water_quality_output_9\n",
      "figure printed for 2017-09-03 mesh2d_waterdepth\n",
      "figure printed for 2017-09-03 mesh2d_ucmaga\n",
      "figure printed for 2017-09-03 mesh2d_Patm\n",
      "figure printed for 2017-09-03 mesh2d_hwav\n",
      "figure printed for 2017-09-05 mesh2d_sa1\n",
      "figure printed for 2017-09-05 mesh2d_tem1\n",
      "figure printed for 2017-09-05 mesh2d_water_quality_output_9\n",
      "figure printed for 2017-09-05 mesh2d_waterdepth\n",
      "figure printed for 2017-09-05 mesh2d_ucmaga\n",
      "figure printed for 2017-09-05 mesh2d_Patm\n",
      "figure printed for 2017-09-05 mesh2d_hwav\n",
      "figure printed for 2017-09-08 mesh2d_sa1\n",
      "figure printed for 2017-09-08 mesh2d_tem1\n",
      "figure printed for 2017-09-08 mesh2d_water_quality_output_9\n",
      "figure printed for 2017-09-08 mesh2d_waterdepth\n",
      "figure printed for 2017-09-08 mesh2d_ucmaga\n",
      "figure printed for 2017-09-08 mesh2d_Patm\n",
      "figure printed for 2017-09-08 mesh2d_hwav\n",
      "figure printed for 2017-09-10 mesh2d_sa1\n",
      "figure printed for 2017-09-10 mesh2d_tem1\n",
      "figure printed for 2017-09-10 mesh2d_water_quality_output_9\n",
      "figure printed for 2017-09-10 mesh2d_waterdepth\n",
      "figure printed for 2017-09-10 mesh2d_ucmaga\n",
      "figure printed for 2017-09-10 mesh2d_Patm\n",
      "figure printed for 2017-09-10 mesh2d_hwav\n",
      "figure printed for 2017-09-13 mesh2d_sa1\n",
      "figure printed for 2017-09-13 mesh2d_tem1\n",
      "figure printed for 2017-09-13 mesh2d_water_quality_output_9\n",
      "figure printed for 2017-09-13 mesh2d_waterdepth\n",
      "figure printed for 2017-09-13 mesh2d_ucmaga\n",
      "figure printed for 2017-09-13 mesh2d_Patm\n",
      "figure printed for 2017-09-13 mesh2d_hwav\n",
      "figure printed for 2017-09-15 mesh2d_sa1\n",
      "figure printed for 2017-09-15 mesh2d_tem1\n",
      "figure printed for 2017-09-15 mesh2d_water_quality_output_9\n",
      "figure printed for 2017-09-15 mesh2d_waterdepth\n",
      "figure printed for 2017-09-15 mesh2d_ucmaga\n",
      "figure printed for 2017-09-15 mesh2d_Patm\n",
      "figure printed for 2017-09-15 mesh2d_hwav\n",
      "figure printed for 2017-09-18 mesh2d_sa1\n",
      "figure printed for 2017-09-18 mesh2d_tem1\n",
      "figure printed for 2017-09-18 mesh2d_water_quality_output_9\n",
      "figure printed for 2017-09-18 mesh2d_waterdepth\n",
      "figure printed for 2017-09-18 mesh2d_ucmaga\n",
      "figure printed for 2017-09-18 mesh2d_Patm\n",
      "figure printed for 2017-09-18 mesh2d_hwav\n",
      "figure printed for 2017-09-20 mesh2d_sa1\n",
      "figure printed for 2017-09-20 mesh2d_tem1\n",
      "figure printed for 2017-09-20 mesh2d_water_quality_output_9\n",
      "figure printed for 2017-09-20 mesh2d_waterdepth\n",
      "figure printed for 2017-09-20 mesh2d_ucmaga\n",
      "figure printed for 2017-09-20 mesh2d_Patm\n",
      "figure printed for 2017-09-20 mesh2d_hwav\n",
      "figure printed for 2017-09-23 mesh2d_sa1\n",
      "figure printed for 2017-09-23 mesh2d_tem1\n",
      "figure printed for 2017-09-23 mesh2d_water_quality_output_9\n",
      "figure printed for 2017-09-23 mesh2d_waterdepth\n",
      "figure printed for 2017-09-23 mesh2d_ucmaga\n",
      "figure printed for 2017-09-23 mesh2d_Patm\n",
      "figure printed for 2017-09-23 mesh2d_hwav\n",
      "figure printed for 2017-09-25 mesh2d_sa1\n",
      "figure printed for 2017-09-25 mesh2d_tem1\n",
      "figure printed for 2017-09-25 mesh2d_water_quality_output_9\n",
      "figure printed for 2017-09-25 mesh2d_waterdepth\n",
      "figure printed for 2017-09-25 mesh2d_ucmaga\n",
      "figure printed for 2017-09-25 mesh2d_Patm\n",
      "figure printed for 2017-09-25 mesh2d_hwav\n",
      "figure printed for 2017-09-28 mesh2d_sa1\n",
      "figure printed for 2017-09-28 mesh2d_tem1\n",
      "figure printed for 2017-09-28 mesh2d_water_quality_output_9\n",
      "figure printed for 2017-09-28 mesh2d_waterdepth\n",
      "figure printed for 2017-09-28 mesh2d_ucmaga\n",
      "figure printed for 2017-09-28 mesh2d_Patm\n",
      "figure printed for 2017-09-28 mesh2d_hwav\n",
      "figure printed for 2017-09-30 mesh2d_sa1\n",
      "figure printed for 2017-09-30 mesh2d_tem1\n",
      "figure printed for 2017-09-30 mesh2d_water_quality_output_9\n",
      "figure printed for 2017-09-30 mesh2d_waterdepth\n",
      "figure printed for 2017-09-30 mesh2d_ucmaga\n",
      "figure printed for 2017-09-30 mesh2d_Patm\n",
      "figure printed for 2017-09-30 mesh2d_hwav\n",
      "figure printed for 2017-10-03 mesh2d_sa1\n",
      "figure printed for 2017-10-03 mesh2d_tem1\n",
      "figure printed for 2017-10-03 mesh2d_water_quality_output_9\n",
      "figure printed for 2017-10-03 mesh2d_waterdepth\n",
      "figure printed for 2017-10-03 mesh2d_ucmaga\n",
      "figure printed for 2017-10-03 mesh2d_Patm\n",
      "figure printed for 2017-10-03 mesh2d_hwav\n",
      "figure printed for 2017-10-05 mesh2d_sa1\n",
      "figure printed for 2017-10-05 mesh2d_tem1\n",
      "figure printed for 2017-10-05 mesh2d_water_quality_output_9\n",
      "figure printed for 2017-10-05 mesh2d_waterdepth\n",
      "figure printed for 2017-10-05 mesh2d_ucmaga\n",
      "figure printed for 2017-10-05 mesh2d_Patm\n",
      "figure printed for 2017-10-05 mesh2d_hwav\n",
      "figure printed for 2017-10-08 mesh2d_sa1\n",
      "figure printed for 2017-10-08 mesh2d_tem1\n",
      "figure printed for 2017-10-08 mesh2d_water_quality_output_9\n",
      "figure printed for 2017-10-08 mesh2d_waterdepth\n",
      "figure printed for 2017-10-08 mesh2d_ucmaga\n",
      "figure printed for 2017-10-08 mesh2d_Patm\n",
      "figure printed for 2017-10-08 mesh2d_hwav\n",
      "figure printed for 2017-10-10 mesh2d_sa1\n",
      "figure printed for 2017-10-10 mesh2d_tem1\n",
      "figure printed for 2017-10-10 mesh2d_water_quality_output_9\n",
      "figure printed for 2017-10-10 mesh2d_waterdepth\n",
      "figure printed for 2017-10-10 mesh2d_ucmaga\n",
      "figure printed for 2017-10-10 mesh2d_Patm\n",
      "figure printed for 2017-10-10 mesh2d_hwav\n",
      "figure printed for 2017-10-13 mesh2d_sa1\n",
      "figure printed for 2017-10-13 mesh2d_tem1\n",
      "figure printed for 2017-10-13 mesh2d_water_quality_output_9\n",
      "figure printed for 2017-10-13 mesh2d_waterdepth\n",
      "figure printed for 2017-10-13 mesh2d_ucmaga\n",
      "figure printed for 2017-10-13 mesh2d_Patm\n",
      "figure printed for 2017-10-13 mesh2d_hwav\n",
      "figure printed for 2017-10-15 mesh2d_sa1\n",
      "figure printed for 2017-10-15 mesh2d_tem1\n",
      "figure printed for 2017-10-15 mesh2d_water_quality_output_9\n",
      "figure printed for 2017-10-15 mesh2d_waterdepth\n",
      "figure printed for 2017-10-15 mesh2d_ucmaga\n",
      "figure printed for 2017-10-15 mesh2d_Patm\n",
      "figure printed for 2017-10-15 mesh2d_hwav\n",
      "figure printed for 2017-10-18 mesh2d_sa1\n",
      "figure printed for 2017-10-18 mesh2d_tem1\n"
     ]
    },
    {
     "name": "stdout",
     "output_type": "stream",
     "text": [
      "figure printed for 2017-10-18 mesh2d_water_quality_output_9\n",
      "figure printed for 2017-10-18 mesh2d_waterdepth\n",
      "figure printed for 2017-10-18 mesh2d_ucmaga\n",
      "figure printed for 2017-10-18 mesh2d_Patm\n",
      "figure printed for 2017-10-18 mesh2d_hwav\n",
      "figure printed for 2017-10-20 mesh2d_sa1\n",
      "figure printed for 2017-10-20 mesh2d_tem1\n",
      "figure printed for 2017-10-20 mesh2d_water_quality_output_9\n",
      "figure printed for 2017-10-20 mesh2d_waterdepth\n",
      "figure printed for 2017-10-20 mesh2d_ucmaga\n",
      "figure printed for 2017-10-20 mesh2d_Patm\n",
      "figure printed for 2017-10-20 mesh2d_hwav\n",
      "figure printed for 2017-10-23 mesh2d_sa1\n",
      "figure printed for 2017-10-23 mesh2d_tem1\n",
      "figure printed for 2017-10-23 mesh2d_water_quality_output_9\n",
      "figure printed for 2017-10-23 mesh2d_waterdepth\n",
      "figure printed for 2017-10-23 mesh2d_ucmaga\n",
      "figure printed for 2017-10-23 mesh2d_Patm\n",
      "figure printed for 2017-10-23 mesh2d_hwav\n",
      "figure printed for 2017-10-25 mesh2d_sa1\n",
      "figure printed for 2017-10-25 mesh2d_tem1\n",
      "figure printed for 2017-10-25 mesh2d_water_quality_output_9\n",
      "figure printed for 2017-10-25 mesh2d_waterdepth\n",
      "figure printed for 2017-10-25 mesh2d_ucmaga\n",
      "figure printed for 2017-10-25 mesh2d_Patm\n",
      "figure printed for 2017-10-25 mesh2d_hwav\n",
      "figure printed for 2017-10-28 mesh2d_sa1\n",
      "figure printed for 2017-10-28 mesh2d_tem1\n",
      "figure printed for 2017-10-28 mesh2d_water_quality_output_9\n",
      "figure printed for 2017-10-28 mesh2d_waterdepth\n",
      "figure printed for 2017-10-28 mesh2d_ucmaga\n",
      "figure printed for 2017-10-28 mesh2d_Patm\n",
      "figure printed for 2017-10-28 mesh2d_hwav\n",
      "figure printed for 2017-10-30 mesh2d_sa1\n",
      "figure printed for 2017-10-30 mesh2d_tem1\n",
      "figure printed for 2017-10-30 mesh2d_water_quality_output_9\n",
      "figure printed for 2017-10-30 mesh2d_waterdepth\n",
      "figure printed for 2017-10-30 mesh2d_ucmaga\n",
      "figure printed for 2017-10-30 mesh2d_Patm\n",
      "figure printed for 2017-10-30 mesh2d_hwav\n",
      "figure printed for 2017-11-02 mesh2d_sa1\n",
      "figure printed for 2017-11-02 mesh2d_tem1\n",
      "figure printed for 2017-11-02 mesh2d_water_quality_output_9\n",
      "figure printed for 2017-11-02 mesh2d_waterdepth\n",
      "figure printed for 2017-11-02 mesh2d_ucmaga\n",
      "figure printed for 2017-11-02 mesh2d_Patm\n",
      "figure printed for 2017-11-02 mesh2d_hwav\n",
      "figure printed for 2017-11-04 mesh2d_sa1\n",
      "figure printed for 2017-11-04 mesh2d_tem1\n",
      "figure printed for 2017-11-04 mesh2d_water_quality_output_9\n",
      "figure printed for 2017-11-04 mesh2d_waterdepth\n",
      "figure printed for 2017-11-04 mesh2d_ucmaga\n",
      "figure printed for 2017-11-04 mesh2d_Patm\n",
      "figure printed for 2017-11-04 mesh2d_hwav\n",
      "figure printed for 2017-11-07 mesh2d_sa1\n",
      "figure printed for 2017-11-07 mesh2d_tem1\n",
      "figure printed for 2017-11-07 mesh2d_water_quality_output_9\n",
      "figure printed for 2017-11-07 mesh2d_waterdepth\n",
      "figure printed for 2017-11-07 mesh2d_ucmaga\n",
      "figure printed for 2017-11-07 mesh2d_Patm\n",
      "figure printed for 2017-11-07 mesh2d_hwav\n",
      "figure printed for 2017-11-09 mesh2d_sa1\n",
      "figure printed for 2017-11-09 mesh2d_tem1\n",
      "figure printed for 2017-11-09 mesh2d_water_quality_output_9\n",
      "figure printed for 2017-11-09 mesh2d_waterdepth\n",
      "figure printed for 2017-11-09 mesh2d_ucmaga\n",
      "figure printed for 2017-11-09 mesh2d_Patm\n",
      "figure printed for 2017-11-09 mesh2d_hwav\n",
      "figure printed for 2017-11-12 mesh2d_sa1\n",
      "figure printed for 2017-11-12 mesh2d_tem1\n",
      "figure printed for 2017-11-12 mesh2d_water_quality_output_9\n",
      "figure printed for 2017-11-12 mesh2d_waterdepth\n",
      "figure printed for 2017-11-12 mesh2d_ucmaga\n",
      "figure printed for 2017-11-12 mesh2d_Patm\n",
      "figure printed for 2017-11-12 mesh2d_hwav\n",
      "figure printed for 2017-11-14 mesh2d_sa1\n",
      "figure printed for 2017-11-14 mesh2d_tem1\n",
      "figure printed for 2017-11-14 mesh2d_water_quality_output_9\n",
      "figure printed for 2017-11-14 mesh2d_waterdepth\n",
      "figure printed for 2017-11-14 mesh2d_ucmaga\n",
      "figure printed for 2017-11-14 mesh2d_Patm\n",
      "figure printed for 2017-11-14 mesh2d_hwav\n",
      "figure printed for 2017-11-17 mesh2d_sa1\n",
      "figure printed for 2017-11-17 mesh2d_tem1\n",
      "figure printed for 2017-11-17 mesh2d_water_quality_output_9\n",
      "figure printed for 2017-11-17 mesh2d_waterdepth\n",
      "figure printed for 2017-11-17 mesh2d_ucmaga\n",
      "figure printed for 2017-11-17 mesh2d_Patm\n",
      "figure printed for 2017-11-17 mesh2d_hwav\n",
      "figure printed for 2017-11-19 mesh2d_sa1\n",
      "figure printed for 2017-11-19 mesh2d_tem1\n",
      "figure printed for 2017-11-19 mesh2d_water_quality_output_9\n",
      "figure printed for 2017-11-19 mesh2d_waterdepth\n",
      "figure printed for 2017-11-19 mesh2d_ucmaga\n",
      "figure printed for 2017-11-19 mesh2d_Patm\n",
      "figure printed for 2017-11-19 mesh2d_hwav\n",
      "figure printed for 2017-11-22 mesh2d_sa1\n",
      "figure printed for 2017-11-22 mesh2d_tem1\n",
      "figure printed for 2017-11-22 mesh2d_water_quality_output_9\n",
      "figure printed for 2017-11-22 mesh2d_waterdepth\n",
      "figure printed for 2017-11-22 mesh2d_ucmaga\n",
      "figure printed for 2017-11-22 mesh2d_Patm\n",
      "figure printed for 2017-11-22 mesh2d_hwav\n",
      "figure printed for 2017-11-24 mesh2d_sa1\n",
      "figure printed for 2017-11-24 mesh2d_tem1\n",
      "figure printed for 2017-11-24 mesh2d_water_quality_output_9\n",
      "figure printed for 2017-11-24 mesh2d_waterdepth\n",
      "figure printed for 2017-11-24 mesh2d_ucmaga\n",
      "figure printed for 2017-11-24 mesh2d_Patm\n",
      "figure printed for 2017-11-24 mesh2d_hwav\n",
      "figure printed for 2017-11-27 mesh2d_sa1\n",
      "figure printed for 2017-11-27 mesh2d_tem1\n",
      "figure printed for 2017-11-27 mesh2d_water_quality_output_9\n",
      "figure printed for 2017-11-27 mesh2d_waterdepth\n",
      "figure printed for 2017-11-27 mesh2d_ucmaga\n",
      "figure printed for 2017-11-27 mesh2d_Patm\n",
      "figure printed for 2017-11-27 mesh2d_hwav\n",
      "figure printed for 2017-11-29 mesh2d_sa1\n",
      "figure printed for 2017-11-29 mesh2d_tem1\n",
      "figure printed for 2017-11-29 mesh2d_water_quality_output_9\n",
      "figure printed for 2017-11-29 mesh2d_waterdepth\n",
      "figure printed for 2017-11-29 mesh2d_ucmaga\n",
      "figure printed for 2017-11-29 mesh2d_Patm\n",
      "figure printed for 2017-11-29 mesh2d_hwav\n",
      "figure printed for 2017-12-02 mesh2d_sa1\n",
      "figure printed for 2017-12-02 mesh2d_tem1\n",
      "figure printed for 2017-12-02 mesh2d_water_quality_output_9\n",
      "figure printed for 2017-12-02 mesh2d_waterdepth\n",
      "figure printed for 2017-12-02 mesh2d_ucmaga\n",
      "figure printed for 2017-12-02 mesh2d_Patm\n",
      "figure printed for 2017-12-02 mesh2d_hwav\n",
      "figure printed for 2017-12-07 mesh2d_sa1\n",
      "figure printed for 2017-12-07 mesh2d_tem1\n",
      "figure printed for 2017-12-07 mesh2d_water_quality_output_9\n",
      "figure printed for 2017-12-07 mesh2d_waterdepth\n",
      "figure printed for 2017-12-07 mesh2d_ucmaga\n",
      "figure printed for 2017-12-07 mesh2d_Patm\n",
      "figure printed for 2017-12-07 mesh2d_hwav\n",
      "figure printed for 2017-12-09 mesh2d_sa1\n",
      "figure printed for 2017-12-09 mesh2d_tem1\n",
      "figure printed for 2017-12-09 mesh2d_water_quality_output_9\n",
      "figure printed for 2017-12-09 mesh2d_waterdepth\n",
      "figure printed for 2017-12-09 mesh2d_ucmaga\n",
      "figure printed for 2017-12-09 mesh2d_Patm\n",
      "figure printed for 2017-12-09 mesh2d_hwav\n",
      "figure printed for 2017-12-12 mesh2d_sa1\n",
      "figure printed for 2017-12-12 mesh2d_tem1\n",
      "figure printed for 2017-12-12 mesh2d_water_quality_output_9\n",
      "figure printed for 2017-12-12 mesh2d_waterdepth\n",
      "figure printed for 2017-12-12 mesh2d_ucmaga\n",
      "figure printed for 2017-12-12 mesh2d_Patm\n",
      "figure printed for 2017-12-12 mesh2d_hwav\n",
      "figure printed for 2017-12-14 mesh2d_sa1\n",
      "figure printed for 2017-12-14 mesh2d_tem1\n",
      "figure printed for 2017-12-14 mesh2d_water_quality_output_9\n",
      "figure printed for 2017-12-14 mesh2d_waterdepth\n",
      "figure printed for 2017-12-14 mesh2d_ucmaga\n",
      "figure printed for 2017-12-14 mesh2d_Patm\n",
      "figure printed for 2017-12-14 mesh2d_hwav\n",
      "figure printed for 2017-12-17 mesh2d_sa1\n",
      "figure printed for 2017-12-17 mesh2d_tem1\n",
      "figure printed for 2017-12-17 mesh2d_water_quality_output_9\n",
      "figure printed for 2017-12-17 mesh2d_waterdepth\n",
      "figure printed for 2017-12-17 mesh2d_ucmaga\n",
      "figure printed for 2017-12-17 mesh2d_Patm\n",
      "figure printed for 2017-12-17 mesh2d_hwav\n",
      "figure printed for 2017-12-19 mesh2d_sa1\n",
      "figure printed for 2017-12-19 mesh2d_tem1\n",
      "figure printed for 2017-12-19 mesh2d_water_quality_output_9\n",
      "figure printed for 2017-12-19 mesh2d_waterdepth\n",
      "figure printed for 2017-12-19 mesh2d_ucmaga\n",
      "figure printed for 2017-12-19 mesh2d_Patm\n",
      "figure printed for 2017-12-19 mesh2d_hwav\n",
      "figure printed for 2017-12-22 mesh2d_sa1\n",
      "figure printed for 2017-12-22 mesh2d_tem1\n",
      "figure printed for 2017-12-22 mesh2d_water_quality_output_9\n",
      "figure printed for 2017-12-22 mesh2d_waterdepth\n",
      "figure printed for 2017-12-22 mesh2d_ucmaga\n",
      "figure printed for 2017-12-22 mesh2d_Patm\n",
      "figure printed for 2017-12-22 mesh2d_hwav\n"
     ]
    },
    {
     "name": "stdout",
     "output_type": "stream",
     "text": [
      "figure printed for 2017-12-24 mesh2d_sa1\n",
      "figure printed for 2017-12-24 mesh2d_tem1\n",
      "figure printed for 2017-12-24 mesh2d_water_quality_output_9\n",
      "figure printed for 2017-12-24 mesh2d_waterdepth\n",
      "figure printed for 2017-12-24 mesh2d_ucmaga\n",
      "figure printed for 2017-12-24 mesh2d_Patm\n",
      "figure printed for 2017-12-24 mesh2d_hwav\n",
      "figure printed for 2017-12-27 mesh2d_sa1\n",
      "figure printed for 2017-12-27 mesh2d_tem1\n",
      "figure printed for 2017-12-27 mesh2d_water_quality_output_9\n",
      "figure printed for 2017-12-27 mesh2d_waterdepth\n",
      "figure printed for 2017-12-27 mesh2d_ucmaga\n",
      "figure printed for 2017-12-27 mesh2d_Patm\n",
      "figure printed for 2017-12-27 mesh2d_hwav\n",
      "figure printed for 2017-12-29 mesh2d_sa1\n",
      "figure printed for 2017-12-29 mesh2d_tem1\n",
      "figure printed for 2017-12-29 mesh2d_water_quality_output_9\n",
      "figure printed for 2017-12-29 mesh2d_waterdepth\n",
      "figure printed for 2017-12-29 mesh2d_ucmaga\n",
      "figure printed for 2017-12-29 mesh2d_Patm\n",
      "figure printed for 2017-12-29 mesh2d_hwav\n"
     ]
    },
    {
     "data": {
      "text/plain": [
       "<Figure size 640x480 with 0 Axes>"
      ]
     },
     "metadata": {},
     "output_type": "display_data"
    },
    {
     "data": {
      "text/plain": [
       "<Figure size 640x480 with 0 Axes>"
      ]
     },
     "metadata": {},
     "output_type": "display_data"
    },
    {
     "data": {
      "text/plain": [
       "<Figure size 640x480 with 0 Axes>"
      ]
     },
     "metadata": {},
     "output_type": "display_data"
    },
    {
     "data": {
      "text/plain": [
       "<Figure size 640x480 with 0 Axes>"
      ]
     },
     "metadata": {},
     "output_type": "display_data"
    },
    {
     "data": {
      "text/plain": [
       "<Figure size 640x480 with 0 Axes>"
      ]
     },
     "metadata": {},
     "output_type": "display_data"
    },
    {
     "data": {
      "text/plain": [
       "<Figure size 640x480 with 0 Axes>"
      ]
     },
     "metadata": {},
     "output_type": "display_data"
    },
    {
     "data": {
      "text/plain": [
       "<Figure size 640x480 with 0 Axes>"
      ]
     },
     "metadata": {},
     "output_type": "display_data"
    },
    {
     "data": {
      "text/plain": [
       "<Figure size 640x480 with 0 Axes>"
      ]
     },
     "metadata": {},
     "output_type": "display_data"
    },
    {
     "data": {
      "text/plain": [
       "<Figure size 640x480 with 0 Axes>"
      ]
     },
     "metadata": {},
     "output_type": "display_data"
    },
    {
     "data": {
      "text/plain": [
       "<Figure size 640x480 with 0 Axes>"
      ]
     },
     "metadata": {},
     "output_type": "display_data"
    },
    {
     "data": {
      "text/plain": [
       "<Figure size 640x480 with 0 Axes>"
      ]
     },
     "metadata": {},
     "output_type": "display_data"
    },
    {
     "data": {
      "text/plain": [
       "<Figure size 640x480 with 0 Axes>"
      ]
     },
     "metadata": {},
     "output_type": "display_data"
    },
    {
     "data": {
      "text/plain": [
       "<Figure size 640x480 with 0 Axes>"
      ]
     },
     "metadata": {},
     "output_type": "display_data"
    },
    {
     "data": {
      "text/plain": [
       "<Figure size 640x480 with 0 Axes>"
      ]
     },
     "metadata": {},
     "output_type": "display_data"
    },
    {
     "data": {
      "text/plain": [
       "<Figure size 640x480 with 0 Axes>"
      ]
     },
     "metadata": {},
     "output_type": "display_data"
    },
    {
     "data": {
      "text/plain": [
       "<Figure size 640x480 with 0 Axes>"
      ]
     },
     "metadata": {},
     "output_type": "display_data"
    },
    {
     "data": {
      "text/plain": [
       "<Figure size 640x480 with 0 Axes>"
      ]
     },
     "metadata": {},
     "output_type": "display_data"
    },
    {
     "data": {
      "text/plain": [
       "<Figure size 640x480 with 0 Axes>"
      ]
     },
     "metadata": {},
     "output_type": "display_data"
    },
    {
     "data": {
      "text/plain": [
       "<Figure size 640x480 with 0 Axes>"
      ]
     },
     "metadata": {},
     "output_type": "display_data"
    },
    {
     "data": {
      "text/plain": [
       "<Figure size 640x480 with 0 Axes>"
      ]
     },
     "metadata": {},
     "output_type": "display_data"
    },
    {
     "data": {
      "text/plain": [
       "<Figure size 640x480 with 0 Axes>"
      ]
     },
     "metadata": {},
     "output_type": "display_data"
    },
    {
     "data": {
      "text/plain": [
       "<Figure size 640x480 with 0 Axes>"
      ]
     },
     "metadata": {},
     "output_type": "display_data"
    },
    {
     "data": {
      "text/plain": [
       "<Figure size 640x480 with 0 Axes>"
      ]
     },
     "metadata": {},
     "output_type": "display_data"
    },
    {
     "data": {
      "text/plain": [
       "<Figure size 640x480 with 0 Axes>"
      ]
     },
     "metadata": {},
     "output_type": "display_data"
    },
    {
     "data": {
      "text/plain": [
       "<Figure size 640x480 with 0 Axes>"
      ]
     },
     "metadata": {},
     "output_type": "display_data"
    },
    {
     "data": {
      "text/plain": [
       "<Figure size 640x480 with 0 Axes>"
      ]
     },
     "metadata": {},
     "output_type": "display_data"
    },
    {
     "data": {
      "text/plain": [
       "<Figure size 640x480 with 0 Axes>"
      ]
     },
     "metadata": {},
     "output_type": "display_data"
    },
    {
     "data": {
      "text/plain": [
       "<Figure size 640x480 with 0 Axes>"
      ]
     },
     "metadata": {},
     "output_type": "display_data"
    },
    {
     "data": {
      "text/plain": [
       "<Figure size 640x480 with 0 Axes>"
      ]
     },
     "metadata": {},
     "output_type": "display_data"
    },
    {
     "data": {
      "text/plain": [
       "<Figure size 640x480 with 0 Axes>"
      ]
     },
     "metadata": {},
     "output_type": "display_data"
    },
    {
     "data": {
      "text/plain": [
       "<Figure size 640x480 with 0 Axes>"
      ]
     },
     "metadata": {},
     "output_type": "display_data"
    },
    {
     "data": {
      "text/plain": [
       "<Figure size 640x480 with 0 Axes>"
      ]
     },
     "metadata": {},
     "output_type": "display_data"
    },
    {
     "data": {
      "text/plain": [
       "<Figure size 640x480 with 0 Axes>"
      ]
     },
     "metadata": {},
     "output_type": "display_data"
    },
    {
     "data": {
      "text/plain": [
       "<Figure size 640x480 with 0 Axes>"
      ]
     },
     "metadata": {},
     "output_type": "display_data"
    },
    {
     "data": {
      "text/plain": [
       "<Figure size 640x480 with 0 Axes>"
      ]
     },
     "metadata": {},
     "output_type": "display_data"
    },
    {
     "data": {
      "text/plain": [
       "<Figure size 640x480 with 0 Axes>"
      ]
     },
     "metadata": {},
     "output_type": "display_data"
    },
    {
     "data": {
      "text/plain": [
       "<Figure size 640x480 with 0 Axes>"
      ]
     },
     "metadata": {},
     "output_type": "display_data"
    },
    {
     "data": {
      "text/plain": [
       "<Figure size 640x480 with 0 Axes>"
      ]
     },
     "metadata": {},
     "output_type": "display_data"
    },
    {
     "data": {
      "text/plain": [
       "<Figure size 640x480 with 0 Axes>"
      ]
     },
     "metadata": {},
     "output_type": "display_data"
    },
    {
     "data": {
      "text/plain": [
       "<Figure size 640x480 with 0 Axes>"
      ]
     },
     "metadata": {},
     "output_type": "display_data"
    },
    {
     "data": {
      "text/plain": [
       "<Figure size 640x480 with 0 Axes>"
      ]
     },
     "metadata": {},
     "output_type": "display_data"
    },
    {
     "data": {
      "text/plain": [
       "<Figure size 640x480 with 0 Axes>"
      ]
     },
     "metadata": {},
     "output_type": "display_data"
    },
    {
     "data": {
      "text/plain": [
       "<Figure size 640x480 with 0 Axes>"
      ]
     },
     "metadata": {},
     "output_type": "display_data"
    },
    {
     "data": {
      "text/plain": [
       "<Figure size 640x480 with 0 Axes>"
      ]
     },
     "metadata": {},
     "output_type": "display_data"
    },
    {
     "data": {
      "text/plain": [
       "<Figure size 640x480 with 0 Axes>"
      ]
     },
     "metadata": {},
     "output_type": "display_data"
    },
    {
     "data": {
      "text/plain": [
       "<Figure size 640x480 with 0 Axes>"
      ]
     },
     "metadata": {},
     "output_type": "display_data"
    },
    {
     "data": {
      "text/plain": [
       "<Figure size 640x480 with 0 Axes>"
      ]
     },
     "metadata": {},
     "output_type": "display_data"
    },
    {
     "data": {
      "text/plain": [
       "<Figure size 640x480 with 0 Axes>"
      ]
     },
     "metadata": {},
     "output_type": "display_data"
    },
    {
     "data": {
      "text/plain": [
       "<Figure size 640x480 with 0 Axes>"
      ]
     },
     "metadata": {},
     "output_type": "display_data"
    },
    {
     "data": {
      "text/plain": [
       "<Figure size 640x480 with 0 Axes>"
      ]
     },
     "metadata": {},
     "output_type": "display_data"
    },
    {
     "data": {
      "text/plain": [
       "<Figure size 640x480 with 0 Axes>"
      ]
     },
     "metadata": {},
     "output_type": "display_data"
    },
    {
     "data": {
      "text/plain": [
       "<Figure size 640x480 with 0 Axes>"
      ]
     },
     "metadata": {},
     "output_type": "display_data"
    },
    {
     "data": {
      "text/plain": [
       "<Figure size 640x480 with 0 Axes>"
      ]
     },
     "metadata": {},
     "output_type": "display_data"
    },
    {
     "data": {
      "text/plain": [
       "<Figure size 640x480 with 0 Axes>"
      ]
     },
     "metadata": {},
     "output_type": "display_data"
    },
    {
     "data": {
      "text/plain": [
       "<Figure size 640x480 with 0 Axes>"
      ]
     },
     "metadata": {},
     "output_type": "display_data"
    },
    {
     "data": {
      "text/plain": [
       "<Figure size 640x480 with 0 Axes>"
      ]
     },
     "metadata": {},
     "output_type": "display_data"
    },
    {
     "data": {
      "text/plain": [
       "<Figure size 640x480 with 0 Axes>"
      ]
     },
     "metadata": {},
     "output_type": "display_data"
    },
    {
     "data": {
      "text/plain": [
       "<Figure size 640x480 with 0 Axes>"
      ]
     },
     "metadata": {},
     "output_type": "display_data"
    },
    {
     "data": {
      "text/plain": [
       "<Figure size 640x480 with 0 Axes>"
      ]
     },
     "metadata": {},
     "output_type": "display_data"
    },
    {
     "data": {
      "text/plain": [
       "<Figure size 640x480 with 0 Axes>"
      ]
     },
     "metadata": {},
     "output_type": "display_data"
    },
    {
     "data": {
      "text/plain": [
       "<Figure size 640x480 with 0 Axes>"
      ]
     },
     "metadata": {},
     "output_type": "display_data"
    },
    {
     "data": {
      "text/plain": [
       "<Figure size 640x480 with 0 Axes>"
      ]
     },
     "metadata": {},
     "output_type": "display_data"
    },
    {
     "data": {
      "text/plain": [
       "<Figure size 640x480 with 0 Axes>"
      ]
     },
     "metadata": {},
     "output_type": "display_data"
    },
    {
     "data": {
      "text/plain": [
       "<Figure size 640x480 with 0 Axes>"
      ]
     },
     "metadata": {},
     "output_type": "display_data"
    },
    {
     "data": {
      "text/plain": [
       "<Figure size 640x480 with 0 Axes>"
      ]
     },
     "metadata": {},
     "output_type": "display_data"
    },
    {
     "data": {
      "text/plain": [
       "<Figure size 640x480 with 0 Axes>"
      ]
     },
     "metadata": {},
     "output_type": "display_data"
    },
    {
     "data": {
      "text/plain": [
       "<Figure size 640x480 with 0 Axes>"
      ]
     },
     "metadata": {},
     "output_type": "display_data"
    },
    {
     "data": {
      "text/plain": [
       "<Figure size 640x480 with 0 Axes>"
      ]
     },
     "metadata": {},
     "output_type": "display_data"
    },
    {
     "data": {
      "text/plain": [
       "<Figure size 640x480 with 0 Axes>"
      ]
     },
     "metadata": {},
     "output_type": "display_data"
    },
    {
     "data": {
      "text/plain": [
       "<Figure size 640x480 with 0 Axes>"
      ]
     },
     "metadata": {},
     "output_type": "display_data"
    },
    {
     "data": {
      "text/plain": [
       "<Figure size 640x480 with 0 Axes>"
      ]
     },
     "metadata": {},
     "output_type": "display_data"
    },
    {
     "data": {
      "text/plain": [
       "<Figure size 640x480 with 0 Axes>"
      ]
     },
     "metadata": {},
     "output_type": "display_data"
    },
    {
     "data": {
      "text/plain": [
       "<Figure size 640x480 with 0 Axes>"
      ]
     },
     "metadata": {},
     "output_type": "display_data"
    },
    {
     "data": {
      "text/plain": [
       "<Figure size 640x480 with 0 Axes>"
      ]
     },
     "metadata": {},
     "output_type": "display_data"
    },
    {
     "data": {
      "text/plain": [
       "<Figure size 640x480 with 0 Axes>"
      ]
     },
     "metadata": {},
     "output_type": "display_data"
    },
    {
     "data": {
      "text/plain": [
       "<Figure size 640x480 with 0 Axes>"
      ]
     },
     "metadata": {},
     "output_type": "display_data"
    },
    {
     "data": {
      "text/plain": [
       "<Figure size 640x480 with 0 Axes>"
      ]
     },
     "metadata": {},
     "output_type": "display_data"
    },
    {
     "data": {
      "text/plain": [
       "<Figure size 640x480 with 0 Axes>"
      ]
     },
     "metadata": {},
     "output_type": "display_data"
    },
    {
     "data": {
      "text/plain": [
       "<Figure size 640x480 with 0 Axes>"
      ]
     },
     "metadata": {},
     "output_type": "display_data"
    },
    {
     "data": {
      "text/plain": [
       "<Figure size 640x480 with 0 Axes>"
      ]
     },
     "metadata": {},
     "output_type": "display_data"
    },
    {
     "data": {
      "text/plain": [
       "<Figure size 640x480 with 0 Axes>"
      ]
     },
     "metadata": {},
     "output_type": "display_data"
    },
    {
     "data": {
      "text/plain": [
       "<Figure size 640x480 with 0 Axes>"
      ]
     },
     "metadata": {},
     "output_type": "display_data"
    },
    {
     "data": {
      "text/plain": [
       "<Figure size 640x480 with 0 Axes>"
      ]
     },
     "metadata": {},
     "output_type": "display_data"
    },
    {
     "data": {
      "text/plain": [
       "<Figure size 640x480 with 0 Axes>"
      ]
     },
     "metadata": {},
     "output_type": "display_data"
    },
    {
     "data": {
      "text/plain": [
       "<Figure size 640x480 with 0 Axes>"
      ]
     },
     "metadata": {},
     "output_type": "display_data"
    },
    {
     "data": {
      "text/plain": [
       "<Figure size 640x480 with 0 Axes>"
      ]
     },
     "metadata": {},
     "output_type": "display_data"
    },
    {
     "data": {
      "text/plain": [
       "<Figure size 640x480 with 0 Axes>"
      ]
     },
     "metadata": {},
     "output_type": "display_data"
    },
    {
     "data": {
      "text/plain": [
       "<Figure size 640x480 with 0 Axes>"
      ]
     },
     "metadata": {},
     "output_type": "display_data"
    },
    {
     "data": {
      "text/plain": [
       "<Figure size 640x480 with 0 Axes>"
      ]
     },
     "metadata": {},
     "output_type": "display_data"
    },
    {
     "data": {
      "text/plain": [
       "<Figure size 640x480 with 0 Axes>"
      ]
     },
     "metadata": {},
     "output_type": "display_data"
    },
    {
     "data": {
      "text/plain": [
       "<Figure size 640x480 with 0 Axes>"
      ]
     },
     "metadata": {},
     "output_type": "display_data"
    },
    {
     "data": {
      "text/plain": [
       "<Figure size 640x480 with 0 Axes>"
      ]
     },
     "metadata": {},
     "output_type": "display_data"
    },
    {
     "data": {
      "text/plain": [
       "<Figure size 640x480 with 0 Axes>"
      ]
     },
     "metadata": {},
     "output_type": "display_data"
    },
    {
     "data": {
      "text/plain": [
       "<Figure size 640x480 with 0 Axes>"
      ]
     },
     "metadata": {},
     "output_type": "display_data"
    },
    {
     "data": {
      "text/plain": [
       "<Figure size 640x480 with 0 Axes>"
      ]
     },
     "metadata": {},
     "output_type": "display_data"
    },
    {
     "data": {
      "text/plain": [
       "<Figure size 640x480 with 0 Axes>"
      ]
     },
     "metadata": {},
     "output_type": "display_data"
    },
    {
     "data": {
      "text/plain": [
       "<Figure size 640x480 with 0 Axes>"
      ]
     },
     "metadata": {},
     "output_type": "display_data"
    },
    {
     "data": {
      "text/plain": [
       "<Figure size 640x480 with 0 Axes>"
      ]
     },
     "metadata": {},
     "output_type": "display_data"
    },
    {
     "data": {
      "text/plain": [
       "<Figure size 640x480 with 0 Axes>"
      ]
     },
     "metadata": {},
     "output_type": "display_data"
    },
    {
     "data": {
      "text/plain": [
       "<Figure size 640x480 with 0 Axes>"
      ]
     },
     "metadata": {},
     "output_type": "display_data"
    },
    {
     "data": {
      "text/plain": [
       "<Figure size 640x480 with 0 Axes>"
      ]
     },
     "metadata": {},
     "output_type": "display_data"
    },
    {
     "data": {
      "text/plain": [
       "<Figure size 640x480 with 0 Axes>"
      ]
     },
     "metadata": {},
     "output_type": "display_data"
    },
    {
     "data": {
      "text/plain": [
       "<Figure size 640x480 with 0 Axes>"
      ]
     },
     "metadata": {},
     "output_type": "display_data"
    },
    {
     "data": {
      "text/plain": [
       "<Figure size 640x480 with 0 Axes>"
      ]
     },
     "metadata": {},
     "output_type": "display_data"
    },
    {
     "data": {
      "text/plain": [
       "<Figure size 640x480 with 0 Axes>"
      ]
     },
     "metadata": {},
     "output_type": "display_data"
    },
    {
     "data": {
      "text/plain": [
       "<Figure size 640x480 with 0 Axes>"
      ]
     },
     "metadata": {},
     "output_type": "display_data"
    },
    {
     "data": {
      "text/plain": [
       "<Figure size 640x480 with 0 Axes>"
      ]
     },
     "metadata": {},
     "output_type": "display_data"
    },
    {
     "data": {
      "text/plain": [
       "<Figure size 640x480 with 0 Axes>"
      ]
     },
     "metadata": {},
     "output_type": "display_data"
    },
    {
     "data": {
      "text/plain": [
       "<Figure size 640x480 with 0 Axes>"
      ]
     },
     "metadata": {},
     "output_type": "display_data"
    },
    {
     "data": {
      "text/plain": [
       "<Figure size 640x480 with 0 Axes>"
      ]
     },
     "metadata": {},
     "output_type": "display_data"
    },
    {
     "data": {
      "text/plain": [
       "<Figure size 640x480 with 0 Axes>"
      ]
     },
     "metadata": {},
     "output_type": "display_data"
    },
    {
     "data": {
      "text/plain": [
       "<Figure size 640x480 with 0 Axes>"
      ]
     },
     "metadata": {},
     "output_type": "display_data"
    },
    {
     "data": {
      "text/plain": [
       "<Figure size 640x480 with 0 Axes>"
      ]
     },
     "metadata": {},
     "output_type": "display_data"
    },
    {
     "data": {
      "text/plain": [
       "<Figure size 640x480 with 0 Axes>"
      ]
     },
     "metadata": {},
     "output_type": "display_data"
    },
    {
     "data": {
      "text/plain": [
       "<Figure size 640x480 with 0 Axes>"
      ]
     },
     "metadata": {},
     "output_type": "display_data"
    },
    {
     "data": {
      "text/plain": [
       "<Figure size 640x480 with 0 Axes>"
      ]
     },
     "metadata": {},
     "output_type": "display_data"
    },
    {
     "data": {
      "text/plain": [
       "<Figure size 640x480 with 0 Axes>"
      ]
     },
     "metadata": {},
     "output_type": "display_data"
    },
    {
     "data": {
      "text/plain": [
       "<Figure size 640x480 with 0 Axes>"
      ]
     },
     "metadata": {},
     "output_type": "display_data"
    },
    {
     "data": {
      "text/plain": [
       "<Figure size 640x480 with 0 Axes>"
      ]
     },
     "metadata": {},
     "output_type": "display_data"
    },
    {
     "data": {
      "text/plain": [
       "<Figure size 640x480 with 0 Axes>"
      ]
     },
     "metadata": {},
     "output_type": "display_data"
    },
    {
     "data": {
      "text/plain": [
       "<Figure size 640x480 with 0 Axes>"
      ]
     },
     "metadata": {},
     "output_type": "display_data"
    },
    {
     "data": {
      "text/plain": [
       "<Figure size 640x480 with 0 Axes>"
      ]
     },
     "metadata": {},
     "output_type": "display_data"
    },
    {
     "data": {
      "text/plain": [
       "<Figure size 640x480 with 0 Axes>"
      ]
     },
     "metadata": {},
     "output_type": "display_data"
    },
    {
     "data": {
      "text/plain": [
       "<Figure size 640x480 with 0 Axes>"
      ]
     },
     "metadata": {},
     "output_type": "display_data"
    },
    {
     "data": {
      "text/plain": [
       "<Figure size 640x480 with 0 Axes>"
      ]
     },
     "metadata": {},
     "output_type": "display_data"
    },
    {
     "data": {
      "text/plain": [
       "<Figure size 640x480 with 0 Axes>"
      ]
     },
     "metadata": {},
     "output_type": "display_data"
    },
    {
     "data": {
      "text/plain": [
       "<Figure size 640x480 with 0 Axes>"
      ]
     },
     "metadata": {},
     "output_type": "display_data"
    },
    {
     "data": {
      "text/plain": [
       "<Figure size 640x480 with 0 Axes>"
      ]
     },
     "metadata": {},
     "output_type": "display_data"
    },
    {
     "data": {
      "text/plain": [
       "<Figure size 640x480 with 0 Axes>"
      ]
     },
     "metadata": {},
     "output_type": "display_data"
    },
    {
     "data": {
      "text/plain": [
       "<Figure size 640x480 with 0 Axes>"
      ]
     },
     "metadata": {},
     "output_type": "display_data"
    },
    {
     "data": {
      "text/plain": [
       "<Figure size 640x480 with 0 Axes>"
      ]
     },
     "metadata": {},
     "output_type": "display_data"
    },
    {
     "data": {
      "text/plain": [
       "<Figure size 640x480 with 0 Axes>"
      ]
     },
     "metadata": {},
     "output_type": "display_data"
    },
    {
     "data": {
      "text/plain": [
       "<Figure size 640x480 with 0 Axes>"
      ]
     },
     "metadata": {},
     "output_type": "display_data"
    },
    {
     "data": {
      "text/plain": [
       "<Figure size 640x480 with 0 Axes>"
      ]
     },
     "metadata": {},
     "output_type": "display_data"
    },
    {
     "data": {
      "text/plain": [
       "<Figure size 640x480 with 0 Axes>"
      ]
     },
     "metadata": {},
     "output_type": "display_data"
    },
    {
     "data": {
      "text/plain": [
       "<Figure size 640x480 with 0 Axes>"
      ]
     },
     "metadata": {},
     "output_type": "display_data"
    },
    {
     "data": {
      "text/plain": [
       "<Figure size 640x480 with 0 Axes>"
      ]
     },
     "metadata": {},
     "output_type": "display_data"
    },
    {
     "data": {
      "text/plain": [
       "<Figure size 640x480 with 0 Axes>"
      ]
     },
     "metadata": {},
     "output_type": "display_data"
    },
    {
     "data": {
      "text/plain": [
       "<Figure size 640x480 with 0 Axes>"
      ]
     },
     "metadata": {},
     "output_type": "display_data"
    },
    {
     "data": {
      "text/plain": [
       "<Figure size 640x480 with 0 Axes>"
      ]
     },
     "metadata": {},
     "output_type": "display_data"
    },
    {
     "data": {
      "text/plain": [
       "<Figure size 640x480 with 0 Axes>"
      ]
     },
     "metadata": {},
     "output_type": "display_data"
    },
    {
     "data": {
      "text/plain": [
       "<Figure size 640x480 with 0 Axes>"
      ]
     },
     "metadata": {},
     "output_type": "display_data"
    },
    {
     "data": {
      "text/plain": [
       "<Figure size 640x480 with 0 Axes>"
      ]
     },
     "metadata": {},
     "output_type": "display_data"
    },
    {
     "data": {
      "text/plain": [
       "<Figure size 640x480 with 0 Axes>"
      ]
     },
     "metadata": {},
     "output_type": "display_data"
    },
    {
     "data": {
      "text/plain": [
       "<Figure size 640x480 with 0 Axes>"
      ]
     },
     "metadata": {},
     "output_type": "display_data"
    },
    {
     "data": {
      "text/plain": [
       "<Figure size 640x480 with 0 Axes>"
      ]
     },
     "metadata": {},
     "output_type": "display_data"
    },
    {
     "data": {
      "text/plain": [
       "<Figure size 640x480 with 0 Axes>"
      ]
     },
     "metadata": {},
     "output_type": "display_data"
    },
    {
     "data": {
      "text/plain": [
       "<Figure size 640x480 with 0 Axes>"
      ]
     },
     "metadata": {},
     "output_type": "display_data"
    },
    {
     "data": {
      "text/plain": [
       "<Figure size 640x480 with 0 Axes>"
      ]
     },
     "metadata": {},
     "output_type": "display_data"
    },
    {
     "data": {
      "text/plain": [
       "<Figure size 640x480 with 0 Axes>"
      ]
     },
     "metadata": {},
     "output_type": "display_data"
    },
    {
     "data": {
      "text/plain": [
       "<Figure size 640x480 with 0 Axes>"
      ]
     },
     "metadata": {},
     "output_type": "display_data"
    },
    {
     "data": {
      "text/plain": [
       "<Figure size 640x480 with 0 Axes>"
      ]
     },
     "metadata": {},
     "output_type": "display_data"
    },
    {
     "data": {
      "text/plain": [
       "<Figure size 640x480 with 0 Axes>"
      ]
     },
     "metadata": {},
     "output_type": "display_data"
    },
    {
     "data": {
      "text/plain": [
       "<Figure size 640x480 with 0 Axes>"
      ]
     },
     "metadata": {},
     "output_type": "display_data"
    },
    {
     "data": {
      "text/plain": [
       "<Figure size 640x480 with 0 Axes>"
      ]
     },
     "metadata": {},
     "output_type": "display_data"
    },
    {
     "data": {
      "text/plain": [
       "<Figure size 640x480 with 0 Axes>"
      ]
     },
     "metadata": {},
     "output_type": "display_data"
    },
    {
     "data": {
      "text/plain": [
       "<Figure size 640x480 with 0 Axes>"
      ]
     },
     "metadata": {},
     "output_type": "display_data"
    },
    {
     "data": {
      "text/plain": [
       "<Figure size 640x480 with 0 Axes>"
      ]
     },
     "metadata": {},
     "output_type": "display_data"
    },
    {
     "data": {
      "text/plain": [
       "<Figure size 640x480 with 0 Axes>"
      ]
     },
     "metadata": {},
     "output_type": "display_data"
    },
    {
     "data": {
      "text/plain": [
       "<Figure size 640x480 with 0 Axes>"
      ]
     },
     "metadata": {},
     "output_type": "display_data"
    },
    {
     "data": {
      "text/plain": [
       "<Figure size 640x480 with 0 Axes>"
      ]
     },
     "metadata": {},
     "output_type": "display_data"
    },
    {
     "data": {
      "text/plain": [
       "<Figure size 640x480 with 0 Axes>"
      ]
     },
     "metadata": {},
     "output_type": "display_data"
    },
    {
     "data": {
      "text/plain": [
       "<Figure size 640x480 with 0 Axes>"
      ]
     },
     "metadata": {},
     "output_type": "display_data"
    },
    {
     "data": {
      "text/plain": [
       "<Figure size 640x480 with 0 Axes>"
      ]
     },
     "metadata": {},
     "output_type": "display_data"
    },
    {
     "data": {
      "text/plain": [
       "<Figure size 640x480 with 0 Axes>"
      ]
     },
     "metadata": {},
     "output_type": "display_data"
    },
    {
     "data": {
      "text/plain": [
       "<Figure size 640x480 with 0 Axes>"
      ]
     },
     "metadata": {},
     "output_type": "display_data"
    },
    {
     "data": {
      "text/plain": [
       "<Figure size 640x480 with 0 Axes>"
      ]
     },
     "metadata": {},
     "output_type": "display_data"
    },
    {
     "data": {
      "text/plain": [
       "<Figure size 640x480 with 0 Axes>"
      ]
     },
     "metadata": {},
     "output_type": "display_data"
    },
    {
     "data": {
      "text/plain": [
       "<Figure size 640x480 with 0 Axes>"
      ]
     },
     "metadata": {},
     "output_type": "display_data"
    },
    {
     "data": {
      "text/plain": [
       "<Figure size 640x480 with 0 Axes>"
      ]
     },
     "metadata": {},
     "output_type": "display_data"
    },
    {
     "data": {
      "text/plain": [
       "<Figure size 640x480 with 0 Axes>"
      ]
     },
     "metadata": {},
     "output_type": "display_data"
    },
    {
     "data": {
      "text/plain": [
       "<Figure size 640x480 with 0 Axes>"
      ]
     },
     "metadata": {},
     "output_type": "display_data"
    },
    {
     "data": {
      "text/plain": [
       "<Figure size 640x480 with 0 Axes>"
      ]
     },
     "metadata": {},
     "output_type": "display_data"
    },
    {
     "data": {
      "text/plain": [
       "<Figure size 640x480 with 0 Axes>"
      ]
     },
     "metadata": {},
     "output_type": "display_data"
    },
    {
     "data": {
      "text/plain": [
       "<Figure size 640x480 with 0 Axes>"
      ]
     },
     "metadata": {},
     "output_type": "display_data"
    },
    {
     "data": {
      "text/plain": [
       "<Figure size 640x480 with 0 Axes>"
      ]
     },
     "metadata": {},
     "output_type": "display_data"
    },
    {
     "data": {
      "text/plain": [
       "<Figure size 640x480 with 0 Axes>"
      ]
     },
     "metadata": {},
     "output_type": "display_data"
    },
    {
     "data": {
      "text/plain": [
       "<Figure size 640x480 with 0 Axes>"
      ]
     },
     "metadata": {},
     "output_type": "display_data"
    },
    {
     "data": {
      "text/plain": [
       "<Figure size 640x480 with 0 Axes>"
      ]
     },
     "metadata": {},
     "output_type": "display_data"
    },
    {
     "data": {
      "text/plain": [
       "<Figure size 640x480 with 0 Axes>"
      ]
     },
     "metadata": {},
     "output_type": "display_data"
    },
    {
     "data": {
      "text/plain": [
       "<Figure size 640x480 with 0 Axes>"
      ]
     },
     "metadata": {},
     "output_type": "display_data"
    },
    {
     "data": {
      "text/plain": [
       "<Figure size 640x480 with 0 Axes>"
      ]
     },
     "metadata": {},
     "output_type": "display_data"
    },
    {
     "data": {
      "text/plain": [
       "<Figure size 640x480 with 0 Axes>"
      ]
     },
     "metadata": {},
     "output_type": "display_data"
    },
    {
     "data": {
      "text/plain": [
       "<Figure size 640x480 with 0 Axes>"
      ]
     },
     "metadata": {},
     "output_type": "display_data"
    },
    {
     "data": {
      "text/plain": [
       "<Figure size 640x480 with 0 Axes>"
      ]
     },
     "metadata": {},
     "output_type": "display_data"
    },
    {
     "data": {
      "text/plain": [
       "<Figure size 640x480 with 0 Axes>"
      ]
     },
     "metadata": {},
     "output_type": "display_data"
    },
    {
     "data": {
      "text/plain": [
       "<Figure size 640x480 with 0 Axes>"
      ]
     },
     "metadata": {},
     "output_type": "display_data"
    },
    {
     "data": {
      "text/plain": [
       "<Figure size 640x480 with 0 Axes>"
      ]
     },
     "metadata": {},
     "output_type": "display_data"
    },
    {
     "data": {
      "text/plain": [
       "<Figure size 640x480 with 0 Axes>"
      ]
     },
     "metadata": {},
     "output_type": "display_data"
    },
    {
     "data": {
      "text/plain": [
       "<Figure size 640x480 with 0 Axes>"
      ]
     },
     "metadata": {},
     "output_type": "display_data"
    },
    {
     "data": {
      "text/plain": [
       "<Figure size 640x480 with 0 Axes>"
      ]
     },
     "metadata": {},
     "output_type": "display_data"
    },
    {
     "data": {
      "text/plain": [
       "<Figure size 640x480 with 0 Axes>"
      ]
     },
     "metadata": {},
     "output_type": "display_data"
    },
    {
     "data": {
      "text/plain": [
       "<Figure size 640x480 with 0 Axes>"
      ]
     },
     "metadata": {},
     "output_type": "display_data"
    },
    {
     "data": {
      "text/plain": [
       "<Figure size 640x480 with 0 Axes>"
      ]
     },
     "metadata": {},
     "output_type": "display_data"
    },
    {
     "data": {
      "text/plain": [
       "<Figure size 640x480 with 0 Axes>"
      ]
     },
     "metadata": {},
     "output_type": "display_data"
    },
    {
     "data": {
      "text/plain": [
       "<Figure size 640x480 with 0 Axes>"
      ]
     },
     "metadata": {},
     "output_type": "display_data"
    },
    {
     "data": {
      "text/plain": [
       "<Figure size 640x480 with 0 Axes>"
      ]
     },
     "metadata": {},
     "output_type": "display_data"
    },
    {
     "data": {
      "text/plain": [
       "<Figure size 640x480 with 0 Axes>"
      ]
     },
     "metadata": {},
     "output_type": "display_data"
    },
    {
     "data": {
      "text/plain": [
       "<Figure size 640x480 with 0 Axes>"
      ]
     },
     "metadata": {},
     "output_type": "display_data"
    },
    {
     "data": {
      "text/plain": [
       "<Figure size 640x480 with 0 Axes>"
      ]
     },
     "metadata": {},
     "output_type": "display_data"
    },
    {
     "data": {
      "text/plain": [
       "<Figure size 640x480 with 0 Axes>"
      ]
     },
     "metadata": {},
     "output_type": "display_data"
    },
    {
     "data": {
      "text/plain": [
       "<Figure size 640x480 with 0 Axes>"
      ]
     },
     "metadata": {},
     "output_type": "display_data"
    },
    {
     "data": {
      "text/plain": [
       "<Figure size 640x480 with 0 Axes>"
      ]
     },
     "metadata": {},
     "output_type": "display_data"
    },
    {
     "data": {
      "text/plain": [
       "<Figure size 640x480 with 0 Axes>"
      ]
     },
     "metadata": {},
     "output_type": "display_data"
    },
    {
     "data": {
      "text/plain": [
       "<Figure size 640x480 with 0 Axes>"
      ]
     },
     "metadata": {},
     "output_type": "display_data"
    },
    {
     "data": {
      "text/plain": [
       "<Figure size 640x480 with 0 Axes>"
      ]
     },
     "metadata": {},
     "output_type": "display_data"
    },
    {
     "data": {
      "text/plain": [
       "<Figure size 640x480 with 0 Axes>"
      ]
     },
     "metadata": {},
     "output_type": "display_data"
    },
    {
     "data": {
      "text/plain": [
       "<Figure size 640x480 with 0 Axes>"
      ]
     },
     "metadata": {},
     "output_type": "display_data"
    },
    {
     "data": {
      "text/plain": [
       "<Figure size 640x480 with 0 Axes>"
      ]
     },
     "metadata": {},
     "output_type": "display_data"
    },
    {
     "data": {
      "text/plain": [
       "<Figure size 640x480 with 0 Axes>"
      ]
     },
     "metadata": {},
     "output_type": "display_data"
    },
    {
     "data": {
      "text/plain": [
       "<Figure size 640x480 with 0 Axes>"
      ]
     },
     "metadata": {},
     "output_type": "display_data"
    },
    {
     "data": {
      "text/plain": [
       "<Figure size 640x480 with 0 Axes>"
      ]
     },
     "metadata": {},
     "output_type": "display_data"
    },
    {
     "data": {
      "text/plain": [
       "<Figure size 640x480 with 0 Axes>"
      ]
     },
     "metadata": {},
     "output_type": "display_data"
    },
    {
     "data": {
      "text/plain": [
       "<Figure size 640x480 with 0 Axes>"
      ]
     },
     "metadata": {},
     "output_type": "display_data"
    },
    {
     "data": {
      "text/plain": [
       "<Figure size 640x480 with 0 Axes>"
      ]
     },
     "metadata": {},
     "output_type": "display_data"
    },
    {
     "data": {
      "text/plain": [
       "<Figure size 640x480 with 0 Axes>"
      ]
     },
     "metadata": {},
     "output_type": "display_data"
    },
    {
     "data": {
      "text/plain": [
       "<Figure size 640x480 with 0 Axes>"
      ]
     },
     "metadata": {},
     "output_type": "display_data"
    },
    {
     "data": {
      "text/plain": [
       "<Figure size 640x480 with 0 Axes>"
      ]
     },
     "metadata": {},
     "output_type": "display_data"
    },
    {
     "data": {
      "text/plain": [
       "<Figure size 640x480 with 0 Axes>"
      ]
     },
     "metadata": {},
     "output_type": "display_data"
    },
    {
     "data": {
      "text/plain": [
       "<Figure size 640x480 with 0 Axes>"
      ]
     },
     "metadata": {},
     "output_type": "display_data"
    },
    {
     "data": {
      "text/plain": [
       "<Figure size 640x480 with 0 Axes>"
      ]
     },
     "metadata": {},
     "output_type": "display_data"
    },
    {
     "data": {
      "text/plain": [
       "<Figure size 640x480 with 0 Axes>"
      ]
     },
     "metadata": {},
     "output_type": "display_data"
    },
    {
     "data": {
      "text/plain": [
       "<Figure size 640x480 with 0 Axes>"
      ]
     },
     "metadata": {},
     "output_type": "display_data"
    },
    {
     "data": {
      "text/plain": [
       "<Figure size 640x480 with 0 Axes>"
      ]
     },
     "metadata": {},
     "output_type": "display_data"
    },
    {
     "data": {
      "text/plain": [
       "<Figure size 640x480 with 0 Axes>"
      ]
     },
     "metadata": {},
     "output_type": "display_data"
    },
    {
     "data": {
      "text/plain": [
       "<Figure size 640x480 with 0 Axes>"
      ]
     },
     "metadata": {},
     "output_type": "display_data"
    },
    {
     "data": {
      "text/plain": [
       "<Figure size 640x480 with 0 Axes>"
      ]
     },
     "metadata": {},
     "output_type": "display_data"
    },
    {
     "data": {
      "text/plain": [
       "<Figure size 640x480 with 0 Axes>"
      ]
     },
     "metadata": {},
     "output_type": "display_data"
    },
    {
     "data": {
      "text/plain": [
       "<Figure size 640x480 with 0 Axes>"
      ]
     },
     "metadata": {},
     "output_type": "display_data"
    },
    {
     "data": {
      "text/plain": [
       "<Figure size 640x480 with 0 Axes>"
      ]
     },
     "metadata": {},
     "output_type": "display_data"
    },
    {
     "data": {
      "text/plain": [
       "<Figure size 640x480 with 0 Axes>"
      ]
     },
     "metadata": {},
     "output_type": "display_data"
    },
    {
     "data": {
      "text/plain": [
       "<Figure size 640x480 with 0 Axes>"
      ]
     },
     "metadata": {},
     "output_type": "display_data"
    },
    {
     "data": {
      "text/plain": [
       "<Figure size 640x480 with 0 Axes>"
      ]
     },
     "metadata": {},
     "output_type": "display_data"
    },
    {
     "data": {
      "text/plain": [
       "<Figure size 640x480 with 0 Axes>"
      ]
     },
     "metadata": {},
     "output_type": "display_data"
    },
    {
     "data": {
      "text/plain": [
       "<Figure size 640x480 with 0 Axes>"
      ]
     },
     "metadata": {},
     "output_type": "display_data"
    },
    {
     "data": {
      "text/plain": [
       "<Figure size 640x480 with 0 Axes>"
      ]
     },
     "metadata": {},
     "output_type": "display_data"
    },
    {
     "data": {
      "text/plain": [
       "<Figure size 640x480 with 0 Axes>"
      ]
     },
     "metadata": {},
     "output_type": "display_data"
    },
    {
     "data": {
      "text/plain": [
       "<Figure size 640x480 with 0 Axes>"
      ]
     },
     "metadata": {},
     "output_type": "display_data"
    },
    {
     "data": {
      "text/plain": [
       "<Figure size 640x480 with 0 Axes>"
      ]
     },
     "metadata": {},
     "output_type": "display_data"
    },
    {
     "data": {
      "text/plain": [
       "<Figure size 640x480 with 0 Axes>"
      ]
     },
     "metadata": {},
     "output_type": "display_data"
    },
    {
     "data": {
      "text/plain": [
       "<Figure size 640x480 with 0 Axes>"
      ]
     },
     "metadata": {},
     "output_type": "display_data"
    },
    {
     "data": {
      "text/plain": [
       "<Figure size 640x480 with 0 Axes>"
      ]
     },
     "metadata": {},
     "output_type": "display_data"
    },
    {
     "data": {
      "text/plain": [
       "<Figure size 640x480 with 0 Axes>"
      ]
     },
     "metadata": {},
     "output_type": "display_data"
    },
    {
     "data": {
      "text/plain": [
       "<Figure size 640x480 with 0 Axes>"
      ]
     },
     "metadata": {},
     "output_type": "display_data"
    },
    {
     "data": {
      "text/plain": [
       "<Figure size 640x480 with 0 Axes>"
      ]
     },
     "metadata": {},
     "output_type": "display_data"
    },
    {
     "data": {
      "text/plain": [
       "<Figure size 640x480 with 0 Axes>"
      ]
     },
     "metadata": {},
     "output_type": "display_data"
    },
    {
     "data": {
      "text/plain": [
       "<Figure size 640x480 with 0 Axes>"
      ]
     },
     "metadata": {},
     "output_type": "display_data"
    },
    {
     "data": {
      "text/plain": [
       "<Figure size 640x480 with 0 Axes>"
      ]
     },
     "metadata": {},
     "output_type": "display_data"
    },
    {
     "data": {
      "text/plain": [
       "<Figure size 640x480 with 0 Axes>"
      ]
     },
     "metadata": {},
     "output_type": "display_data"
    },
    {
     "data": {
      "text/plain": [
       "<Figure size 640x480 with 0 Axes>"
      ]
     },
     "metadata": {},
     "output_type": "display_data"
    },
    {
     "data": {
      "text/plain": [
       "<Figure size 640x480 with 0 Axes>"
      ]
     },
     "metadata": {},
     "output_type": "display_data"
    },
    {
     "data": {
      "text/plain": [
       "<Figure size 640x480 with 0 Axes>"
      ]
     },
     "metadata": {},
     "output_type": "display_data"
    },
    {
     "data": {
      "text/plain": [
       "<Figure size 640x480 with 0 Axes>"
      ]
     },
     "metadata": {},
     "output_type": "display_data"
    },
    {
     "data": {
      "text/plain": [
       "<Figure size 640x480 with 0 Axes>"
      ]
     },
     "metadata": {},
     "output_type": "display_data"
    },
    {
     "data": {
      "text/plain": [
       "<Figure size 640x480 with 0 Axes>"
      ]
     },
     "metadata": {},
     "output_type": "display_data"
    },
    {
     "data": {
      "text/plain": [
       "<Figure size 640x480 with 0 Axes>"
      ]
     },
     "metadata": {},
     "output_type": "display_data"
    },
    {
     "data": {
      "text/plain": [
       "<Figure size 640x480 with 0 Axes>"
      ]
     },
     "metadata": {},
     "output_type": "display_data"
    },
    {
     "data": {
      "text/plain": [
       "<Figure size 640x480 with 0 Axes>"
      ]
     },
     "metadata": {},
     "output_type": "display_data"
    },
    {
     "data": {
      "text/plain": [
       "<Figure size 640x480 with 0 Axes>"
      ]
     },
     "metadata": {},
     "output_type": "display_data"
    },
    {
     "data": {
      "text/plain": [
       "<Figure size 640x480 with 0 Axes>"
      ]
     },
     "metadata": {},
     "output_type": "display_data"
    },
    {
     "data": {
      "text/plain": [
       "<Figure size 640x480 with 0 Axes>"
      ]
     },
     "metadata": {},
     "output_type": "display_data"
    },
    {
     "data": {
      "text/plain": [
       "<Figure size 640x480 with 0 Axes>"
      ]
     },
     "metadata": {},
     "output_type": "display_data"
    },
    {
     "data": {
      "text/plain": [
       "<Figure size 640x480 with 0 Axes>"
      ]
     },
     "metadata": {},
     "output_type": "display_data"
    },
    {
     "data": {
      "text/plain": [
       "<Figure size 640x480 with 0 Axes>"
      ]
     },
     "metadata": {},
     "output_type": "display_data"
    },
    {
     "data": {
      "text/plain": [
       "<Figure size 640x480 with 0 Axes>"
      ]
     },
     "metadata": {},
     "output_type": "display_data"
    },
    {
     "data": {
      "text/plain": [
       "<Figure size 640x480 with 0 Axes>"
      ]
     },
     "metadata": {},
     "output_type": "display_data"
    },
    {
     "data": {
      "text/plain": [
       "<Figure size 640x480 with 0 Axes>"
      ]
     },
     "metadata": {},
     "output_type": "display_data"
    },
    {
     "data": {
      "text/plain": [
       "<Figure size 640x480 with 0 Axes>"
      ]
     },
     "metadata": {},
     "output_type": "display_data"
    },
    {
     "data": {
      "text/plain": [
       "<Figure size 640x480 with 0 Axes>"
      ]
     },
     "metadata": {},
     "output_type": "display_data"
    },
    {
     "data": {
      "text/plain": [
       "<Figure size 640x480 with 0 Axes>"
      ]
     },
     "metadata": {},
     "output_type": "display_data"
    },
    {
     "data": {
      "text/plain": [
       "<Figure size 640x480 with 0 Axes>"
      ]
     },
     "metadata": {},
     "output_type": "display_data"
    },
    {
     "data": {
      "text/plain": [
       "<Figure size 640x480 with 0 Axes>"
      ]
     },
     "metadata": {},
     "output_type": "display_data"
    },
    {
     "data": {
      "text/plain": [
       "<Figure size 640x480 with 0 Axes>"
      ]
     },
     "metadata": {},
     "output_type": "display_data"
    },
    {
     "data": {
      "text/plain": [
       "<Figure size 640x480 with 0 Axes>"
      ]
     },
     "metadata": {},
     "output_type": "display_data"
    },
    {
     "data": {
      "text/plain": [
       "<Figure size 640x480 with 0 Axes>"
      ]
     },
     "metadata": {},
     "output_type": "display_data"
    },
    {
     "data": {
      "text/plain": [
       "<Figure size 640x480 with 0 Axes>"
      ]
     },
     "metadata": {},
     "output_type": "display_data"
    },
    {
     "data": {
      "text/plain": [
       "<Figure size 640x480 with 0 Axes>"
      ]
     },
     "metadata": {},
     "output_type": "display_data"
    },
    {
     "data": {
      "text/plain": [
       "<Figure size 640x480 with 0 Axes>"
      ]
     },
     "metadata": {},
     "output_type": "display_data"
    },
    {
     "data": {
      "text/plain": [
       "<Figure size 640x480 with 0 Axes>"
      ]
     },
     "metadata": {},
     "output_type": "display_data"
    },
    {
     "data": {
      "text/plain": [
       "<Figure size 640x480 with 0 Axes>"
      ]
     },
     "metadata": {},
     "output_type": "display_data"
    },
    {
     "data": {
      "text/plain": [
       "<Figure size 640x480 with 0 Axes>"
      ]
     },
     "metadata": {},
     "output_type": "display_data"
    },
    {
     "data": {
      "text/plain": [
       "<Figure size 640x480 with 0 Axes>"
      ]
     },
     "metadata": {},
     "output_type": "display_data"
    },
    {
     "data": {
      "text/plain": [
       "<Figure size 640x480 with 0 Axes>"
      ]
     },
     "metadata": {},
     "output_type": "display_data"
    },
    {
     "data": {
      "text/plain": [
       "<Figure size 640x480 with 0 Axes>"
      ]
     },
     "metadata": {},
     "output_type": "display_data"
    },
    {
     "data": {
      "text/plain": [
       "<Figure size 640x480 with 0 Axes>"
      ]
     },
     "metadata": {},
     "output_type": "display_data"
    },
    {
     "data": {
      "text/plain": [
       "<Figure size 640x480 with 0 Axes>"
      ]
     },
     "metadata": {},
     "output_type": "display_data"
    },
    {
     "data": {
      "text/plain": [
       "<Figure size 640x480 with 0 Axes>"
      ]
     },
     "metadata": {},
     "output_type": "display_data"
    },
    {
     "data": {
      "text/plain": [
       "<Figure size 640x480 with 0 Axes>"
      ]
     },
     "metadata": {},
     "output_type": "display_data"
    },
    {
     "data": {
      "text/plain": [
       "<Figure size 640x480 with 0 Axes>"
      ]
     },
     "metadata": {},
     "output_type": "display_data"
    },
    {
     "data": {
      "text/plain": [
       "<Figure size 640x480 with 0 Axes>"
      ]
     },
     "metadata": {},
     "output_type": "display_data"
    },
    {
     "data": {
      "text/plain": [
       "<Figure size 640x480 with 0 Axes>"
      ]
     },
     "metadata": {},
     "output_type": "display_data"
    },
    {
     "data": {
      "text/plain": [
       "<Figure size 640x480 with 0 Axes>"
      ]
     },
     "metadata": {},
     "output_type": "display_data"
    },
    {
     "data": {
      "text/plain": [
       "<Figure size 640x480 with 0 Axes>"
      ]
     },
     "metadata": {},
     "output_type": "display_data"
    },
    {
     "data": {
      "text/plain": [
       "<Figure size 640x480 with 0 Axes>"
      ]
     },
     "metadata": {},
     "output_type": "display_data"
    },
    {
     "data": {
      "text/plain": [
       "<Figure size 640x480 with 0 Axes>"
      ]
     },
     "metadata": {},
     "output_type": "display_data"
    },
    {
     "data": {
      "text/plain": [
       "<Figure size 640x480 with 0 Axes>"
      ]
     },
     "metadata": {},
     "output_type": "display_data"
    },
    {
     "data": {
      "text/plain": [
       "<Figure size 640x480 with 0 Axes>"
      ]
     },
     "metadata": {},
     "output_type": "display_data"
    },
    {
     "data": {
      "text/plain": [
       "<Figure size 640x480 with 0 Axes>"
      ]
     },
     "metadata": {},
     "output_type": "display_data"
    },
    {
     "data": {
      "text/plain": [
       "<Figure size 640x480 with 0 Axes>"
      ]
     },
     "metadata": {},
     "output_type": "display_data"
    },
    {
     "data": {
      "text/plain": [
       "<Figure size 640x480 with 0 Axes>"
      ]
     },
     "metadata": {},
     "output_type": "display_data"
    },
    {
     "data": {
      "text/plain": [
       "<Figure size 640x480 with 0 Axes>"
      ]
     },
     "metadata": {},
     "output_type": "display_data"
    },
    {
     "data": {
      "text/plain": [
       "<Figure size 640x480 with 0 Axes>"
      ]
     },
     "metadata": {},
     "output_type": "display_data"
    },
    {
     "data": {
      "text/plain": [
       "<Figure size 640x480 with 0 Axes>"
      ]
     },
     "metadata": {},
     "output_type": "display_data"
    },
    {
     "data": {
      "text/plain": [
       "<Figure size 640x480 with 0 Axes>"
      ]
     },
     "metadata": {},
     "output_type": "display_data"
    },
    {
     "data": {
      "text/plain": [
       "<Figure size 640x480 with 0 Axes>"
      ]
     },
     "metadata": {},
     "output_type": "display_data"
    },
    {
     "data": {
      "text/plain": [
       "<Figure size 640x480 with 0 Axes>"
      ]
     },
     "metadata": {},
     "output_type": "display_data"
    },
    {
     "data": {
      "text/plain": [
       "<Figure size 640x480 with 0 Axes>"
      ]
     },
     "metadata": {},
     "output_type": "display_data"
    },
    {
     "data": {
      "text/plain": [
       "<Figure size 640x480 with 0 Axes>"
      ]
     },
     "metadata": {},
     "output_type": "display_data"
    },
    {
     "data": {
      "text/plain": [
       "<Figure size 640x480 with 0 Axes>"
      ]
     },
     "metadata": {},
     "output_type": "display_data"
    },
    {
     "data": {
      "text/plain": [
       "<Figure size 640x480 with 0 Axes>"
      ]
     },
     "metadata": {},
     "output_type": "display_data"
    },
    {
     "data": {
      "text/plain": [
       "<Figure size 640x480 with 0 Axes>"
      ]
     },
     "metadata": {},
     "output_type": "display_data"
    },
    {
     "data": {
      "text/plain": [
       "<Figure size 640x480 with 0 Axes>"
      ]
     },
     "metadata": {},
     "output_type": "display_data"
    },
    {
     "data": {
      "text/plain": [
       "<Figure size 640x480 with 0 Axes>"
      ]
     },
     "metadata": {},
     "output_type": "display_data"
    },
    {
     "data": {
      "text/plain": [
       "<Figure size 640x480 with 0 Axes>"
      ]
     },
     "metadata": {},
     "output_type": "display_data"
    },
    {
     "data": {
      "text/plain": [
       "<Figure size 640x480 with 0 Axes>"
      ]
     },
     "metadata": {},
     "output_type": "display_data"
    },
    {
     "data": {
      "text/plain": [
       "<Figure size 640x480 with 0 Axes>"
      ]
     },
     "metadata": {},
     "output_type": "display_data"
    },
    {
     "data": {
      "text/plain": [
       "<Figure size 640x480 with 0 Axes>"
      ]
     },
     "metadata": {},
     "output_type": "display_data"
    },
    {
     "data": {
      "text/plain": [
       "<Figure size 640x480 with 0 Axes>"
      ]
     },
     "metadata": {},
     "output_type": "display_data"
    },
    {
     "data": {
      "text/plain": [
       "<Figure size 640x480 with 0 Axes>"
      ]
     },
     "metadata": {},
     "output_type": "display_data"
    },
    {
     "data": {
      "text/plain": [
       "<Figure size 640x480 with 0 Axes>"
      ]
     },
     "metadata": {},
     "output_type": "display_data"
    },
    {
     "data": {
      "text/plain": [
       "<Figure size 640x480 with 0 Axes>"
      ]
     },
     "metadata": {},
     "output_type": "display_data"
    },
    {
     "data": {
      "text/plain": [
       "<Figure size 640x480 with 0 Axes>"
      ]
     },
     "metadata": {},
     "output_type": "display_data"
    },
    {
     "data": {
      "text/plain": [
       "<Figure size 640x480 with 0 Axes>"
      ]
     },
     "metadata": {},
     "output_type": "display_data"
    },
    {
     "data": {
      "text/plain": [
       "<Figure size 640x480 with 0 Axes>"
      ]
     },
     "metadata": {},
     "output_type": "display_data"
    },
    {
     "data": {
      "text/plain": [
       "<Figure size 640x480 with 0 Axes>"
      ]
     },
     "metadata": {},
     "output_type": "display_data"
    },
    {
     "data": {
      "text/plain": [
       "<Figure size 640x480 with 0 Axes>"
      ]
     },
     "metadata": {},
     "output_type": "display_data"
    },
    {
     "data": {
      "text/plain": [
       "<Figure size 640x480 with 0 Axes>"
      ]
     },
     "metadata": {},
     "output_type": "display_data"
    },
    {
     "data": {
      "text/plain": [
       "<Figure size 640x480 with 0 Axes>"
      ]
     },
     "metadata": {},
     "output_type": "display_data"
    },
    {
     "data": {
      "text/plain": [
       "<Figure size 640x480 with 0 Axes>"
      ]
     },
     "metadata": {},
     "output_type": "display_data"
    },
    {
     "data": {
      "text/plain": [
       "<Figure size 640x480 with 0 Axes>"
      ]
     },
     "metadata": {},
     "output_type": "display_data"
    },
    {
     "data": {
      "text/plain": [
       "<Figure size 640x480 with 0 Axes>"
      ]
     },
     "metadata": {},
     "output_type": "display_data"
    },
    {
     "data": {
      "text/plain": [
       "<Figure size 640x480 with 0 Axes>"
      ]
     },
     "metadata": {},
     "output_type": "display_data"
    },
    {
     "data": {
      "text/plain": [
       "<Figure size 640x480 with 0 Axes>"
      ]
     },
     "metadata": {},
     "output_type": "display_data"
    },
    {
     "data": {
      "text/plain": [
       "<Figure size 640x480 with 0 Axes>"
      ]
     },
     "metadata": {},
     "output_type": "display_data"
    },
    {
     "data": {
      "text/plain": [
       "<Figure size 640x480 with 0 Axes>"
      ]
     },
     "metadata": {},
     "output_type": "display_data"
    },
    {
     "data": {
      "text/plain": [
       "<Figure size 640x480 with 0 Axes>"
      ]
     },
     "metadata": {},
     "output_type": "display_data"
    },
    {
     "data": {
      "text/plain": [
       "<Figure size 640x480 with 0 Axes>"
      ]
     },
     "metadata": {},
     "output_type": "display_data"
    },
    {
     "data": {
      "text/plain": [
       "<Figure size 640x480 with 0 Axes>"
      ]
     },
     "metadata": {},
     "output_type": "display_data"
    },
    {
     "data": {
      "text/plain": [
       "<Figure size 640x480 with 0 Axes>"
      ]
     },
     "metadata": {},
     "output_type": "display_data"
    },
    {
     "data": {
      "text/plain": [
       "<Figure size 640x480 with 0 Axes>"
      ]
     },
     "metadata": {},
     "output_type": "display_data"
    },
    {
     "data": {
      "text/plain": [
       "<Figure size 640x480 with 0 Axes>"
      ]
     },
     "metadata": {},
     "output_type": "display_data"
    },
    {
     "data": {
      "text/plain": [
       "<Figure size 640x480 with 0 Axes>"
      ]
     },
     "metadata": {},
     "output_type": "display_data"
    },
    {
     "data": {
      "text/plain": [
       "<Figure size 640x480 with 0 Axes>"
      ]
     },
     "metadata": {},
     "output_type": "display_data"
    },
    {
     "data": {
      "text/plain": [
       "<Figure size 640x480 with 0 Axes>"
      ]
     },
     "metadata": {},
     "output_type": "display_data"
    },
    {
     "data": {
      "text/plain": [
       "<Figure size 640x480 with 0 Axes>"
      ]
     },
     "metadata": {},
     "output_type": "display_data"
    },
    {
     "data": {
      "text/plain": [
       "<Figure size 640x480 with 0 Axes>"
      ]
     },
     "metadata": {},
     "output_type": "display_data"
    },
    {
     "data": {
      "text/plain": [
       "<Figure size 640x480 with 0 Axes>"
      ]
     },
     "metadata": {},
     "output_type": "display_data"
    },
    {
     "data": {
      "text/plain": [
       "<Figure size 640x480 with 0 Axes>"
      ]
     },
     "metadata": {},
     "output_type": "display_data"
    },
    {
     "data": {
      "text/plain": [
       "<Figure size 640x480 with 0 Axes>"
      ]
     },
     "metadata": {},
     "output_type": "display_data"
    },
    {
     "data": {
      "text/plain": [
       "<Figure size 640x480 with 0 Axes>"
      ]
     },
     "metadata": {},
     "output_type": "display_data"
    },
    {
     "data": {
      "text/plain": [
       "<Figure size 640x480 with 0 Axes>"
      ]
     },
     "metadata": {},
     "output_type": "display_data"
    },
    {
     "data": {
      "text/plain": [
       "<Figure size 640x480 with 0 Axes>"
      ]
     },
     "metadata": {},
     "output_type": "display_data"
    },
    {
     "data": {
      "text/plain": [
       "<Figure size 640x480 with 0 Axes>"
      ]
     },
     "metadata": {},
     "output_type": "display_data"
    },
    {
     "data": {
      "text/plain": [
       "<Figure size 640x480 with 0 Axes>"
      ]
     },
     "metadata": {},
     "output_type": "display_data"
    },
    {
     "data": {
      "text/plain": [
       "<Figure size 640x480 with 0 Axes>"
      ]
     },
     "metadata": {},
     "output_type": "display_data"
    },
    {
     "data": {
      "text/plain": [
       "<Figure size 640x480 with 0 Axes>"
      ]
     },
     "metadata": {},
     "output_type": "display_data"
    },
    {
     "data": {
      "text/plain": [
       "<Figure size 640x480 with 0 Axes>"
      ]
     },
     "metadata": {},
     "output_type": "display_data"
    },
    {
     "data": {
      "text/plain": [
       "<Figure size 640x480 with 0 Axes>"
      ]
     },
     "metadata": {},
     "output_type": "display_data"
    },
    {
     "data": {
      "text/plain": [
       "<Figure size 640x480 with 0 Axes>"
      ]
     },
     "metadata": {},
     "output_type": "display_data"
    },
    {
     "data": {
      "text/plain": [
       "<Figure size 640x480 with 0 Axes>"
      ]
     },
     "metadata": {},
     "output_type": "display_data"
    },
    {
     "data": {
      "text/plain": [
       "<Figure size 640x480 with 0 Axes>"
      ]
     },
     "metadata": {},
     "output_type": "display_data"
    },
    {
     "data": {
      "text/plain": [
       "<Figure size 640x480 with 0 Axes>"
      ]
     },
     "metadata": {},
     "output_type": "display_data"
    },
    {
     "data": {
      "text/plain": [
       "<Figure size 640x480 with 0 Axes>"
      ]
     },
     "metadata": {},
     "output_type": "display_data"
    },
    {
     "data": {
      "text/plain": [
       "<Figure size 640x480 with 0 Axes>"
      ]
     },
     "metadata": {},
     "output_type": "display_data"
    },
    {
     "data": {
      "text/plain": [
       "<Figure size 640x480 with 0 Axes>"
      ]
     },
     "metadata": {},
     "output_type": "display_data"
    },
    {
     "data": {
      "text/plain": [
       "<Figure size 640x480 with 0 Axes>"
      ]
     },
     "metadata": {},
     "output_type": "display_data"
    },
    {
     "data": {
      "text/plain": [
       "<Figure size 640x480 with 0 Axes>"
      ]
     },
     "metadata": {},
     "output_type": "display_data"
    },
    {
     "data": {
      "text/plain": [
       "<Figure size 640x480 with 0 Axes>"
      ]
     },
     "metadata": {},
     "output_type": "display_data"
    },
    {
     "data": {
      "text/plain": [
       "<Figure size 640x480 with 0 Axes>"
      ]
     },
     "metadata": {},
     "output_type": "display_data"
    },
    {
     "data": {
      "text/plain": [
       "<Figure size 640x480 with 0 Axes>"
      ]
     },
     "metadata": {},
     "output_type": "display_data"
    },
    {
     "data": {
      "text/plain": [
       "<Figure size 640x480 with 0 Axes>"
      ]
     },
     "metadata": {},
     "output_type": "display_data"
    },
    {
     "data": {
      "text/plain": [
       "<Figure size 640x480 with 0 Axes>"
      ]
     },
     "metadata": {},
     "output_type": "display_data"
    },
    {
     "data": {
      "text/plain": [
       "<Figure size 640x480 with 0 Axes>"
      ]
     },
     "metadata": {},
     "output_type": "display_data"
    },
    {
     "data": {
      "text/plain": [
       "<Figure size 640x480 with 0 Axes>"
      ]
     },
     "metadata": {},
     "output_type": "display_data"
    },
    {
     "data": {
      "text/plain": [
       "<Figure size 640x480 with 0 Axes>"
      ]
     },
     "metadata": {},
     "output_type": "display_data"
    },
    {
     "data": {
      "text/plain": [
       "<Figure size 640x480 with 0 Axes>"
      ]
     },
     "metadata": {},
     "output_type": "display_data"
    },
    {
     "data": {
      "text/plain": [
       "<Figure size 640x480 with 0 Axes>"
      ]
     },
     "metadata": {},
     "output_type": "display_data"
    },
    {
     "data": {
      "text/plain": [
       "<Figure size 640x480 with 0 Axes>"
      ]
     },
     "metadata": {},
     "output_type": "display_data"
    },
    {
     "data": {
      "text/plain": [
       "<Figure size 640x480 with 0 Axes>"
      ]
     },
     "metadata": {},
     "output_type": "display_data"
    },
    {
     "data": {
      "text/plain": [
       "<Figure size 640x480 with 0 Axes>"
      ]
     },
     "metadata": {},
     "output_type": "display_data"
    },
    {
     "data": {
      "text/plain": [
       "<Figure size 640x480 with 0 Axes>"
      ]
     },
     "metadata": {},
     "output_type": "display_data"
    },
    {
     "data": {
      "text/plain": [
       "<Figure size 640x480 with 0 Axes>"
      ]
     },
     "metadata": {},
     "output_type": "display_data"
    },
    {
     "data": {
      "text/plain": [
       "<Figure size 640x480 with 0 Axes>"
      ]
     },
     "metadata": {},
     "output_type": "display_data"
    },
    {
     "data": {
      "text/plain": [
       "<Figure size 640x480 with 0 Axes>"
      ]
     },
     "metadata": {},
     "output_type": "display_data"
    },
    {
     "data": {
      "text/plain": [
       "<Figure size 640x480 with 0 Axes>"
      ]
     },
     "metadata": {},
     "output_type": "display_data"
    },
    {
     "data": {
      "text/plain": [
       "<Figure size 640x480 with 0 Axes>"
      ]
     },
     "metadata": {},
     "output_type": "display_data"
    },
    {
     "data": {
      "text/plain": [
       "<Figure size 640x480 with 0 Axes>"
      ]
     },
     "metadata": {},
     "output_type": "display_data"
    },
    {
     "data": {
      "text/plain": [
       "<Figure size 640x480 with 0 Axes>"
      ]
     },
     "metadata": {},
     "output_type": "display_data"
    },
    {
     "data": {
      "text/plain": [
       "<Figure size 640x480 with 0 Axes>"
      ]
     },
     "metadata": {},
     "output_type": "display_data"
    },
    {
     "data": {
      "text/plain": [
       "<Figure size 640x480 with 0 Axes>"
      ]
     },
     "metadata": {},
     "output_type": "display_data"
    },
    {
     "data": {
      "text/plain": [
       "<Figure size 640x480 with 0 Axes>"
      ]
     },
     "metadata": {},
     "output_type": "display_data"
    },
    {
     "data": {
      "text/plain": [
       "<Figure size 640x480 with 0 Axes>"
      ]
     },
     "metadata": {},
     "output_type": "display_data"
    },
    {
     "data": {
      "text/plain": [
       "<Figure size 640x480 with 0 Axes>"
      ]
     },
     "metadata": {},
     "output_type": "display_data"
    },
    {
     "data": {
      "text/plain": [
       "<Figure size 640x480 with 0 Axes>"
      ]
     },
     "metadata": {},
     "output_type": "display_data"
    },
    {
     "data": {
      "text/plain": [
       "<Figure size 640x480 with 0 Axes>"
      ]
     },
     "metadata": {},
     "output_type": "display_data"
    },
    {
     "data": {
      "text/plain": [
       "<Figure size 640x480 with 0 Axes>"
      ]
     },
     "metadata": {},
     "output_type": "display_data"
    },
    {
     "data": {
      "text/plain": [
       "<Figure size 640x480 with 0 Axes>"
      ]
     },
     "metadata": {},
     "output_type": "display_data"
    },
    {
     "data": {
      "text/plain": [
       "<Figure size 640x480 with 0 Axes>"
      ]
     },
     "metadata": {},
     "output_type": "display_data"
    },
    {
     "data": {
      "text/plain": [
       "<Figure size 640x480 with 0 Axes>"
      ]
     },
     "metadata": {},
     "output_type": "display_data"
    },
    {
     "data": {
      "text/plain": [
       "<Figure size 640x480 with 0 Axes>"
      ]
     },
     "metadata": {},
     "output_type": "display_data"
    },
    {
     "data": {
      "text/plain": [
       "<Figure size 640x480 with 0 Axes>"
      ]
     },
     "metadata": {},
     "output_type": "display_data"
    },
    {
     "data": {
      "text/plain": [
       "<Figure size 640x480 with 0 Axes>"
      ]
     },
     "metadata": {},
     "output_type": "display_data"
    },
    {
     "data": {
      "text/plain": [
       "<Figure size 640x480 with 0 Axes>"
      ]
     },
     "metadata": {},
     "output_type": "display_data"
    },
    {
     "data": {
      "text/plain": [
       "<Figure size 640x480 with 0 Axes>"
      ]
     },
     "metadata": {},
     "output_type": "display_data"
    },
    {
     "data": {
      "text/plain": [
       "<Figure size 640x480 with 0 Axes>"
      ]
     },
     "metadata": {},
     "output_type": "display_data"
    },
    {
     "data": {
      "text/plain": [
       "<Figure size 640x480 with 0 Axes>"
      ]
     },
     "metadata": {},
     "output_type": "display_data"
    },
    {
     "data": {
      "text/plain": [
       "<Figure size 640x480 with 0 Axes>"
      ]
     },
     "metadata": {},
     "output_type": "display_data"
    },
    {
     "data": {
      "text/plain": [
       "<Figure size 640x480 with 0 Axes>"
      ]
     },
     "metadata": {},
     "output_type": "display_data"
    },
    {
     "data": {
      "text/plain": [
       "<Figure size 640x480 with 0 Axes>"
      ]
     },
     "metadata": {},
     "output_type": "display_data"
    },
    {
     "data": {
      "text/plain": [
       "<Figure size 640x480 with 0 Axes>"
      ]
     },
     "metadata": {},
     "output_type": "display_data"
    },
    {
     "data": {
      "text/plain": [
       "<Figure size 640x480 with 0 Axes>"
      ]
     },
     "metadata": {},
     "output_type": "display_data"
    },
    {
     "data": {
      "text/plain": [
       "<Figure size 640x480 with 0 Axes>"
      ]
     },
     "metadata": {},
     "output_type": "display_data"
    },
    {
     "data": {
      "text/plain": [
       "<Figure size 640x480 with 0 Axes>"
      ]
     },
     "metadata": {},
     "output_type": "display_data"
    },
    {
     "data": {
      "text/plain": [
       "<Figure size 640x480 with 0 Axes>"
      ]
     },
     "metadata": {},
     "output_type": "display_data"
    },
    {
     "data": {
      "text/plain": [
       "<Figure size 640x480 with 0 Axes>"
      ]
     },
     "metadata": {},
     "output_type": "display_data"
    },
    {
     "data": {
      "text/plain": [
       "<Figure size 640x480 with 0 Axes>"
      ]
     },
     "metadata": {},
     "output_type": "display_data"
    },
    {
     "data": {
      "text/plain": [
       "<Figure size 640x480 with 0 Axes>"
      ]
     },
     "metadata": {},
     "output_type": "display_data"
    },
    {
     "data": {
      "text/plain": [
       "<Figure size 640x480 with 0 Axes>"
      ]
     },
     "metadata": {},
     "output_type": "display_data"
    },
    {
     "data": {
      "text/plain": [
       "<Figure size 640x480 with 0 Axes>"
      ]
     },
     "metadata": {},
     "output_type": "display_data"
    },
    {
     "data": {
      "text/plain": [
       "<Figure size 640x480 with 0 Axes>"
      ]
     },
     "metadata": {},
     "output_type": "display_data"
    },
    {
     "data": {
      "text/plain": [
       "<Figure size 640x480 with 0 Axes>"
      ]
     },
     "metadata": {},
     "output_type": "display_data"
    },
    {
     "data": {
      "text/plain": [
       "<Figure size 640x480 with 0 Axes>"
      ]
     },
     "metadata": {},
     "output_type": "display_data"
    },
    {
     "data": {
      "text/plain": [
       "<Figure size 640x480 with 0 Axes>"
      ]
     },
     "metadata": {},
     "output_type": "display_data"
    },
    {
     "data": {
      "text/plain": [
       "<Figure size 640x480 with 0 Axes>"
      ]
     },
     "metadata": {},
     "output_type": "display_data"
    },
    {
     "data": {
      "text/plain": [
       "<Figure size 640x480 with 0 Axes>"
      ]
     },
     "metadata": {},
     "output_type": "display_data"
    },
    {
     "data": {
      "text/plain": [
       "<Figure size 640x480 with 0 Axes>"
      ]
     },
     "metadata": {},
     "output_type": "display_data"
    },
    {
     "data": {
      "text/plain": [
       "<Figure size 640x480 with 0 Axes>"
      ]
     },
     "metadata": {},
     "output_type": "display_data"
    },
    {
     "data": {
      "text/plain": [
       "<Figure size 640x480 with 0 Axes>"
      ]
     },
     "metadata": {},
     "output_type": "display_data"
    },
    {
     "data": {
      "text/plain": [
       "<Figure size 640x480 with 0 Axes>"
      ]
     },
     "metadata": {},
     "output_type": "display_data"
    },
    {
     "data": {
      "text/plain": [
       "<Figure size 640x480 with 0 Axes>"
      ]
     },
     "metadata": {},
     "output_type": "display_data"
    },
    {
     "data": {
      "text/plain": [
       "<Figure size 640x480 with 0 Axes>"
      ]
     },
     "metadata": {},
     "output_type": "display_data"
    },
    {
     "data": {
      "text/plain": [
       "<Figure size 640x480 with 0 Axes>"
      ]
     },
     "metadata": {},
     "output_type": "display_data"
    },
    {
     "data": {
      "text/plain": [
       "<Figure size 640x480 with 0 Axes>"
      ]
     },
     "metadata": {},
     "output_type": "display_data"
    },
    {
     "data": {
      "text/plain": [
       "<Figure size 640x480 with 0 Axes>"
      ]
     },
     "metadata": {},
     "output_type": "display_data"
    },
    {
     "data": {
      "text/plain": [
       "<Figure size 640x480 with 0 Axes>"
      ]
     },
     "metadata": {},
     "output_type": "display_data"
    },
    {
     "data": {
      "text/plain": [
       "<Figure size 640x480 with 0 Axes>"
      ]
     },
     "metadata": {},
     "output_type": "display_data"
    },
    {
     "data": {
      "text/plain": [
       "<Figure size 640x480 with 0 Axes>"
      ]
     },
     "metadata": {},
     "output_type": "display_data"
    },
    {
     "data": {
      "text/plain": [
       "<Figure size 640x480 with 0 Axes>"
      ]
     },
     "metadata": {},
     "output_type": "display_data"
    },
    {
     "data": {
      "text/plain": [
       "<Figure size 640x480 with 0 Axes>"
      ]
     },
     "metadata": {},
     "output_type": "display_data"
    },
    {
     "data": {
      "text/plain": [
       "<Figure size 640x480 with 0 Axes>"
      ]
     },
     "metadata": {},
     "output_type": "display_data"
    },
    {
     "data": {
      "text/plain": [
       "<Figure size 640x480 with 0 Axes>"
      ]
     },
     "metadata": {},
     "output_type": "display_data"
    },
    {
     "data": {
      "text/plain": [
       "<Figure size 640x480 with 0 Axes>"
      ]
     },
     "metadata": {},
     "output_type": "display_data"
    },
    {
     "data": {
      "text/plain": [
       "<Figure size 640x480 with 0 Axes>"
      ]
     },
     "metadata": {},
     "output_type": "display_data"
    },
    {
     "data": {
      "text/plain": [
       "<Figure size 640x480 with 0 Axes>"
      ]
     },
     "metadata": {},
     "output_type": "display_data"
    },
    {
     "data": {
      "text/plain": [
       "<Figure size 640x480 with 0 Axes>"
      ]
     },
     "metadata": {},
     "output_type": "display_data"
    },
    {
     "data": {
      "text/plain": [
       "<Figure size 640x480 with 0 Axes>"
      ]
     },
     "metadata": {},
     "output_type": "display_data"
    },
    {
     "data": {
      "text/plain": [
       "<Figure size 640x480 with 0 Axes>"
      ]
     },
     "metadata": {},
     "output_type": "display_data"
    },
    {
     "data": {
      "text/plain": [
       "<Figure size 640x480 with 0 Axes>"
      ]
     },
     "metadata": {},
     "output_type": "display_data"
    },
    {
     "data": {
      "text/plain": [
       "<Figure size 640x480 with 0 Axes>"
      ]
     },
     "metadata": {},
     "output_type": "display_data"
    },
    {
     "data": {
      "text/plain": [
       "<Figure size 640x480 with 0 Axes>"
      ]
     },
     "metadata": {},
     "output_type": "display_data"
    },
    {
     "data": {
      "text/plain": [
       "<Figure size 640x480 with 0 Axes>"
      ]
     },
     "metadata": {},
     "output_type": "display_data"
    },
    {
     "data": {
      "text/plain": [
       "<Figure size 640x480 with 0 Axes>"
      ]
     },
     "metadata": {},
     "output_type": "display_data"
    },
    {
     "data": {
      "text/plain": [
       "<Figure size 640x480 with 0 Axes>"
      ]
     },
     "metadata": {},
     "output_type": "display_data"
    },
    {
     "data": {
      "text/plain": [
       "<Figure size 640x480 with 0 Axes>"
      ]
     },
     "metadata": {},
     "output_type": "display_data"
    },
    {
     "data": {
      "text/plain": [
       "<Figure size 640x480 with 0 Axes>"
      ]
     },
     "metadata": {},
     "output_type": "display_data"
    },
    {
     "data": {
      "text/plain": [
       "<Figure size 640x480 with 0 Axes>"
      ]
     },
     "metadata": {},
     "output_type": "display_data"
    },
    {
     "data": {
      "text/plain": [
       "<Figure size 640x480 with 0 Axes>"
      ]
     },
     "metadata": {},
     "output_type": "display_data"
    },
    {
     "data": {
      "text/plain": [
       "<Figure size 640x480 with 0 Axes>"
      ]
     },
     "metadata": {},
     "output_type": "display_data"
    },
    {
     "data": {
      "text/plain": [
       "<Figure size 640x480 with 0 Axes>"
      ]
     },
     "metadata": {},
     "output_type": "display_data"
    },
    {
     "data": {
      "text/plain": [
       "<Figure size 640x480 with 0 Axes>"
      ]
     },
     "metadata": {},
     "output_type": "display_data"
    },
    {
     "data": {
      "text/plain": [
       "<Figure size 640x480 with 0 Axes>"
      ]
     },
     "metadata": {},
     "output_type": "display_data"
    },
    {
     "data": {
      "text/plain": [
       "<Figure size 640x480 with 0 Axes>"
      ]
     },
     "metadata": {},
     "output_type": "display_data"
    },
    {
     "data": {
      "text/plain": [
       "<Figure size 640x480 with 0 Axes>"
      ]
     },
     "metadata": {},
     "output_type": "display_data"
    },
    {
     "data": {
      "text/plain": [
       "<Figure size 640x480 with 0 Axes>"
      ]
     },
     "metadata": {},
     "output_type": "display_data"
    },
    {
     "data": {
      "text/plain": [
       "<Figure size 640x480 with 0 Axes>"
      ]
     },
     "metadata": {},
     "output_type": "display_data"
    },
    {
     "data": {
      "text/plain": [
       "<Figure size 640x480 with 0 Axes>"
      ]
     },
     "metadata": {},
     "output_type": "display_data"
    },
    {
     "data": {
      "text/plain": [
       "<Figure size 640x480 with 0 Axes>"
      ]
     },
     "metadata": {},
     "output_type": "display_data"
    },
    {
     "data": {
      "text/plain": [
       "<Figure size 640x480 with 0 Axes>"
      ]
     },
     "metadata": {},
     "output_type": "display_data"
    },
    {
     "data": {
      "text/plain": [
       "<Figure size 640x480 with 0 Axes>"
      ]
     },
     "metadata": {},
     "output_type": "display_data"
    },
    {
     "data": {
      "text/plain": [
       "<Figure size 640x480 with 0 Axes>"
      ]
     },
     "metadata": {},
     "output_type": "display_data"
    },
    {
     "data": {
      "text/plain": [
       "<Figure size 640x480 with 0 Axes>"
      ]
     },
     "metadata": {},
     "output_type": "display_data"
    },
    {
     "data": {
      "text/plain": [
       "<Figure size 640x480 with 0 Axes>"
      ]
     },
     "metadata": {},
     "output_type": "display_data"
    },
    {
     "data": {
      "text/plain": [
       "<Figure size 640x480 with 0 Axes>"
      ]
     },
     "metadata": {},
     "output_type": "display_data"
    },
    {
     "data": {
      "text/plain": [
       "<Figure size 640x480 with 0 Axes>"
      ]
     },
     "metadata": {},
     "output_type": "display_data"
    },
    {
     "data": {
      "text/plain": [
       "<Figure size 640x480 with 0 Axes>"
      ]
     },
     "metadata": {},
     "output_type": "display_data"
    },
    {
     "data": {
      "text/plain": [
       "<Figure size 640x480 with 0 Axes>"
      ]
     },
     "metadata": {},
     "output_type": "display_data"
    },
    {
     "data": {
      "text/plain": [
       "<Figure size 640x480 with 0 Axes>"
      ]
     },
     "metadata": {},
     "output_type": "display_data"
    },
    {
     "data": {
      "text/plain": [
       "<Figure size 640x480 with 0 Axes>"
      ]
     },
     "metadata": {},
     "output_type": "display_data"
    },
    {
     "data": {
      "text/plain": [
       "<Figure size 640x480 with 0 Axes>"
      ]
     },
     "metadata": {},
     "output_type": "display_data"
    },
    {
     "data": {
      "text/plain": [
       "<Figure size 640x480 with 0 Axes>"
      ]
     },
     "metadata": {},
     "output_type": "display_data"
    },
    {
     "data": {
      "text/plain": [
       "<Figure size 640x480 with 0 Axes>"
      ]
     },
     "metadata": {},
     "output_type": "display_data"
    },
    {
     "data": {
      "text/plain": [
       "<Figure size 640x480 with 0 Axes>"
      ]
     },
     "metadata": {},
     "output_type": "display_data"
    },
    {
     "data": {
      "text/plain": [
       "<Figure size 640x480 with 0 Axes>"
      ]
     },
     "metadata": {},
     "output_type": "display_data"
    },
    {
     "data": {
      "text/plain": [
       "<Figure size 640x480 with 0 Axes>"
      ]
     },
     "metadata": {},
     "output_type": "display_data"
    },
    {
     "data": {
      "text/plain": [
       "<Figure size 640x480 with 0 Axes>"
      ]
     },
     "metadata": {},
     "output_type": "display_data"
    },
    {
     "data": {
      "text/plain": [
       "<Figure size 640x480 with 0 Axes>"
      ]
     },
     "metadata": {},
     "output_type": "display_data"
    },
    {
     "data": {
      "text/plain": [
       "<Figure size 640x480 with 0 Axes>"
      ]
     },
     "metadata": {},
     "output_type": "display_data"
    },
    {
     "data": {
      "text/plain": [
       "<Figure size 640x480 with 0 Axes>"
      ]
     },
     "metadata": {},
     "output_type": "display_data"
    },
    {
     "data": {
      "text/plain": [
       "<Figure size 640x480 with 0 Axes>"
      ]
     },
     "metadata": {},
     "output_type": "display_data"
    },
    {
     "data": {
      "text/plain": [
       "<Figure size 640x480 with 0 Axes>"
      ]
     },
     "metadata": {},
     "output_type": "display_data"
    },
    {
     "data": {
      "text/plain": [
       "<Figure size 640x480 with 0 Axes>"
      ]
     },
     "metadata": {},
     "output_type": "display_data"
    },
    {
     "data": {
      "text/plain": [
       "<Figure size 640x480 with 0 Axes>"
      ]
     },
     "metadata": {},
     "output_type": "display_data"
    },
    {
     "data": {
      "text/plain": [
       "<Figure size 640x480 with 0 Axes>"
      ]
     },
     "metadata": {},
     "output_type": "display_data"
    },
    {
     "data": {
      "text/plain": [
       "<Figure size 640x480 with 0 Axes>"
      ]
     },
     "metadata": {},
     "output_type": "display_data"
    },
    {
     "data": {
      "text/plain": [
       "<Figure size 640x480 with 0 Axes>"
      ]
     },
     "metadata": {},
     "output_type": "display_data"
    },
    {
     "data": {
      "text/plain": [
       "<Figure size 640x480 with 0 Axes>"
      ]
     },
     "metadata": {},
     "output_type": "display_data"
    },
    {
     "data": {
      "text/plain": [
       "<Figure size 640x480 with 0 Axes>"
      ]
     },
     "metadata": {},
     "output_type": "display_data"
    },
    {
     "data": {
      "text/plain": [
       "<Figure size 640x480 with 0 Axes>"
      ]
     },
     "metadata": {},
     "output_type": "display_data"
    },
    {
     "data": {
      "text/plain": [
       "<Figure size 640x480 with 0 Axes>"
      ]
     },
     "metadata": {},
     "output_type": "display_data"
    },
    {
     "data": {
      "text/plain": [
       "<Figure size 640x480 with 0 Axes>"
      ]
     },
     "metadata": {},
     "output_type": "display_data"
    },
    {
     "data": {
      "text/plain": [
       "<Figure size 640x480 with 0 Axes>"
      ]
     },
     "metadata": {},
     "output_type": "display_data"
    },
    {
     "data": {
      "text/plain": [
       "<Figure size 640x480 with 0 Axes>"
      ]
     },
     "metadata": {},
     "output_type": "display_data"
    },
    {
     "data": {
      "text/plain": [
       "<Figure size 640x480 with 0 Axes>"
      ]
     },
     "metadata": {},
     "output_type": "display_data"
    },
    {
     "data": {
      "text/plain": [
       "<Figure size 640x480 with 0 Axes>"
      ]
     },
     "metadata": {},
     "output_type": "display_data"
    },
    {
     "data": {
      "text/plain": [
       "<Figure size 640x480 with 0 Axes>"
      ]
     },
     "metadata": {},
     "output_type": "display_data"
    },
    {
     "data": {
      "text/plain": [
       "<Figure size 640x480 with 0 Axes>"
      ]
     },
     "metadata": {},
     "output_type": "display_data"
    },
    {
     "data": {
      "text/plain": [
       "<Figure size 640x480 with 0 Axes>"
      ]
     },
     "metadata": {},
     "output_type": "display_data"
    },
    {
     "data": {
      "text/plain": [
       "<Figure size 640x480 with 0 Axes>"
      ]
     },
     "metadata": {},
     "output_type": "display_data"
    },
    {
     "data": {
      "text/plain": [
       "<Figure size 640x480 with 0 Axes>"
      ]
     },
     "metadata": {},
     "output_type": "display_data"
    },
    {
     "data": {
      "text/plain": [
       "<Figure size 640x480 with 0 Axes>"
      ]
     },
     "metadata": {},
     "output_type": "display_data"
    },
    {
     "data": {
      "text/plain": [
       "<Figure size 640x480 with 0 Axes>"
      ]
     },
     "metadata": {},
     "output_type": "display_data"
    },
    {
     "data": {
      "text/plain": [
       "<Figure size 640x480 with 0 Axes>"
      ]
     },
     "metadata": {},
     "output_type": "display_data"
    },
    {
     "data": {
      "text/plain": [
       "<Figure size 640x480 with 0 Axes>"
      ]
     },
     "metadata": {},
     "output_type": "display_data"
    },
    {
     "data": {
      "text/plain": [
       "<Figure size 640x480 with 0 Axes>"
      ]
     },
     "metadata": {},
     "output_type": "display_data"
    },
    {
     "data": {
      "text/plain": [
       "<Figure size 640x480 with 0 Axes>"
      ]
     },
     "metadata": {},
     "output_type": "display_data"
    },
    {
     "data": {
      "text/plain": [
       "<Figure size 640x480 with 0 Axes>"
      ]
     },
     "metadata": {},
     "output_type": "display_data"
    },
    {
     "data": {
      "text/plain": [
       "<Figure size 640x480 with 0 Axes>"
      ]
     },
     "metadata": {},
     "output_type": "display_data"
    },
    {
     "data": {
      "text/plain": [
       "<Figure size 640x480 with 0 Axes>"
      ]
     },
     "metadata": {},
     "output_type": "display_data"
    },
    {
     "data": {
      "text/plain": [
       "<Figure size 640x480 with 0 Axes>"
      ]
     },
     "metadata": {},
     "output_type": "display_data"
    },
    {
     "data": {
      "text/plain": [
       "<Figure size 640x480 with 0 Axes>"
      ]
     },
     "metadata": {},
     "output_type": "display_data"
    },
    {
     "data": {
      "text/plain": [
       "<Figure size 640x480 with 0 Axes>"
      ]
     },
     "metadata": {},
     "output_type": "display_data"
    },
    {
     "data": {
      "text/plain": [
       "<Figure size 640x480 with 0 Axes>"
      ]
     },
     "metadata": {},
     "output_type": "display_data"
    },
    {
     "data": {
      "text/plain": [
       "<Figure size 640x480 with 0 Axes>"
      ]
     },
     "metadata": {},
     "output_type": "display_data"
    },
    {
     "data": {
      "text/plain": [
       "<Figure size 640x480 with 0 Axes>"
      ]
     },
     "metadata": {},
     "output_type": "display_data"
    },
    {
     "data": {
      "text/plain": [
       "<Figure size 640x480 with 0 Axes>"
      ]
     },
     "metadata": {},
     "output_type": "display_data"
    },
    {
     "data": {
      "text/plain": [
       "<Figure size 640x480 with 0 Axes>"
      ]
     },
     "metadata": {},
     "output_type": "display_data"
    },
    {
     "data": {
      "text/plain": [
       "<Figure size 640x480 with 0 Axes>"
      ]
     },
     "metadata": {},
     "output_type": "display_data"
    },
    {
     "data": {
      "text/plain": [
       "<Figure size 640x480 with 0 Axes>"
      ]
     },
     "metadata": {},
     "output_type": "display_data"
    },
    {
     "data": {
      "text/plain": [
       "<Figure size 640x480 with 0 Axes>"
      ]
     },
     "metadata": {},
     "output_type": "display_data"
    },
    {
     "data": {
      "text/plain": [
       "<Figure size 640x480 with 0 Axes>"
      ]
     },
     "metadata": {},
     "output_type": "display_data"
    },
    {
     "data": {
      "text/plain": [
       "<Figure size 640x480 with 0 Axes>"
      ]
     },
     "metadata": {},
     "output_type": "display_data"
    },
    {
     "data": {
      "text/plain": [
       "<Figure size 640x480 with 0 Axes>"
      ]
     },
     "metadata": {},
     "output_type": "display_data"
    },
    {
     "data": {
      "text/plain": [
       "<Figure size 640x480 with 0 Axes>"
      ]
     },
     "metadata": {},
     "output_type": "display_data"
    },
    {
     "data": {
      "text/plain": [
       "<Figure size 640x480 with 0 Axes>"
      ]
     },
     "metadata": {},
     "output_type": "display_data"
    },
    {
     "data": {
      "text/plain": [
       "<Figure size 640x480 with 0 Axes>"
      ]
     },
     "metadata": {},
     "output_type": "display_data"
    },
    {
     "data": {
      "text/plain": [
       "<Figure size 640x480 with 0 Axes>"
      ]
     },
     "metadata": {},
     "output_type": "display_data"
    },
    {
     "data": {
      "text/plain": [
       "<Figure size 640x480 with 0 Axes>"
      ]
     },
     "metadata": {},
     "output_type": "display_data"
    },
    {
     "data": {
      "text/plain": [
       "<Figure size 640x480 with 0 Axes>"
      ]
     },
     "metadata": {},
     "output_type": "display_data"
    },
    {
     "data": {
      "text/plain": [
       "<Figure size 640x480 with 0 Axes>"
      ]
     },
     "metadata": {},
     "output_type": "display_data"
    },
    {
     "data": {
      "text/plain": [
       "<Figure size 640x480 with 0 Axes>"
      ]
     },
     "metadata": {},
     "output_type": "display_data"
    },
    {
     "data": {
      "text/plain": [
       "<Figure size 640x480 with 0 Axes>"
      ]
     },
     "metadata": {},
     "output_type": "display_data"
    },
    {
     "data": {
      "text/plain": [
       "<Figure size 640x480 with 0 Axes>"
      ]
     },
     "metadata": {},
     "output_type": "display_data"
    },
    {
     "data": {
      "text/plain": [
       "<Figure size 640x480 with 0 Axes>"
      ]
     },
     "metadata": {},
     "output_type": "display_data"
    },
    {
     "data": {
      "text/plain": [
       "<Figure size 640x480 with 0 Axes>"
      ]
     },
     "metadata": {},
     "output_type": "display_data"
    },
    {
     "data": {
      "text/plain": [
       "<Figure size 640x480 with 0 Axes>"
      ]
     },
     "metadata": {},
     "output_type": "display_data"
    },
    {
     "data": {
      "text/plain": [
       "<Figure size 640x480 with 0 Axes>"
      ]
     },
     "metadata": {},
     "output_type": "display_data"
    },
    {
     "data": {
      "text/plain": [
       "<Figure size 640x480 with 0 Axes>"
      ]
     },
     "metadata": {},
     "output_type": "display_data"
    },
    {
     "data": {
      "text/plain": [
       "<Figure size 640x480 with 0 Axes>"
      ]
     },
     "metadata": {},
     "output_type": "display_data"
    },
    {
     "data": {
      "text/plain": [
       "<Figure size 640x480 with 0 Axes>"
      ]
     },
     "metadata": {},
     "output_type": "display_data"
    },
    {
     "data": {
      "text/plain": [
       "<Figure size 640x480 with 0 Axes>"
      ]
     },
     "metadata": {},
     "output_type": "display_data"
    },
    {
     "data": {
      "text/plain": [
       "<Figure size 640x480 with 0 Axes>"
      ]
     },
     "metadata": {},
     "output_type": "display_data"
    },
    {
     "data": {
      "text/plain": [
       "<Figure size 640x480 with 0 Axes>"
      ]
     },
     "metadata": {},
     "output_type": "display_data"
    },
    {
     "data": {
      "text/plain": [
       "<Figure size 640x480 with 0 Axes>"
      ]
     },
     "metadata": {},
     "output_type": "display_data"
    },
    {
     "data": {
      "text/plain": [
       "<Figure size 640x480 with 0 Axes>"
      ]
     },
     "metadata": {},
     "output_type": "display_data"
    },
    {
     "data": {
      "text/plain": [
       "<Figure size 640x480 with 0 Axes>"
      ]
     },
     "metadata": {},
     "output_type": "display_data"
    },
    {
     "data": {
      "text/plain": [
       "<Figure size 640x480 with 0 Axes>"
      ]
     },
     "metadata": {},
     "output_type": "display_data"
    },
    {
     "data": {
      "text/plain": [
       "<Figure size 640x480 with 0 Axes>"
      ]
     },
     "metadata": {},
     "output_type": "display_data"
    },
    {
     "data": {
      "text/plain": [
       "<Figure size 640x480 with 0 Axes>"
      ]
     },
     "metadata": {},
     "output_type": "display_data"
    },
    {
     "data": {
      "text/plain": [
       "<Figure size 640x480 with 0 Axes>"
      ]
     },
     "metadata": {},
     "output_type": "display_data"
    },
    {
     "data": {
      "text/plain": [
       "<Figure size 640x480 with 0 Axes>"
      ]
     },
     "metadata": {},
     "output_type": "display_data"
    },
    {
     "data": {
      "text/plain": [
       "<Figure size 640x480 with 0 Axes>"
      ]
     },
     "metadata": {},
     "output_type": "display_data"
    },
    {
     "data": {
      "text/plain": [
       "<Figure size 640x480 with 0 Axes>"
      ]
     },
     "metadata": {},
     "output_type": "display_data"
    },
    {
     "data": {
      "text/plain": [
       "<Figure size 640x480 with 0 Axes>"
      ]
     },
     "metadata": {},
     "output_type": "display_data"
    },
    {
     "data": {
      "text/plain": [
       "<Figure size 640x480 with 0 Axes>"
      ]
     },
     "metadata": {},
     "output_type": "display_data"
    },
    {
     "data": {
      "text/plain": [
       "<Figure size 640x480 with 0 Axes>"
      ]
     },
     "metadata": {},
     "output_type": "display_data"
    },
    {
     "data": {
      "text/plain": [
       "<Figure size 640x480 with 0 Axes>"
      ]
     },
     "metadata": {},
     "output_type": "display_data"
    },
    {
     "data": {
      "text/plain": [
       "<Figure size 640x480 with 0 Axes>"
      ]
     },
     "metadata": {},
     "output_type": "display_data"
    },
    {
     "data": {
      "text/plain": [
       "<Figure size 640x480 with 0 Axes>"
      ]
     },
     "metadata": {},
     "output_type": "display_data"
    },
    {
     "data": {
      "text/plain": [
       "<Figure size 640x480 with 0 Axes>"
      ]
     },
     "metadata": {},
     "output_type": "display_data"
    },
    {
     "data": {
      "text/plain": [
       "<Figure size 640x480 with 0 Axes>"
      ]
     },
     "metadata": {},
     "output_type": "display_data"
    },
    {
     "data": {
      "text/plain": [
       "<Figure size 640x480 with 0 Axes>"
      ]
     },
     "metadata": {},
     "output_type": "display_data"
    },
    {
     "data": {
      "text/plain": [
       "<Figure size 640x480 with 0 Axes>"
      ]
     },
     "metadata": {},
     "output_type": "display_data"
    },
    {
     "data": {
      "text/plain": [
       "<Figure size 640x480 with 0 Axes>"
      ]
     },
     "metadata": {},
     "output_type": "display_data"
    },
    {
     "data": {
      "text/plain": [
       "<Figure size 640x480 with 0 Axes>"
      ]
     },
     "metadata": {},
     "output_type": "display_data"
    },
    {
     "data": {
      "text/plain": [
       "<Figure size 640x480 with 0 Axes>"
      ]
     },
     "metadata": {},
     "output_type": "display_data"
    },
    {
     "data": {
      "text/plain": [
       "<Figure size 640x480 with 0 Axes>"
      ]
     },
     "metadata": {},
     "output_type": "display_data"
    },
    {
     "data": {
      "text/plain": [
       "<Figure size 640x480 with 0 Axes>"
      ]
     },
     "metadata": {},
     "output_type": "display_data"
    },
    {
     "data": {
      "text/plain": [
       "<Figure size 640x480 with 0 Axes>"
      ]
     },
     "metadata": {},
     "output_type": "display_data"
    },
    {
     "data": {
      "text/plain": [
       "<Figure size 640x480 with 0 Axes>"
      ]
     },
     "metadata": {},
     "output_type": "display_data"
    },
    {
     "data": {
      "text/plain": [
       "<Figure size 640x480 with 0 Axes>"
      ]
     },
     "metadata": {},
     "output_type": "display_data"
    },
    {
     "data": {
      "text/plain": [
       "<Figure size 640x480 with 0 Axes>"
      ]
     },
     "metadata": {},
     "output_type": "display_data"
    },
    {
     "data": {
      "text/plain": [
       "<Figure size 640x480 with 0 Axes>"
      ]
     },
     "metadata": {},
     "output_type": "display_data"
    },
    {
     "data": {
      "text/plain": [
       "<Figure size 640x480 with 0 Axes>"
      ]
     },
     "metadata": {},
     "output_type": "display_data"
    },
    {
     "data": {
      "text/plain": [
       "<Figure size 640x480 with 0 Axes>"
      ]
     },
     "metadata": {},
     "output_type": "display_data"
    },
    {
     "data": {
      "text/plain": [
       "<Figure size 640x480 with 0 Axes>"
      ]
     },
     "metadata": {},
     "output_type": "display_data"
    },
    {
     "data": {
      "text/plain": [
       "<Figure size 640x480 with 0 Axes>"
      ]
     },
     "metadata": {},
     "output_type": "display_data"
    },
    {
     "data": {
      "text/plain": [
       "<Figure size 640x480 with 0 Axes>"
      ]
     },
     "metadata": {},
     "output_type": "display_data"
    },
    {
     "data": {
      "text/plain": [
       "<Figure size 640x480 with 0 Axes>"
      ]
     },
     "metadata": {},
     "output_type": "display_data"
    },
    {
     "data": {
      "text/plain": [
       "<Figure size 640x480 with 0 Axes>"
      ]
     },
     "metadata": {},
     "output_type": "display_data"
    },
    {
     "data": {
      "text/plain": [
       "<Figure size 640x480 with 0 Axes>"
      ]
     },
     "metadata": {},
     "output_type": "display_data"
    },
    {
     "data": {
      "text/plain": [
       "<Figure size 640x480 with 0 Axes>"
      ]
     },
     "metadata": {},
     "output_type": "display_data"
    },
    {
     "data": {
      "text/plain": [
       "<Figure size 640x480 with 0 Axes>"
      ]
     },
     "metadata": {},
     "output_type": "display_data"
    },
    {
     "data": {
      "text/plain": [
       "<Figure size 640x480 with 0 Axes>"
      ]
     },
     "metadata": {},
     "output_type": "display_data"
    },
    {
     "data": {
      "text/plain": [
       "<Figure size 640x480 with 0 Axes>"
      ]
     },
     "metadata": {},
     "output_type": "display_data"
    },
    {
     "data": {
      "text/plain": [
       "<Figure size 640x480 with 0 Axes>"
      ]
     },
     "metadata": {},
     "output_type": "display_data"
    },
    {
     "data": {
      "text/plain": [
       "<Figure size 640x480 with 0 Axes>"
      ]
     },
     "metadata": {},
     "output_type": "display_data"
    },
    {
     "data": {
      "text/plain": [
       "<Figure size 640x480 with 0 Axes>"
      ]
     },
     "metadata": {},
     "output_type": "display_data"
    },
    {
     "data": {
      "text/plain": [
       "<Figure size 640x480 with 0 Axes>"
      ]
     },
     "metadata": {},
     "output_type": "display_data"
    },
    {
     "data": {
      "text/plain": [
       "<Figure size 640x480 with 0 Axes>"
      ]
     },
     "metadata": {},
     "output_type": "display_data"
    },
    {
     "data": {
      "text/plain": [
       "<Figure size 640x480 with 0 Axes>"
      ]
     },
     "metadata": {},
     "output_type": "display_data"
    },
    {
     "data": {
      "text/plain": [
       "<Figure size 640x480 with 0 Axes>"
      ]
     },
     "metadata": {},
     "output_type": "display_data"
    },
    {
     "data": {
      "text/plain": [
       "<Figure size 640x480 with 0 Axes>"
      ]
     },
     "metadata": {},
     "output_type": "display_data"
    },
    {
     "data": {
      "text/plain": [
       "<Figure size 640x480 with 0 Axes>"
      ]
     },
     "metadata": {},
     "output_type": "display_data"
    },
    {
     "data": {
      "text/plain": [
       "<Figure size 640x480 with 0 Axes>"
      ]
     },
     "metadata": {},
     "output_type": "display_data"
    },
    {
     "data": {
      "text/plain": [
       "<Figure size 640x480 with 0 Axes>"
      ]
     },
     "metadata": {},
     "output_type": "display_data"
    },
    {
     "data": {
      "text/plain": [
       "<Figure size 640x480 with 0 Axes>"
      ]
     },
     "metadata": {},
     "output_type": "display_data"
    },
    {
     "data": {
      "text/plain": [
       "<Figure size 640x480 with 0 Axes>"
      ]
     },
     "metadata": {},
     "output_type": "display_data"
    },
    {
     "data": {
      "text/plain": [
       "<Figure size 640x480 with 0 Axes>"
      ]
     },
     "metadata": {},
     "output_type": "display_data"
    },
    {
     "data": {
      "text/plain": [
       "<Figure size 640x480 with 0 Axes>"
      ]
     },
     "metadata": {},
     "output_type": "display_data"
    },
    {
     "data": {
      "text/plain": [
       "<Figure size 640x480 with 0 Axes>"
      ]
     },
     "metadata": {},
     "output_type": "display_data"
    },
    {
     "data": {
      "text/plain": [
       "<Figure size 640x480 with 0 Axes>"
      ]
     },
     "metadata": {},
     "output_type": "display_data"
    },
    {
     "data": {
      "text/plain": [
       "<Figure size 640x480 with 0 Axes>"
      ]
     },
     "metadata": {},
     "output_type": "display_data"
    },
    {
     "data": {
      "text/plain": [
       "<Figure size 640x480 with 0 Axes>"
      ]
     },
     "metadata": {},
     "output_type": "display_data"
    },
    {
     "data": {
      "text/plain": [
       "<Figure size 640x480 with 0 Axes>"
      ]
     },
     "metadata": {},
     "output_type": "display_data"
    },
    {
     "data": {
      "text/plain": [
       "<Figure size 640x480 with 0 Axes>"
      ]
     },
     "metadata": {},
     "output_type": "display_data"
    },
    {
     "data": {
      "text/plain": [
       "<Figure size 640x480 with 0 Axes>"
      ]
     },
     "metadata": {},
     "output_type": "display_data"
    },
    {
     "data": {
      "text/plain": [
       "<Figure size 640x480 with 0 Axes>"
      ]
     },
     "metadata": {},
     "output_type": "display_data"
    },
    {
     "data": {
      "text/plain": [
       "<Figure size 640x480 with 0 Axes>"
      ]
     },
     "metadata": {},
     "output_type": "display_data"
    },
    {
     "data": {
      "text/plain": [
       "<Figure size 640x480 with 0 Axes>"
      ]
     },
     "metadata": {},
     "output_type": "display_data"
    },
    {
     "data": {
      "text/plain": [
       "<Figure size 640x480 with 0 Axes>"
      ]
     },
     "metadata": {},
     "output_type": "display_data"
    },
    {
     "data": {
      "text/plain": [
       "<Figure size 640x480 with 0 Axes>"
      ]
     },
     "metadata": {},
     "output_type": "display_data"
    },
    {
     "data": {
      "text/plain": [
       "<Figure size 640x480 with 0 Axes>"
      ]
     },
     "metadata": {},
     "output_type": "display_data"
    },
    {
     "data": {
      "text/plain": [
       "<Figure size 640x480 with 0 Axes>"
      ]
     },
     "metadata": {},
     "output_type": "display_data"
    },
    {
     "data": {
      "text/plain": [
       "<Figure size 640x480 with 0 Axes>"
      ]
     },
     "metadata": {},
     "output_type": "display_data"
    },
    {
     "data": {
      "text/plain": [
       "<Figure size 640x480 with 0 Axes>"
      ]
     },
     "metadata": {},
     "output_type": "display_data"
    },
    {
     "data": {
      "text/plain": [
       "<Figure size 640x480 with 0 Axes>"
      ]
     },
     "metadata": {},
     "output_type": "display_data"
    },
    {
     "data": {
      "text/plain": [
       "<Figure size 640x480 with 0 Axes>"
      ]
     },
     "metadata": {},
     "output_type": "display_data"
    },
    {
     "data": {
      "text/plain": [
       "<Figure size 640x480 with 0 Axes>"
      ]
     },
     "metadata": {},
     "output_type": "display_data"
    },
    {
     "data": {
      "text/plain": [
       "<Figure size 640x480 with 0 Axes>"
      ]
     },
     "metadata": {},
     "output_type": "display_data"
    },
    {
     "data": {
      "text/plain": [
       "<Figure size 640x480 with 0 Axes>"
      ]
     },
     "metadata": {},
     "output_type": "display_data"
    },
    {
     "data": {
      "text/plain": [
       "<Figure size 640x480 with 0 Axes>"
      ]
     },
     "metadata": {},
     "output_type": "display_data"
    },
    {
     "data": {
      "text/plain": [
       "<Figure size 640x480 with 0 Axes>"
      ]
     },
     "metadata": {},
     "output_type": "display_data"
    },
    {
     "data": {
      "text/plain": [
       "<Figure size 640x480 with 0 Axes>"
      ]
     },
     "metadata": {},
     "output_type": "display_data"
    },
    {
     "data": {
      "text/plain": [
       "<Figure size 640x480 with 0 Axes>"
      ]
     },
     "metadata": {},
     "output_type": "display_data"
    },
    {
     "data": {
      "text/plain": [
       "<Figure size 640x480 with 0 Axes>"
      ]
     },
     "metadata": {},
     "output_type": "display_data"
    },
    {
     "data": {
      "text/plain": [
       "<Figure size 640x480 with 0 Axes>"
      ]
     },
     "metadata": {},
     "output_type": "display_data"
    },
    {
     "data": {
      "text/plain": [
       "<Figure size 640x480 with 0 Axes>"
      ]
     },
     "metadata": {},
     "output_type": "display_data"
    },
    {
     "data": {
      "text/plain": [
       "<Figure size 640x480 with 0 Axes>"
      ]
     },
     "metadata": {},
     "output_type": "display_data"
    },
    {
     "data": {
      "text/plain": [
       "<Figure size 640x480 with 0 Axes>"
      ]
     },
     "metadata": {},
     "output_type": "display_data"
    },
    {
     "data": {
      "text/plain": [
       "<Figure size 640x480 with 0 Axes>"
      ]
     },
     "metadata": {},
     "output_type": "display_data"
    },
    {
     "data": {
      "text/plain": [
       "<Figure size 640x480 with 0 Axes>"
      ]
     },
     "metadata": {},
     "output_type": "display_data"
    },
    {
     "data": {
      "text/plain": [
       "<Figure size 640x480 with 0 Axes>"
      ]
     },
     "metadata": {},
     "output_type": "display_data"
    },
    {
     "data": {
      "text/plain": [
       "<Figure size 640x480 with 0 Axes>"
      ]
     },
     "metadata": {},
     "output_type": "display_data"
    },
    {
     "data": {
      "text/plain": [
       "<Figure size 640x480 with 0 Axes>"
      ]
     },
     "metadata": {},
     "output_type": "display_data"
    },
    {
     "data": {
      "text/plain": [
       "<Figure size 640x480 with 0 Axes>"
      ]
     },
     "metadata": {},
     "output_type": "display_data"
    },
    {
     "data": {
      "text/plain": [
       "<Figure size 640x480 with 0 Axes>"
      ]
     },
     "metadata": {},
     "output_type": "display_data"
    },
    {
     "data": {
      "text/plain": [
       "<Figure size 640x480 with 0 Axes>"
      ]
     },
     "metadata": {},
     "output_type": "display_data"
    },
    {
     "data": {
      "text/plain": [
       "<Figure size 640x480 with 0 Axes>"
      ]
     },
     "metadata": {},
     "output_type": "display_data"
    },
    {
     "data": {
      "text/plain": [
       "<Figure size 640x480 with 0 Axes>"
      ]
     },
     "metadata": {},
     "output_type": "display_data"
    },
    {
     "data": {
      "text/plain": [
       "<Figure size 640x480 with 0 Axes>"
      ]
     },
     "metadata": {},
     "output_type": "display_data"
    },
    {
     "data": {
      "text/plain": [
       "<Figure size 640x480 with 0 Axes>"
      ]
     },
     "metadata": {},
     "output_type": "display_data"
    },
    {
     "data": {
      "text/plain": [
       "<Figure size 640x480 with 0 Axes>"
      ]
     },
     "metadata": {},
     "output_type": "display_data"
    },
    {
     "data": {
      "text/plain": [
       "<Figure size 640x480 with 0 Axes>"
      ]
     },
     "metadata": {},
     "output_type": "display_data"
    },
    {
     "data": {
      "text/plain": [
       "<Figure size 640x480 with 0 Axes>"
      ]
     },
     "metadata": {},
     "output_type": "display_data"
    },
    {
     "data": {
      "text/plain": [
       "<Figure size 640x480 with 0 Axes>"
      ]
     },
     "metadata": {},
     "output_type": "display_data"
    },
    {
     "data": {
      "text/plain": [
       "<Figure size 640x480 with 0 Axes>"
      ]
     },
     "metadata": {},
     "output_type": "display_data"
    },
    {
     "data": {
      "text/plain": [
       "<Figure size 640x480 with 0 Axes>"
      ]
     },
     "metadata": {},
     "output_type": "display_data"
    },
    {
     "data": {
      "text/plain": [
       "<Figure size 640x480 with 0 Axes>"
      ]
     },
     "metadata": {},
     "output_type": "display_data"
    },
    {
     "data": {
      "text/plain": [
       "<Figure size 640x480 with 0 Axes>"
      ]
     },
     "metadata": {},
     "output_type": "display_data"
    },
    {
     "data": {
      "text/plain": [
       "<Figure size 640x480 with 0 Axes>"
      ]
     },
     "metadata": {},
     "output_type": "display_data"
    },
    {
     "data": {
      "text/plain": [
       "<Figure size 640x480 with 0 Axes>"
      ]
     },
     "metadata": {},
     "output_type": "display_data"
    },
    {
     "data": {
      "text/plain": [
       "<Figure size 640x480 with 0 Axes>"
      ]
     },
     "metadata": {},
     "output_type": "display_data"
    },
    {
     "data": {
      "text/plain": [
       "<Figure size 640x480 with 0 Axes>"
      ]
     },
     "metadata": {},
     "output_type": "display_data"
    },
    {
     "data": {
      "text/plain": [
       "<Figure size 640x480 with 0 Axes>"
      ]
     },
     "metadata": {},
     "output_type": "display_data"
    },
    {
     "data": {
      "text/plain": [
       "<Figure size 640x480 with 0 Axes>"
      ]
     },
     "metadata": {},
     "output_type": "display_data"
    },
    {
     "data": {
      "text/plain": [
       "<Figure size 640x480 with 0 Axes>"
      ]
     },
     "metadata": {},
     "output_type": "display_data"
    },
    {
     "data": {
      "text/plain": [
       "<Figure size 640x480 with 0 Axes>"
      ]
     },
     "metadata": {},
     "output_type": "display_data"
    },
    {
     "data": {
      "text/plain": [
       "<Figure size 640x480 with 0 Axes>"
      ]
     },
     "metadata": {},
     "output_type": "display_data"
    },
    {
     "data": {
      "text/plain": [
       "<Figure size 640x480 with 0 Axes>"
      ]
     },
     "metadata": {},
     "output_type": "display_data"
    },
    {
     "data": {
      "text/plain": [
       "<Figure size 640x480 with 0 Axes>"
      ]
     },
     "metadata": {},
     "output_type": "display_data"
    },
    {
     "data": {
      "text/plain": [
       "<Figure size 640x480 with 0 Axes>"
      ]
     },
     "metadata": {},
     "output_type": "display_data"
    },
    {
     "data": {
      "text/plain": [
       "<Figure size 640x480 with 0 Axes>"
      ]
     },
     "metadata": {},
     "output_type": "display_data"
    },
    {
     "data": {
      "text/plain": [
       "<Figure size 640x480 with 0 Axes>"
      ]
     },
     "metadata": {},
     "output_type": "display_data"
    },
    {
     "data": {
      "text/plain": [
       "<Figure size 640x480 with 0 Axes>"
      ]
     },
     "metadata": {},
     "output_type": "display_data"
    },
    {
     "data": {
      "text/plain": [
       "<Figure size 640x480 with 0 Axes>"
      ]
     },
     "metadata": {},
     "output_type": "display_data"
    },
    {
     "data": {
      "text/plain": [
       "<Figure size 640x480 with 0 Axes>"
      ]
     },
     "metadata": {},
     "output_type": "display_data"
    },
    {
     "data": {
      "text/plain": [
       "<Figure size 640x480 with 0 Axes>"
      ]
     },
     "metadata": {},
     "output_type": "display_data"
    },
    {
     "data": {
      "text/plain": [
       "<Figure size 640x480 with 0 Axes>"
      ]
     },
     "metadata": {},
     "output_type": "display_data"
    },
    {
     "data": {
      "text/plain": [
       "<Figure size 640x480 with 0 Axes>"
      ]
     },
     "metadata": {},
     "output_type": "display_data"
    },
    {
     "data": {
      "text/plain": [
       "<Figure size 640x480 with 0 Axes>"
      ]
     },
     "metadata": {},
     "output_type": "display_data"
    },
    {
     "data": {
      "text/plain": [
       "<Figure size 640x480 with 0 Axes>"
      ]
     },
     "metadata": {},
     "output_type": "display_data"
    },
    {
     "data": {
      "text/plain": [
       "<Figure size 640x480 with 0 Axes>"
      ]
     },
     "metadata": {},
     "output_type": "display_data"
    },
    {
     "data": {
      "text/plain": [
       "<Figure size 640x480 with 0 Axes>"
      ]
     },
     "metadata": {},
     "output_type": "display_data"
    },
    {
     "data": {
      "text/plain": [
       "<Figure size 640x480 with 0 Axes>"
      ]
     },
     "metadata": {},
     "output_type": "display_data"
    },
    {
     "data": {
      "text/plain": [
       "<Figure size 640x480 with 0 Axes>"
      ]
     },
     "metadata": {},
     "output_type": "display_data"
    },
    {
     "data": {
      "text/plain": [
       "<Figure size 640x480 with 0 Axes>"
      ]
     },
     "metadata": {},
     "output_type": "display_data"
    },
    {
     "data": {
      "text/plain": [
       "<Figure size 640x480 with 0 Axes>"
      ]
     },
     "metadata": {},
     "output_type": "display_data"
    },
    {
     "data": {
      "text/plain": [
       "<Figure size 640x480 with 0 Axes>"
      ]
     },
     "metadata": {},
     "output_type": "display_data"
    },
    {
     "data": {
      "text/plain": [
       "<Figure size 640x480 with 0 Axes>"
      ]
     },
     "metadata": {},
     "output_type": "display_data"
    },
    {
     "data": {
      "text/plain": [
       "<Figure size 640x480 with 0 Axes>"
      ]
     },
     "metadata": {},
     "output_type": "display_data"
    },
    {
     "data": {
      "text/plain": [
       "<Figure size 640x480 with 0 Axes>"
      ]
     },
     "metadata": {},
     "output_type": "display_data"
    },
    {
     "data": {
      "text/plain": [
       "<Figure size 640x480 with 0 Axes>"
      ]
     },
     "metadata": {},
     "output_type": "display_data"
    },
    {
     "data": {
      "text/plain": [
       "<Figure size 640x480 with 0 Axes>"
      ]
     },
     "metadata": {},
     "output_type": "display_data"
    },
    {
     "data": {
      "text/plain": [
       "<Figure size 640x480 with 0 Axes>"
      ]
     },
     "metadata": {},
     "output_type": "display_data"
    },
    {
     "data": {
      "text/plain": [
       "<Figure size 640x480 with 0 Axes>"
      ]
     },
     "metadata": {},
     "output_type": "display_data"
    },
    {
     "data": {
      "text/plain": [
       "<Figure size 640x480 with 0 Axes>"
      ]
     },
     "metadata": {},
     "output_type": "display_data"
    },
    {
     "data": {
      "text/plain": [
       "<Figure size 640x480 with 0 Axes>"
      ]
     },
     "metadata": {},
     "output_type": "display_data"
    },
    {
     "data": {
      "text/plain": [
       "<Figure size 640x480 with 0 Axes>"
      ]
     },
     "metadata": {},
     "output_type": "display_data"
    },
    {
     "data": {
      "text/plain": [
       "<Figure size 640x480 with 0 Axes>"
      ]
     },
     "metadata": {},
     "output_type": "display_data"
    },
    {
     "data": {
      "text/plain": [
       "<Figure size 640x480 with 0 Axes>"
      ]
     },
     "metadata": {},
     "output_type": "display_data"
    },
    {
     "data": {
      "text/plain": [
       "<Figure size 640x480 with 0 Axes>"
      ]
     },
     "metadata": {},
     "output_type": "display_data"
    },
    {
     "data": {
      "text/plain": [
       "<Figure size 640x480 with 0 Axes>"
      ]
     },
     "metadata": {},
     "output_type": "display_data"
    },
    {
     "data": {
      "text/plain": [
       "<Figure size 640x480 with 0 Axes>"
      ]
     },
     "metadata": {},
     "output_type": "display_data"
    },
    {
     "data": {
      "text/plain": [
       "<Figure size 640x480 with 0 Axes>"
      ]
     },
     "metadata": {},
     "output_type": "display_data"
    },
    {
     "data": {
      "text/plain": [
       "<Figure size 640x480 with 0 Axes>"
      ]
     },
     "metadata": {},
     "output_type": "display_data"
    },
    {
     "data": {
      "text/plain": [
       "<Figure size 640x480 with 0 Axes>"
      ]
     },
     "metadata": {},
     "output_type": "display_data"
    },
    {
     "data": {
      "text/plain": [
       "<Figure size 640x480 with 0 Axes>"
      ]
     },
     "metadata": {},
     "output_type": "display_data"
    },
    {
     "data": {
      "text/plain": [
       "<Figure size 640x480 with 0 Axes>"
      ]
     },
     "metadata": {},
     "output_type": "display_data"
    },
    {
     "data": {
      "text/plain": [
       "<Figure size 640x480 with 0 Axes>"
      ]
     },
     "metadata": {},
     "output_type": "display_data"
    },
    {
     "data": {
      "text/plain": [
       "<Figure size 640x480 with 0 Axes>"
      ]
     },
     "metadata": {},
     "output_type": "display_data"
    },
    {
     "data": {
      "text/plain": [
       "<Figure size 640x480 with 0 Axes>"
      ]
     },
     "metadata": {},
     "output_type": "display_data"
    },
    {
     "data": {
      "text/plain": [
       "<Figure size 640x480 with 0 Axes>"
      ]
     },
     "metadata": {},
     "output_type": "display_data"
    },
    {
     "data": {
      "text/plain": [
       "<Figure size 640x480 with 0 Axes>"
      ]
     },
     "metadata": {},
     "output_type": "display_data"
    },
    {
     "data": {
      "text/plain": [
       "<Figure size 640x480 with 0 Axes>"
      ]
     },
     "metadata": {},
     "output_type": "display_data"
    },
    {
     "data": {
      "text/plain": [
       "<Figure size 640x480 with 0 Axes>"
      ]
     },
     "metadata": {},
     "output_type": "display_data"
    },
    {
     "data": {
      "text/plain": [
       "<Figure size 640x480 with 0 Axes>"
      ]
     },
     "metadata": {},
     "output_type": "display_data"
    },
    {
     "data": {
      "text/plain": [
       "<Figure size 640x480 with 0 Axes>"
      ]
     },
     "metadata": {},
     "output_type": "display_data"
    },
    {
     "data": {
      "text/plain": [
       "<Figure size 640x480 with 0 Axes>"
      ]
     },
     "metadata": {},
     "output_type": "display_data"
    },
    {
     "data": {
      "text/plain": [
       "<Figure size 640x480 with 0 Axes>"
      ]
     },
     "metadata": {},
     "output_type": "display_data"
    },
    {
     "data": {
      "text/plain": [
       "<Figure size 640x480 with 0 Axes>"
      ]
     },
     "metadata": {},
     "output_type": "display_data"
    },
    {
     "data": {
      "text/plain": [
       "<Figure size 640x480 with 0 Axes>"
      ]
     },
     "metadata": {},
     "output_type": "display_data"
    },
    {
     "data": {
      "text/plain": [
       "<Figure size 640x480 with 0 Axes>"
      ]
     },
     "metadata": {},
     "output_type": "display_data"
    },
    {
     "data": {
      "text/plain": [
       "<Figure size 640x480 with 0 Axes>"
      ]
     },
     "metadata": {},
     "output_type": "display_data"
    },
    {
     "data": {
      "text/plain": [
       "<Figure size 640x480 with 0 Axes>"
      ]
     },
     "metadata": {},
     "output_type": "display_data"
    },
    {
     "data": {
      "text/plain": [
       "<Figure size 640x480 with 0 Axes>"
      ]
     },
     "metadata": {},
     "output_type": "display_data"
    },
    {
     "data": {
      "text/plain": [
       "<Figure size 640x480 with 0 Axes>"
      ]
     },
     "metadata": {},
     "output_type": "display_data"
    },
    {
     "data": {
      "text/plain": [
       "<Figure size 640x480 with 0 Axes>"
      ]
     },
     "metadata": {},
     "output_type": "display_data"
    },
    {
     "data": {
      "text/plain": [
       "<Figure size 640x480 with 0 Axes>"
      ]
     },
     "metadata": {},
     "output_type": "display_data"
    },
    {
     "data": {
      "text/plain": [
       "<Figure size 640x480 with 0 Axes>"
      ]
     },
     "metadata": {},
     "output_type": "display_data"
    },
    {
     "data": {
      "text/plain": [
       "<Figure size 640x480 with 0 Axes>"
      ]
     },
     "metadata": {},
     "output_type": "display_data"
    },
    {
     "data": {
      "text/plain": [
       "<Figure size 640x480 with 0 Axes>"
      ]
     },
     "metadata": {},
     "output_type": "display_data"
    },
    {
     "data": {
      "text/plain": [
       "<Figure size 640x480 with 0 Axes>"
      ]
     },
     "metadata": {},
     "output_type": "display_data"
    },
    {
     "data": {
      "text/plain": [
       "<Figure size 640x480 with 0 Axes>"
      ]
     },
     "metadata": {},
     "output_type": "display_data"
    },
    {
     "data": {
      "text/plain": [
       "<Figure size 640x480 with 0 Axes>"
      ]
     },
     "metadata": {},
     "output_type": "display_data"
    },
    {
     "data": {
      "text/plain": [
       "<Figure size 640x480 with 0 Axes>"
      ]
     },
     "metadata": {},
     "output_type": "display_data"
    },
    {
     "data": {
      "text/plain": [
       "<Figure size 640x480 with 0 Axes>"
      ]
     },
     "metadata": {},
     "output_type": "display_data"
    },
    {
     "data": {
      "text/plain": [
       "<Figure size 640x480 with 0 Axes>"
      ]
     },
     "metadata": {},
     "output_type": "display_data"
    },
    {
     "data": {
      "text/plain": [
       "<Figure size 640x480 with 0 Axes>"
      ]
     },
     "metadata": {},
     "output_type": "display_data"
    },
    {
     "data": {
      "text/plain": [
       "<Figure size 640x480 with 0 Axes>"
      ]
     },
     "metadata": {},
     "output_type": "display_data"
    },
    {
     "data": {
      "text/plain": [
       "<Figure size 640x480 with 0 Axes>"
      ]
     },
     "metadata": {},
     "output_type": "display_data"
    },
    {
     "data": {
      "text/plain": [
       "<Figure size 640x480 with 0 Axes>"
      ]
     },
     "metadata": {},
     "output_type": "display_data"
    },
    {
     "data": {
      "text/plain": [
       "<Figure size 640x480 with 0 Axes>"
      ]
     },
     "metadata": {},
     "output_type": "display_data"
    }
   ],
   "source": [
    "for e in cms_cut.time.values:\n",
    "    cms_e = cms_cut.sel(time=cms_cut.time == e)\n",
    "    dfm_e = dfm_cut.sel(time=dfm_cut.time == e)\n",
    "    for i, n in enumerate(var):\n",
    "        \n",
    "        \n",
    "        #plot\n",
    "        fig, axes = plt.subplots(nrows=2)\n",
    "        if n == 'mesh2d_water_quality_output_9':\n",
    "            dfm_e[n].plot(ax=axes[0], vmin=0, vmax=100, cbar_kwargs={\"label\": f'{naming[i]} [{units[i]}]'})\n",
    "        else:\n",
    "            dfm_e[n].plot(ax=axes[0], cbar_kwargs={\"label\": f'{naming[i]} [{units[i]}]'})\n",
    "        cms_e.SPM.plot(ax=axes[1], vmax=100)\n",
    "            \n",
    "        fig.subplots_adjust(hspace=0.4)\n",
    "        plt.savefig(os.path.join(opath, 'matchup', f'''cmems-dfm-spatial-comparison-{e.astype(str)[:10].replace('-','')}-{naming[i]}.png'''))\n",
    "        print(f'figure printed for {e.astype(str)[:10]} {n}')\n",
    "        plt.clf()\n",
    " "
   ]
  }
 ],
 "metadata": {
  "kernelspec": {
   "display_name": "Python 3 (ipykernel)",
   "language": "python",
   "name": "python3"
  },
  "language_info": {
   "codemirror_mode": {
    "name": "ipython",
    "version": 3
   },
   "file_extension": ".py",
   "mimetype": "text/x-python",
   "name": "python",
   "nbconvert_exporter": "python",
   "pygments_lexer": "ipython3",
   "version": "3.9.13"
  }
 },
 "nbformat": 4,
 "nbformat_minor": 5
}
