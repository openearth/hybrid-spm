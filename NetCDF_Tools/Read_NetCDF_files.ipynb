{
 "cells": [
  {
   "cell_type": "code",
   "execution_count": 1,
   "id": "41333d44",
   "metadata": {},
   "outputs": [],
   "source": [
    "#This analysis aims to find paterns in SPM data (Satellite and Modelling data)."
   ]
  },
  {
   "cell_type": "code",
   "execution_count": null,
   "id": "c23dbf1e",
   "metadata": {},
   "outputs": [],
   "source": [
    "#!pip install xarray"
   ]
  },
  {
   "cell_type": "code",
   "execution_count": null,
   "id": "343d3ab3",
   "metadata": {},
   "outputs": [],
   "source": [
    "# -*- coding: utf-8 -*-\n",
    "\"\"\"\n",
    "Created on Tue Sep 13 11:27:34 2022\n",
    "\n",
    "@author: gwee\n",
    "\n",
    "remarks: spatial comparison between DFM and cmems\n",
    "\"\"\"\n",
    "\n",
    "import xarray as xr\n",
    "import matplotlib.pyplot as plt\n",
    "%matplotlib inline\n",
    "import os\n",
    "plt.rcParams.update({'figure.max_open_warning': 0})                                      #Q1. What does it line do?"
   ]
  },
  {
   "cell_type": "code",
   "execution_count": 3,
   "id": "0d8a1537",
   "metadata": {},
   "outputs": [],
   "source": [
    "from sys import platform\n",
    "if platform == 'linux':\n",
    "    cms = xr.open_dataset(\n",
    "        r\"/p/11206887-012-sito-is-2021-so-et-es/Data/CMEMS_Satellite_100mx100m/merged_2015-2020/2015_2020_P1D_HROC_L3-transp_NWS_31_32ULE_100m-v01.nc\")\n",
    "    dfm = xr.open_dataset(\n",
    "        r\"/p/11206887-012-sito-is-2021-so-et-es/Data/DFM_DWSM-FM_100m/Postprocessing_maps/DWSM-FM_100m_0000_map_regular_500_400_allvars.nc\")\n",
    "    opath = r\"/p/11206887-012-sito-is-2021-so-et-es/Analysis/Plots/Compare_CMEMS100m_Model100m/spatial-comparison\"\n",
    "else:\n",
    "    cms = xr.open_dataset(\n",
    "        r\"p:\\11206887-012-sito-is-2021-so-et-es\\Data\\CMEMS_Satellite_100mx100m\\merged_2015-2020\\2015_2020_P1D_HROC_L3-transp_NWS_31_32ULE_100m-v01.nc\")\n",
    "    dfm = xr.open_dataset(\n",
    "        r\"P:\\11206887-012-sito-is-2021-so-et-es\\Data\\DFM_DWSM-FM_100m\\Postprocessing_maps\\DWSM-FM_100m_0000_map_regular_500_400_allvars.nc\")\n",
    "    opath = r\"P:\\11206887-012-sito-is-2021-so-et-es\\Analysis\\Plots\\Compare_CMEMS100m_Model100m\\spatial-comparison\"\n",
    "\n",
    "var = [i for i in list(dfm.variables) if 'mesh' in i]\n",
    "units = [dfm[i].units for i in var]\n",
    "naming = ['salinity', 'temperature', 'SPM',\n",
    "          'depth', 'velocity', 'pressure', 'significant-wave-height']\n",
    "\n",
    "#cut dfm to boundaries of cmems\n",
    "dfm_cut = dfm.where(((dfm.lat <= cms.lat.max()) & (dfm.lat >= cms.lat.min()) \\\n",
    "                         & (dfm.lon <= cms.lon.max()) & (dfm.lon >= cms.lon.min())),drop=True)\n",
    "#cut cmems to temporal boundaries of dfm\n",
    "cms_cut = cms.sel(time=cms.time.dt.year == 2017)"
   ]
  },
  {
   "cell_type": "code",
   "execution_count": null,
   "id": "853106a0",
   "metadata": {},
   "outputs": [],
   "source": [
    "# # monthly\n",
    "for m in range(1,13):\n",
    "    cms_m = cms_cut.sel(time=cms_cut.time.dt.month == m).mean(dim='time')\n",
    "    dfm_m = dfm_cut.sel(time=dfm_cut.time.dt.month == m).mean(dim='time')\n",
    "    \n",
    "    for i, n in enumerate(var):\n",
    "        \n",
    "        #plot\n",
    "        fig, axes = plt.subplots(nrows=2)\n",
    "        if n == 'mesh2d_water_quality_output_9':\n",
    "            dfm_m[n].plot(ax=axes[0], vmin=0, vmax=100, cbar_kwargs={\"label\": f'{naming[i]} [{units[i]}]'})\n",
    "        else:\n",
    "            dfm_m[n].plot(ax=axes[0], cbar_kwargs={\"label\": f'{naming[i]} [{units[i]}]'})\n",
    "        \n",
    "        cms_m.SPM.plot(ax=axes[1], vmax=100)\n",
    "        \n",
    "        plt.savefig(os.path.join(opath, 'monthly', f'cmems-dfm-spatial-comparison-month{m}-{naming[i]}.png'))\n",
    "        print(f'figure generated for month {m} and {n}')\n",
    "        plt.clf()"
   ]
  },
  {
   "cell_type": "code",
   "execution_count": null,
   "id": "9b0a639a",
   "metadata": {},
   "outputs": [],
   "source": [
    "#year\n",
    "y = 2017\n",
    "\n",
    "cms_y = cms_cut.mean(dim='time')\n",
    "dfm_y = dfm_cut.sel(time=dfm_cut.time.dt.year == y).mean(dim='time')\n",
    "\n",
    "for i, n in enumerate(var):\n",
    "    \n",
    "    #plot\n",
    "    fig, axes = plt.subplots(nrows=2)\n",
    "    if n == 'mesh2d_water_quality_output_9':\n",
    "        dfm_y[n].plot(ax=axes[0], vmin=0, vmax=100, cbar_kwargs={\"label\": f'{naming[i]} [{units[i]}]'})\n",
    "    else:\n",
    "        dfm_y[n].plot(ax=axes[0], cbar_kwargs={\"label\": f'{naming[i]} [{units[i]}]'})\n",
    "    \n",
    "    cms_y.SPM.plot(ax=axes[1], vmax=100)\n",
    "    \n",
    "    fig.subplots_adjust(hspace=0.4)\n",
    "    plt.savefig(os.path.join(opath, 'yearly', f'cmems-dfm-spatial-comparison-year{y}-{naming[i]}.png'))\n",
    "    print(f'figure generated for {y} {n}')\n",
    "    plt.clf()       "
   ]
  },
  {
   "cell_type": "code",
   "execution_count": null,
   "id": "90d3922f",
   "metadata": {},
   "outputs": [],
   "source": [
    "for e in cms_cut.time.values:\n",
    "    cms_e = cms_cut.sel(time=cms_cut.time == e)\n",
    "    dfm_e = dfm_cut.sel(time=dfm_cut.time == e)\n",
    "    for i, n in enumerate(var):\n",
    "        \n",
    "        \n",
    "        #plot\n",
    "        fig, axes = plt.subplots(nrows=2)\n",
    "        if n == 'mesh2d_water_quality_output_9':\n",
    "            dfm_e[n].plot(ax=axes[0], vmin=0, vmax=100, cbar_kwargs={\"label\": f'{naming[i]} [{units[i]}]'})\n",
    "        else:\n",
    "            dfm_e[n].plot(ax=axes[0], cbar_kwargs={\"label\": f'{naming[i]} [{units[i]}]'})\n",
    "        cms_e.SPM.plot(ax=axes[1], vmax=100)\n",
    "            \n",
    "        fig.subplots_adjust(hspace=0.4)\n",
    "        plt.savefig(os.path.join(opath, 'matchup', f'''cmems-dfm-spatial-comparison-{e.astype(str)[:10].replace('-','')}-{naming[i]}.png'''))\n",
    "        print(f'figure printed for {e.astype(str)[:10]} {n}')\n",
    "        plt.clf()\n",
    " "
   ]
  },
  {
   "cell_type": "code",
   "execution_count": null,
   "id": "32c86dfd",
   "metadata": {},
   "outputs": [],
   "source": []
  },
  {
   "cell_type": "code",
   "execution_count": null,
   "id": "8c60ab5c",
   "metadata": {},
   "outputs": [],
   "source": []
  },
  {
   "cell_type": "code",
   "execution_count": null,
   "id": "42b7c98a",
   "metadata": {},
   "outputs": [],
   "source": []
  }
 ],
 "metadata": {
  "kernelspec": {
   "display_name": "Python 3",
   "language": "python",
   "name": "python3"
  },
  "language_info": {
   "codemirror_mode": {
    "name": "ipython",
    "version": 3
   },
   "file_extension": ".py",
   "mimetype": "text/x-python",
   "name": "python",
   "nbconvert_exporter": "python",
   "pygments_lexer": "ipython3",
   "version": "3.6.13"
  }
 },
 "nbformat": 4,
 "nbformat_minor": 5
}
