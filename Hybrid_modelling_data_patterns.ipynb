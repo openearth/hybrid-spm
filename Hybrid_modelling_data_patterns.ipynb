{
 "cells": [
  {
   "cell_type": "code",
   "execution_count": 1,
   "id": "151db125",
   "metadata": {},
   "outputs": [],
   "source": [
    "#This analysis aims to find paterns in SPM data (Satellite and Modelling data)."
   ]
  },
  {
   "cell_type": "code",
   "execution_count": null,
   "id": "2df14cad",
   "metadata": {},
   "outputs": [],
   "source": [
    "#!pip install xarray"
   ]
  },
  {
   "cell_type": "code",
   "execution_count": 4,
   "id": "0fa529e0",
   "metadata": {},
   "outputs": [],
   "source": [
    "# -*- coding: utf-8 -*-\n",
    "\"\"\"\n",
    "Created on Tue Sep 13 11:27:34 2022\n",
    "\n",
    "@author: gwee\n",
    "\n",
    "remarks: spatial comparison between DFM and cmems\n",
    "\"\"\"\n",
    "\n",
    "import xarray as xr\n",
    "import matplotlib.pyplot as plt\n",
    "import os\n",
    "plt.rcParams.update({'figure.max_open_warning': 0})                                      #Q1. What does it line do?"
   ]
  },
  {
   "cell_type": "code",
   "execution_count": 5,
   "id": "1f627bec",
   "metadata": {},
   "outputs": [],
   "source": [
    "from sys import platform\n",
    "if platform == 'linux':\n",
    "    cms = xr.open_dataset(\n",
    "        r\"/p/11206887-012-sito-is-2021-so-et-es/Data/CMEMS_Satellite_100mx100m/merged_2015-2020/2015_2020_P1D_HROC_L3-transp_NWS_31_32ULE_100m-v01.nc\")\n",
    "    dfm = xr.open_dataset(\n",
    "        r\"/p/11206887-012-sito-is-2021-so-et-es/Data/DFM_DWSM-FM_100m/Postprocessing_maps/DWSM-FM_100m_0000_map_regular_500_400_allvars.nc\")\n",
    "    opath = r\"/p/11206887-012-sito-is-2021-so-et-es/Analysis/Plots/Compare_CMEMS100m_Model100m/spatial-comparison\"\n",
    "else:\n",
    "    cms = xr.open_dataset(\n",
    "        r\"p:\\11206887-012-sito-is-2021-so-et-es\\Data\\CMEMS_Satellite_100mx100m\\merged_2015-2020\\2015_2020_P1D_HROC_L3-transp_NWS_31_32ULE_100m-v01.nc\")\n",
    "    dfm = xr.open_dataset(\n",
    "        r\"P:\\11206887-012-sito-is-2021-so-et-es\\Data\\DFM_DWSM-FM_100m\\Postprocessing_maps\\DWSM-FM_100m_0000_map_regular_500_400_allvars.nc\")\n",
    "    opath = r\"P:\\11206887-012-sito-is-2021-so-et-es\\Analysis\\Plots\\Compare_CMEMS100m_Model100m\\spatial-comparison\""
   ]
  },
  {
   "cell_type": "code",
   "execution_count": null,
   "id": "60154039",
   "metadata": {},
   "outputs": [],
   "source": []
  }
 ],
 "metadata": {
  "kernelspec": {
   "display_name": "Python 3",
   "language": "python",
   "name": "python3"
  },
  "language_info": {
   "codemirror_mode": {
    "name": "ipython",
    "version": 3
   },
   "file_extension": ".py",
   "mimetype": "text/x-python",
   "name": "python",
   "nbconvert_exporter": "python",
   "pygments_lexer": "ipython3",
   "version": "3.6.13"
  }
 },
 "nbformat": 4,
 "nbformat_minor": 5
}
